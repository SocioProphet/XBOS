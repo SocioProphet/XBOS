{
 "cells": [
  {
   "cell_type": "code",
   "execution_count": 2,
   "metadata": {},
   "outputs": [],
   "source": [
    "# getting the utils file here\n",
    "import os, sys\n",
    "import xbos_services_getter as xsg\n",
    "import xbos_services_utils3 as utils\n",
    "import datetime\n",
    "import calendar\n",
    "import pytz\n",
    "import numpy as np\n",
    "import pandas as pd\n"
   ]
  },
  {
   "cell_type": "markdown",
   "metadata": {},
   "source": [
    "# Process Actions\n",
    "Make the functions which correctly add the action features. Takes into account for how long an action has been going on and for how long an action has already stopped. "
   ]
  },
  {
   "cell_type": "markdown",
   "metadata": {},
   "source": [
    "## Motivation for how we add actions\n",
    "\n",
    "We try to learn the first n+1 discrete timesteps (e.g. in 5 min intervals) of the infinite convolution of the response function. We assume that n+1th timestep gives us the steady-state solution. \n",
    "\n",
    "Similarly, we learn the n+1 discrete timesteps of the tail of a convolution of the response function which reached steady state at one point. \n"
   ]
  },
  {
   "cell_type": "code",
   "execution_count": null,
   "metadata": {},
   "outputs": [],
   "source": [
    "def add_action_dummy_variable(data, num_start, num_end):\n",
    "    \"\"\"\n",
    "    Converting the action categorical variable to dummy variables (one hot encoding). Takes into account for how\n",
    "    long the action has been going.\n",
    "    :param data:\n",
    "    :param num_start: (int) The timesteps to count since the current action has started.\n",
    "    :param num_end: (int) The timesteps to count after the last action has ended.\n",
    "    :return:\n",
    "    \"\"\""
   ]
  }
 ],
 "metadata": {
  "kernelspec": {
   "display_name": "Python (venv-dr3)\n",
   "language": "python",
   "name": "venv-dr3"
  },
  "language_info": {
   "codemirror_mode": {
    "name": "ipython",
    "version": 3
   },
   "file_extension": ".py",
   "mimetype": "text/x-python",
   "name": "python",
   "nbconvert_exporter": "python",
   "pygments_lexer": "ipython3",
   "version": "3.6.8"
  }
 },
 "nbformat": 4,
 "nbformat_minor": 2
}
