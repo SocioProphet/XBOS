{
 "cells": [
  {
   "cell_type": "code",
   "execution_count": 2,
   "metadata": {
    "collapsed": true
   },
   "outputs": [],
   "source": [
    "import pandas as pd"
   ]
  },
  {
   "cell_type": "code",
   "execution_count": 3,
   "metadata": {
    "collapsed": true
   },
   "outputs": [],
   "source": [
    "folder = './prices_01012017_040172019/'\n",
    "files = {'PGE_A01': folder+'PGE_A01.csv',\n",
    "'PGE_A06' : folder+'PGE_A06.csv',\n",
    "'PGE_A10' : folder+'PGE_A10.csv',\n",
    "'PGE_E19' : folder+'PGE_E19.csv',\n",
    "'PGE_E20' : folder+'PGE_E20.csv',\n",
    "'PGE_FLAT06' : folder+'PGE_FLAT06.csv',\n",
    "'SCE_08B': folder+'SCE_08B.csv',\n",
    "'SCE_TGS3' : folder+'SCE_TGS3.csv'}"
   ]
  },
  {
   "cell_type": "code",
   "execution_count": 16,
   "metadata": {},
   "outputs": [
    {
     "name": "stdout",
     "output_type": "stream",
     "text": [
      "2017-01-04 12:00:00    0.20087\n",
      "2017-01-04 13:00:00    0.20087\n",
      "2017-01-04 14:00:00    0.20087\n",
      "2017-01-04 15:00:00    0.20087\n",
      "2017-01-04 16:00:00    0.20087\n",
      "Name: energy, dtype: float64\n",
      "2017-01-04 12:00:00    0.0\n",
      "2017-01-04 13:00:00    0.0\n",
      "2017-01-04 14:00:00    0.0\n",
      "2017-01-04 15:00:00    0.0\n",
      "2017-01-04 16:00:00    0.0\n",
      "Name: demand, dtype: float64\n"
     ]
    }
   ],
   "source": [
    "#read csv files into a data frame (one per tariff)\n",
    "pd_prices = {}\n",
    "for key, value in files.items():\n",
    "    pd_prices[key] = pd.read_csv(value, index_col=[0], parse_dates=False)\n",
    "    pd_prices[key] = pd_prices[key].fillna(0)\n",
    "    # fill out energy and demand prices from given columns (without deleting existing columns)\n",
    "    pd_prices[key]['energy']= pd_prices[key]['customer_energy_charge']+pd_prices[key]['pdp_non_event_energy_credit']+pd_prices[key]['pdp_event_energy_charge']\n",
    "    pd_prices[key]['demand']= pd_prices[key]['customer_demand_charge_season']+pd_prices[key]['pdp_non_event_demand_credit']+pd_prices[key]['customer_demand_charge_tou']\n",
    "# apparently this is the proper way to do demand charges for optimization\n",
    "# demandPricesALLTIME = pd_prices.customer_demand_charge_season.values + pd_prices.pdp_non_event_demand_credit.values\n",
    "# demandPricesTOU = pd_prices.customer_demand_charge_tou.values\n",
    "\n",
    "# Example get energy and demand prices for a particular start/end\n",
    "# You'll have to replace this with Daniel's method\n",
    "start = '2017-01-04 12:00:00'\n",
    "end = '2017-01-04 16:00:00'\n",
    "tariff = 'PGE_A06'\n",
    "print(pd_prices[tariff].loc[start:end]['energy'])\n",
    "print(pd_prices[tariff].loc[start:end]['demand'])"
   ]
  },
  {
   "cell_type": "code",
   "execution_count": null,
   "metadata": {
    "collapsed": true
   },
   "outputs": [],
   "source": []
  }
 ],
 "metadata": {
  "kernelspec": {
   "display_name": "Python 3",
   "language": "python",
   "name": "python3"
  },
  "language_info": {
   "codemirror_mode": {
    "name": "ipython",
    "version": 3
   },
   "file_extension": ".py",
   "mimetype": "text/x-python",
   "name": "python",
   "nbconvert_exporter": "python",
   "pygments_lexer": "ipython3",
   "version": "3.6.1"
  }
 },
 "nbformat": 4,
 "nbformat_minor": 2
}
