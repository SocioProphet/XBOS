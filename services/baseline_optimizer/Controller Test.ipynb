{
 "cells": [
  {
   "cell_type": "code",
   "execution_count": 1,
   "metadata": {},
   "outputs": [],
   "source": [
    "import datetime\n",
    "import pytz\n",
    "import grpc\n",
    "import baseline_optimizer_pb2\n",
    "import baseline_optimizer_pb2_grpc\n",
    "import xbos_services_getter as xsg"
   ]
  },
  {
   "cell_type": "code",
   "execution_count": 2,
   "metadata": {},
   "outputs": [],
   "source": [
    "XBOS_MICROSERVICES_HOST_ADDRESS=\"ms.xbos.io:9001\" \n",
    "temperature_bands_stub = xsg.get_temperature_band_stub(XBOS_MICROSERVICES_HOST_ADDRESS)\n",
    "occupancy_stub = xsg.get_occupancy_stub(XBOS_MICROSERVICES_HOST_ADDRESS)\n",
    "building_zone_names_stub = xsg.get_building_zone_names_stub(XBOS_MICROSERVICES_HOST_ADDRESS)\n",
    "\n",
    "channel = grpc.insecure_channel(\"localhost:50050\")\n",
    "baseline_optimizer_stub = baseline_optimizer_pb2_grpc.BaselineOptimizerStub(channel)"
   ]
  },
  {
   "cell_type": "code",
   "execution_count": 3,
   "metadata": {},
   "outputs": [
    {
     "name": "stdout",
     "output_type": "stream",
     "text": [
      "{'hvac_zone_centralzone': t_high    78\n",
      "t_low     74\n",
      "unit       F\n",
      "Name: 2019-06-05 09:00:00-07:00, dtype: object, 'hvac_zone_eastzone': t_high    78\n",
      "t_low     74\n",
      "unit       F\n",
      "Name: 2019-06-05 09:00:00-07:00, dtype: object, 'hvac_zone_northzone': t_high    78\n",
      "t_low     74\n",
      "unit       F\n",
      "Name: 2019-06-05 09:00:00-07:00, dtype: object, 'hvac_zone_southzone': t_high    78\n",
      "t_low     74\n",
      "unit       F\n",
      "Name: 2019-06-05 09:00:00-07:00, dtype: object}\n",
      "{'hvac_zone_centralzone': t_high    86\n",
      "t_low     54\n",
      "unit       F\n",
      "Name: 2019-06-05 09:00:00-07:00, dtype: object, 'hvac_zone_eastzone': t_high    86\n",
      "t_low     54\n",
      "unit       F\n",
      "Name: 2019-06-05 09:00:00-07:00, dtype: object, 'hvac_zone_northzone': t_high    86\n",
      "t_low     54\n",
      "unit       F\n",
      "Name: 2019-06-05 09:00:00-07:00, dtype: object, 'hvac_zone_southzone': t_high    86\n",
      "t_low     54\n",
      "unit       F\n",
      "Name: 2019-06-05 09:00:00-07:00, dtype: object}\n",
      "{'hvac_zone_centralzone': occupancy    1.0\n",
      "Name: 2019-06-05 09:00:00-07:00, dtype: float64, 'hvac_zone_eastzone': occupancy    1.0\n",
      "Name: 2019-06-05 09:00:00-07:00, dtype: float64, 'hvac_zone_northzone': occupancy    1.0\n",
      "Name: 2019-06-05 09:00:00-07:00, dtype: float64, 'hvac_zone_southzone': occupancy    1.0\n",
      "Name: 2019-06-05 09:00:00-07:00, dtype: float64}\n",
      "normal {'hvac_zone_centralzone': 0, 'hvac_zone_eastzone': 2, 'hvac_zone_northzone': 2, 'hvac_zone_southzone': 2}\n",
      "expansion {'hvac_zone_northzone': 2, 'hvac_zone_southzone': 2, 'hvac_zone_centralzone': 0, 'hvac_zone_eastzone': 2}\n",
      "demand {'hvac_zone_centralzone': 0, 'hvac_zone_eastzone': 2, 'hvac_zone_northzone': 2, 'hvac_zone_southzone': 2}\n"
     ]
    }
   ],
   "source": [
    "building = \"ciee\"\n",
    "zones = xsg.get_zones(building_zone_names_stub,building)\n",
    "start = pytz.timezone(\"US/Pacific\").localize(datetime.datetime(year=2019, month=6, day=5, hour=9, minute=0))\n",
    "end = start + datetime.timedelta(hours=1)\n",
    "start = start.replace(microsecond=0)\n",
    "end = end.replace(microsecond=0)\n",
    "start_unix = int(start.timestamp() * 1e9)\n",
    "end_unix = int(end.timestamp() * 1e9)\n",
    "\n",
    "window = \"1h\"\n",
    "unit = \"F\"\n",
    "occupancy = False\n",
    "do_not_exceed = True\n",
    "max_zones = int(len(zones)/2)\n",
    "include_all_zones = True\n",
    "starting_temperatures = {}\n",
    "expansion_degrees = {}\n",
    "comfort_band = {}\n",
    "occupancy_prop = {}\n",
    "do_not_exceed_band = {}\n",
    "\n",
    "t = 84\n",
    "for zone in zones:\n",
    "    t += 1\n",
    "    starting_temperatures[zone] = t\n",
    "    expansion_degrees[zone] = 10.0\n",
    "    comfort_band[zone] = xsg.get_comfortband(temperature_bands_stub,building,zone,start,end,window).iloc[0]\n",
    "    occupancy_prop[zone] = xsg.get_occupancy(occupancy_stub,building,zone,start,end,window).iloc[0]\n",
    "    do_not_exceed_band[zone]= xsg.get_do_not_exceed(temperature_bands_stub,building,zone,start,end,window).iloc[0]\n",
    "print(comfort_band)\n",
    "print(do_not_exceed_band)\n",
    "print(occupancy_prop)\n",
    "normal_actions = baseline_optimizer_stub.GetNormalScheduleAction(baseline_optimizer_pb2.NormalScheduleRequest(building=building,zones=zones,start=start_unix,end=end_unix,window=window,starting_temperatures=starting_temperatures,unit=unit,occupancy=occupancy,do_not_exceed=do_not_exceed))\n",
    "print(\"normal\",normal_actions.actions)\n",
    "expansion_actions = baseline_optimizer_stub.GetSetpointExpansionAction(baseline_optimizer_pb2.SetpointExpansionRequest(building=building,zones=zones,start=start_unix,end=end_unix,window=window,starting_temperatures=starting_temperatures,unit=unit,occupancy=occupancy,do_not_exceed=do_not_exceed,expansion_degrees=expansion_degrees))\n",
    "print(\"expansion\",expansion_actions.actions)\n",
    "demand_charge_actions = baseline_optimizer_stub.GetDemandChargeAction(baseline_optimizer_pb2.DemandChargeRequest(building=building,zones=zones,start=start_unix,end=end_unix,window=window,starting_temperatures=starting_temperatures,unit=unit,occupancy=occupancy,do_not_exceed=do_not_exceed,max_zones=max_zones,include_all_zones=include_all_zones))\n",
    "print(\"demand\",demand_charge_actions.actions)"
   ]
  },
  {
   "cell_type": "code",
   "execution_count": null,
   "metadata": {},
   "outputs": [],
   "source": []
  }
 ],
 "metadata": {
  "kernelspec": {
   "display_name": "Python 3",
   "language": "python",
   "name": "python3"
  },
  "language_info": {
   "codemirror_mode": {
    "name": "ipython",
    "version": 3
   },
   "file_extension": ".py",
   "mimetype": "text/x-python",
   "name": "python",
   "nbconvert_exporter": "python",
   "pygments_lexer": "ipython3",
   "version": "3.6.8"
  }
 },
 "nbformat": 4,
 "nbformat_minor": 2
}
