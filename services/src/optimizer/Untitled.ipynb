{
 "cells": [
  {
   "cell_type": "code",
   "execution_count": 1,
   "metadata": {},
   "outputs": [],
   "source": [
    "import time\n",
    "import datetime\n",
    "import pytz\n",
    "import calendar\n",
    "import itertools\n",
    "import pandas as pd"
   ]
  },
  {
   "cell_type": "code",
   "execution_count": 2,
   "metadata": {},
   "outputs": [],
   "source": [
    "# getting the utils file here\n",
    "import os, sys\n",
    "sys.path.insert(0, '../')\n",
    "import utils3 as utils"
   ]
  },
  {
   "cell_type": "code",
   "execution_count": 3,
   "metadata": {},
   "outputs": [],
   "source": [
    "import datetime\n",
    "import sys\n",
    "\n",
    "import networkx as nx\n",
    "import numpy as np\n",
    "import os\n",
    "import pandas as pd\n",
    "import plotly.offline as py\n",
    "import pytz\n",
    "\n",
    "sys.path.insert(0, '../')\n",
    "# import utils\n",
    "# from utils import plotly_figure\n",
    "\n",
    "import itertools"
   ]
  },
  {
   "cell_type": "code",
   "execution_count": 19,
   "metadata": {},
   "outputs": [],
   "source": [
    "class OptimizerParent:\n",
    "    def __init__(self, building, zones, start, end, window):\n",
    "        \n",
    "        self.start = start\n",
    "        self.unix_start = start.timestamp() * 1e9\n",
    "        self.end = end\n",
    "        self.unix_end = end.timestamp() * 1e9\n",
    "        self.window = window  # timedelta\n",
    "        \n",
    "        self.building = building\n",
    "        self.zones = zones \n",
    "        \n",
    "        # Documentation: All data here is in timeseries starting exactly at start and every step corresponds to one \n",
    "        # interval. The end is not inclusive.\n",
    "        \n",
    "        # temperature band\n",
    "        temperature_band_channel = grpc.insecure_channel(TEMPERATURE_BAND_ADDRESS)\n",
    "        temperature_band_stub = schedules_pb2_grpc.SchedulesStub(temperature_band_channel)\n",
    "        self.comfortband = {iter_zone: get_comfortband(temperature_band_stub, self.building, iter_zone, self.start, self.end, self.window)\n",
    "                              for iter_zone in self.zones}\n",
    "        self.do_not_exceed = {iter_zone: get_do_not_exceed(temperature_band_stub, self.building, iter_zone, self.start, self.end, self.window)\n",
    "                              for iter_zone in self.zones}\n",
    "        \n",
    "        # occupancy\n",
    "        occupancy_channel = grpc.insecure_channel(OCCUPANCY_ADDRESS)\n",
    "        occupancy_stub = occupancy_pb2_grpc.OccupancyStub(occupancy_channel)\n",
    "        self.occupancy = {iter_zone: get_occupancy(occupancy_stub, self.building, iter_zone, self.start, self.end, self.window)\n",
    "                         for iter_zone in self.zones}\n",
    "        \n",
    "        # outdoor temperatures\n",
    "        outdoor_historic_channel = grpc.insecure_channel(OUTSIDE_HISTORICAL)\n",
    "        outdoor_historic_stub = outdoor_temperature_historical_pb2_grpc.OutdoorTemperatureStub(outdoor_historic_channel)\n",
    "        outdoor_prediction_channel = grpc.insecure_channel(OUTSIDE_PREDICTION)\n",
    "        outdoor_prediction_stub = outdoor_temperature_prediction_pb2_grpc.OutdoorTemperatureStub(outdoor_prediction_channel)\n",
    "\n",
    "#         self.outdoor_temperatures = get_outside_temperature(\n",
    "#             outdoor_historic_stub, outdoor_prediction_stub, self.building, self.start, self.end, self.window)\n",
    "\n",
    "        # discomfort channel \n",
    "        discomfort_channel = grpc.insecure_channel(DISCOMFORT_ADDRESS)\n",
    "        self.discomfort_stub = discomfort_pb2_grpc.DiscomfortStub(discomfort_channel)\n",
    "        \n",
    "        # HVAC Consumption\n",
    "        hvac_consumption_channel = grpc.insecure_channel(HVAC_CONSUMPTION_ADDRESS)\n",
    "        hvac_consumption_stub = hvac_consumption_pb2_grpc.ConsumptionHVACStub(hvac_consumption_channel)        \n",
    "        self.hvac_consumption = {iter_zone: get_hvac_consumption(hvac_consumption_stub, building, iter_zone) \n",
    "                                 for iter_zone in self.zones}\n",
    "        \n",
    "        # TODO Prices\n",
    "        \n"
   ]
  },
  {
   "cell_type": "code",
   "execution_count": 112,
   "metadata": {},
   "outputs": [],
   "source": [
    "\n",
    "# TODO Demand charges right now assume constant demand charge throughout interval. should be easy to extend\n",
    "# TODO but need to keep in mind that we need to then store the cost of demand charge and not the consumption\n",
    "# TODO in the graph, since we actually only want to minimize cost and not consumption.\n",
    "\n",
    "\n",
    "class Node:\n",
    "    \"\"\"\n",
    "    # this is a Node of the graph for the shortest path\n",
    "    \"\"\"\n",
    "\n",
    "    def __init__(self, temperatures, timestep):\n",
    "        self.temperatures = temperatures\n",
    "        self.timestep = timestep\n",
    "\n",
    "    def __hash__(self):\n",
    "        return hash((' '.join(str(e) for e in self.temperatures), self.timestep))\n",
    "\n",
    "    def __eq__(self, other):\n",
    "        return isinstance(other, self.__class__) \\\n",
    "               and self.temperatures == other.temperatures \\\n",
    "               and self.timestep == other.timestep\n",
    "\n",
    "    def __repr__(self):\n",
    "        return \"{0}-{1}\".format(self.timestep, self.temperatures)\n",
    "\n",
    "\n",
    "class MPC(OptimizerParent):\n",
    "    \"\"\"MPC Optimizer. \n",
    "    No Demand Charges and Two Stage actions implemented.\"\"\"\n",
    "    \n",
    "    def __init__(self, building, zones, start, end, window, lambda_val,\n",
    "                 root=Node([75], 0), debug=False):\n",
    "        \"\"\"\n",
    "        initialize instance variables\n",
    "        \n",
    "        :param building: (str) building name\n",
    "        :param zones: [str] zone names\n",
    "        :param start: (datetime timezone aware) \n",
    "        :param end: (datetime timezone aware) \n",
    "        :param window: (str) the interval in which to split the data.\n",
    "        :param lambda_val: (float) lambda value for opjective function\n",
    "        :param root: (Node) the node at which to start\n",
    "\n",
    "        \"\"\"\n",
    "        super().__init__(building, zones, start, end, window)\n",
    "\n",
    "        self.root = root\n",
    "        self.lambda_val = lambda_val\n",
    "        self.debug = debug\n",
    "\n",
    "        self.g = nx.DiGraph()  # [TODO:Changed to MultiDiGraph... FIX print]\n",
    "        \n",
    "    def safety_check(self, node):\n",
    "        for iter_zone in self.zones:\n",
    "            curr_temperature = node.temperatures[iter_zone]\n",
    "            curr_safety = self.do_not_exceed[iter_zone].iloc[node.timestep]\n",
    "            if not (curr_safety[\"t_low\"] <= curr_temperature <= curr_safety[\"t_high\"]):\n",
    "                return False\n",
    "        return True\n",
    "    \n",
    "    def timestep_to_datetime(self, timestep):\n",
    "        return start + timestep*datetime.timedelta(seconds=utils.get_window_in_sec(self.window))\n",
    "\n",
    "    # the shortest path algorithm\n",
    "    def shortest_path(self, root):\n",
    "        \"\"\"\n",
    "        Creates the graph using DFS and calculates the shortest path\n",
    "    \n",
    "        :param root: node being examined right now and needs to be added to graph. \n",
    "        \n",
    "        :return root Node if root added else return None. \n",
    "        \n",
    "        \"\"\"\n",
    "        \n",
    "        if root is None:\n",
    "            return None\n",
    "        \n",
    "        if root in self.g:\n",
    "            return root\n",
    "                \n",
    "        # stop if node is past predictive horizon\n",
    "        if self.timestep_to_datetime(root.timestep) >= self.end:\n",
    "            self.g.add_node(root, objective_cost=0, best_action=None, best_successor=None) # no cost as leaf node\n",
    "            return root\n",
    "        \n",
    "        # check if valid node\n",
    "        if not self.safety_check(root):\n",
    "            return None\n",
    "        \n",
    "        self.g.add_node(root, objective_cost=np.inf, best_action=None, best_successor=None)\n",
    "\n",
    "        # creating children, adding corresponding edge and updating root's objective cost\n",
    "        for action in itertools.product([utils.NO_ACTION, utils.HEATING_ACTION, utils.COOLING_ACTION], \n",
    "                                       repeat=len(self.zones)):\n",
    "                \n",
    "            # TODO Compute temperatures properly\n",
    "            temperatures = {}\n",
    "            for i in range(len(self.zones)):\n",
    "                 temperatures[self.zones[i]] = root.temperatures[self.zones[i]] + \\\n",
    "                                                    1 * (action[i]==1) - 1*(action[i]==2)\n",
    "\n",
    "            child_node = Node(\n",
    "                temperatures=temperatures,\n",
    "                timestep=root.timestep + 1\n",
    "                )\n",
    "\n",
    "            child_node = self.shortest_path(child_node)\n",
    "            if child_node is None:\n",
    "                continue\n",
    "\n",
    "            # get discomfort across edge\n",
    "            discomfort = {}\n",
    "            for iter_zone in self.zones:\n",
    "                curr_comfortband = self.comfortband[iter_zone].iloc[root.timestep]\n",
    "                curr_occupancy = self.occupancy[iter_zone].iloc[root.timestep]\n",
    "                average_edge_temperature = (root.temperatures[iter_zone] + child_node.temperatures[iter_zone])/2.\n",
    "\n",
    "                discomfort[iter_zone] = get_discomfort(\n",
    "                    self.discomfort_stub, self.building, average_edge_temperature,\n",
    "                    curr_comfortband[\"t_low\"], curr_comfortband[\"t_high\"], \n",
    "                    curr_occupancy)\n",
    "\n",
    "            # Get consumption across edge\n",
    "            price = 1  # self.prices.iloc[root.timestep] TODO also add right unit conversion, and duration\n",
    "            consumption_cost = {self.zones[i]: price * self.hvac_consumption[self.zones[i]][action[i]] \n",
    "                               for i in range(len(self.zones))}\n",
    "\n",
    "            # add edge \n",
    "            self.g.add_edge(root, child_node, action=action, discomfort=discomfort, consumption_cost=consumption_cost)\n",
    "\n",
    "            # update root node to contain the best child.\n",
    "            total_edge_cost = ((1 - self.lambda_val) * (sum(consumption_cost.values()))) + (\n",
    "                self.lambda_val * (sum(discomfort.values())))\n",
    "            \n",
    "            objective_cost = self.g.node[child_node][\"objective_cost\"] + total_edge_cost\n",
    "\n",
    "            if objective_cost < self.g.node[root][\"objective_cost\"]:\n",
    "                self.g.node[root][\"objective_cost\"] = objective_cost\n",
    "                self.g.node[root][\"best_action\"] = action\n",
    "                self.g.node[root][\"best_successor\"] = child_node\n",
    "                \n",
    "        return root\n",
    " \n",
    "    def reconstruct_path(self, root):\n",
    "        \"\"\"\n",
    "        Util function that reconstructs the best action path\n",
    "        Parameters\n",
    "        ----------\n",
    "        graph : networkx graph\n",
    "\n",
    "        Returns\n",
    "        -------\n",
    "        List\n",
    "        \"\"\"\n",
    "        graph = self.g \n",
    "        \n",
    "        if root not in self.g:\n",
    "            raise Exception(\"Root does not exist in MPC graph.\")\n",
    "\n",
    "        \n",
    "        path = [root]\n",
    "\n",
    "        while graph.node[root]['best_successor'] is not None:\n",
    "            root = graph.node[root]['best_successor']\n",
    "            path.append(root)\n",
    "\n",
    "        return path\n",
    "    \n",
    "#     def g_plot(self, zone):\n",
    "#         try:\n",
    "#             os.remove('mpc_graph_' + zone + '.html')\n",
    "#         except OSError:\n",
    "#             pass\n",
    "\n",
    "#         fig = plotly_figure(self.advise_unit.g, path=self.path)\n",
    "#         py.plot(fig, filename='mpc_graph_' + zone + '.html', auto_open=False)\n"
   ]
  },
  {
   "cell_type": "code",
   "execution_count": 121,
   "metadata": {},
   "outputs": [
    {
     "name": "stdout",
     "output_type": "stream",
     "text": [
      "2019-02-03 02:16:22.056157+00:00\n",
      "1549160182.056157\n"
     ]
    }
   ],
   "source": [
    "\n",
    "end = datetime.datetime.utcnow().replace(tzinfo=pytz.utc)\n",
    "start =  end - datetime.timedelta(hours=4)\n",
    "print(start)\n",
    "print(start.timestamp())\n",
    "bldg = \"avenal-animal-shelter\"\n",
    "zone = \"HVAC_Zone_Shelter_Corridor\"\n",
    "window = \"15m\"\n",
    "\n",
    "# print(get_do_not_exceed(temperature_band_stub, bldg, zone, start, end, window))\n",
    "# print(get_discomfort(discomfort_stub, bldg, 78, 65, 75, 1))\n",
    "# print(get_hvac_consumption(hvac_consumption_stub, bldg, zone))\n",
    "op = MPC(bldg, [zone], start, end, window, 0.995)"
   ]
  },
  {
   "cell_type": "code",
   "execution_count": 122,
   "metadata": {},
   "outputs": [],
   "source": [
    "root = Node({zone: 85}, 0)\n",
    "op.occupancy[zone][:] = 1"
   ]
  },
  {
   "cell_type": "code",
   "execution_count": 123,
   "metadata": {},
   "outputs": [
    {
     "data": {
      "text/plain": [
       "{'HVAC_Zone_Shelter_Corridor': 2019-02-03 02:16:22.056157+00:00    1.0\n",
       " 2019-02-03 02:31:22.056157+00:00    1.0\n",
       " 2019-02-03 02:46:22.056157+00:00    1.0\n",
       " 2019-02-03 03:01:22.056157+00:00    1.0\n",
       " 2019-02-03 03:16:22.056157+00:00    1.0\n",
       " 2019-02-03 03:31:22.056157+00:00    1.0\n",
       " 2019-02-03 03:46:22.056157+00:00    1.0\n",
       " 2019-02-03 04:01:22.056157+00:00    1.0\n",
       " 2019-02-03 04:16:22.056157+00:00    1.0\n",
       " 2019-02-03 04:31:22.056157+00:00    1.0\n",
       " 2019-02-03 04:46:22.056157+00:00    1.0\n",
       " 2019-02-03 05:01:22.056157+00:00    1.0\n",
       " 2019-02-03 05:16:22.056157+00:00    1.0\n",
       " 2019-02-03 05:31:22.056157+00:00    1.0\n",
       " 2019-02-03 05:46:22.056157+00:00    1.0\n",
       " 2019-02-03 06:01:22.056157+00:00    1.0\n",
       " Freq: 900S, dtype: float64}"
      ]
     },
     "execution_count": 123,
     "metadata": {},
     "output_type": "execute_result"
    }
   ],
   "source": [
    "op.occupancy"
   ]
  },
  {
   "cell_type": "code",
   "execution_count": 124,
   "metadata": {},
   "outputs": [
    {
     "name": "stdout",
     "output_type": "stream",
     "text": [
      "{'HVAC_Zone_Shelter_Corridor': 0.5}\n",
      "{'HVAC_Zone_Shelter_Corridor': 0.0}\n",
      "{'HVAC_Zone_Shelter_Corridor': 0.5}\n",
      "{'HVAC_Zone_Shelter_Corridor': 0.0}\n",
      "{'HVAC_Zone_Shelter_Corridor': 0.5}\n",
      "{'HVAC_Zone_Shelter_Corridor': 0.0}\n",
      "{'HVAC_Zone_Shelter_Corridor': 0.5}\n",
      "{'HVAC_Zone_Shelter_Corridor': 0.0}\n",
      "{'HVAC_Zone_Shelter_Corridor': 0.0}\n",
      "{'HVAC_Zone_Shelter_Corridor': 0.0}\n",
      "{'HVAC_Zone_Shelter_Corridor': 0.0}\n",
      "{'HVAC_Zone_Shelter_Corridor': 0.5}\n",
      "{'HVAC_Zone_Shelter_Corridor': 0.0}\n",
      "{'HVAC_Zone_Shelter_Corridor': 0.5}\n",
      "{'HVAC_Zone_Shelter_Corridor': 0.0}\n",
      "{'HVAC_Zone_Shelter_Corridor': 0.0}\n",
      "{'HVAC_Zone_Shelter_Corridor': 0.0}\n",
      "{'HVAC_Zone_Shelter_Corridor': 0.0}\n",
      "{'HVAC_Zone_Shelter_Corridor': 0.0}\n",
      "{'HVAC_Zone_Shelter_Corridor': 0.0}\n",
      "{'HVAC_Zone_Shelter_Corridor': 0.0}\n",
      "{'HVAC_Zone_Shelter_Corridor': 0.5}\n",
      "{'HVAC_Zone_Shelter_Corridor': 0.0}\n",
      "{'HVAC_Zone_Shelter_Corridor': 0.5}\n",
      "{'HVAC_Zone_Shelter_Corridor': 0.0}\n",
      "{'HVAC_Zone_Shelter_Corridor': 0.0}\n",
      "{'HVAC_Zone_Shelter_Corridor': 0.0}\n",
      "{'HVAC_Zone_Shelter_Corridor': 0.0}\n",
      "{'HVAC_Zone_Shelter_Corridor': 0.0}\n",
      "{'HVAC_Zone_Shelter_Corridor': 0.0}\n",
      "{'HVAC_Zone_Shelter_Corridor': 0.0}\n",
      "{'HVAC_Zone_Shelter_Corridor': 0.0}\n",
      "{'HVAC_Zone_Shelter_Corridor': 0.0}\n",
      "{'HVAC_Zone_Shelter_Corridor': 0.0}\n",
      "{'HVAC_Zone_Shelter_Corridor': 0.5}\n",
      "{'HVAC_Zone_Shelter_Corridor': 0.0}\n",
      "{'HVAC_Zone_Shelter_Corridor': 0.5}\n",
      "{'HVAC_Zone_Shelter_Corridor': 0.0}\n",
      "{'HVAC_Zone_Shelter_Corridor': 0.0}\n",
      "{'HVAC_Zone_Shelter_Corridor': 0.0}\n",
      "{'HVAC_Zone_Shelter_Corridor': 0.0}\n",
      "{'HVAC_Zone_Shelter_Corridor': 0.0}\n",
      "{'HVAC_Zone_Shelter_Corridor': 0.0}\n",
      "{'HVAC_Zone_Shelter_Corridor': 0.0}\n",
      "{'HVAC_Zone_Shelter_Corridor': 0.0}\n",
      "{'HVAC_Zone_Shelter_Corridor': 0.0}\n",
      "{'HVAC_Zone_Shelter_Corridor': 0.0}\n",
      "{'HVAC_Zone_Shelter_Corridor': 0.0}\n",
      "{'HVAC_Zone_Shelter_Corridor': 0.0}\n",
      "{'HVAC_Zone_Shelter_Corridor': 0.0}\n",
      "{'HVAC_Zone_Shelter_Corridor': 0.5}\n",
      "{'HVAC_Zone_Shelter_Corridor': 0.0}\n",
      "{'HVAC_Zone_Shelter_Corridor': 0.5}\n",
      "{'HVAC_Zone_Shelter_Corridor': 0.0}\n",
      "{'HVAC_Zone_Shelter_Corridor': 0.0}\n",
      "{'HVAC_Zone_Shelter_Corridor': 0.0}\n",
      "{'HVAC_Zone_Shelter_Corridor': 0.0}\n",
      "{'HVAC_Zone_Shelter_Corridor': 0.0}\n",
      "{'HVAC_Zone_Shelter_Corridor': 0.0}\n",
      "{'HVAC_Zone_Shelter_Corridor': 0.0}\n",
      "{'HVAC_Zone_Shelter_Corridor': 0.0}\n",
      "{'HVAC_Zone_Shelter_Corridor': 0.0}\n",
      "{'HVAC_Zone_Shelter_Corridor': 0.0}\n",
      "{'HVAC_Zone_Shelter_Corridor': 0.0}\n",
      "{'HVAC_Zone_Shelter_Corridor': 0.0}\n",
      "{'HVAC_Zone_Shelter_Corridor': 0.0}\n",
      "{'HVAC_Zone_Shelter_Corridor': 0.0}\n",
      "{'HVAC_Zone_Shelter_Corridor': 0.0}\n",
      "{'HVAC_Zone_Shelter_Corridor': 0.0}\n",
      "{'HVAC_Zone_Shelter_Corridor': 0.5}\n",
      "{'HVAC_Zone_Shelter_Corridor': 0.0}\n",
      "{'HVAC_Zone_Shelter_Corridor': 0.5}\n",
      "{'HVAC_Zone_Shelter_Corridor': 0.0}\n",
      "{'HVAC_Zone_Shelter_Corridor': 0.0}\n",
      "{'HVAC_Zone_Shelter_Corridor': 0.0}\n",
      "{'HVAC_Zone_Shelter_Corridor': 0.0}\n",
      "{'HVAC_Zone_Shelter_Corridor': 0.0}\n",
      "{'HVAC_Zone_Shelter_Corridor': 0.0}\n",
      "{'HVAC_Zone_Shelter_Corridor': 0.0}\n",
      "{'HVAC_Zone_Shelter_Corridor': 0.0}\n",
      "{'HVAC_Zone_Shelter_Corridor': 0.0}\n",
      "{'HVAC_Zone_Shelter_Corridor': 0.0}\n",
      "{'HVAC_Zone_Shelter_Corridor': 0.0}\n",
      "{'HVAC_Zone_Shelter_Corridor': 0.0}\n",
      "{'HVAC_Zone_Shelter_Corridor': 0.0}\n",
      "{'HVAC_Zone_Shelter_Corridor': 0.0}\n",
      "{'HVAC_Zone_Shelter_Corridor': 0.0}\n",
      "{'HVAC_Zone_Shelter_Corridor': 0.0}\n",
      "{'HVAC_Zone_Shelter_Corridor': 0.0}\n",
      "{'HVAC_Zone_Shelter_Corridor': 0.0}\n",
      "{'HVAC_Zone_Shelter_Corridor': 0.0}\n",
      "{'HVAC_Zone_Shelter_Corridor': 0.5}\n",
      "{'HVAC_Zone_Shelter_Corridor': 0.0}\n",
      "{'HVAC_Zone_Shelter_Corridor': 0.5}\n",
      "{'HVAC_Zone_Shelter_Corridor': 0.0}\n",
      "{'HVAC_Zone_Shelter_Corridor': 0.0}\n",
      "{'HVAC_Zone_Shelter_Corridor': 0.0}\n",
      "{'HVAC_Zone_Shelter_Corridor': 0.0}\n",
      "{'HVAC_Zone_Shelter_Corridor': 0.0}\n",
      "{'HVAC_Zone_Shelter_Corridor': 0.0}\n",
      "{'HVAC_Zone_Shelter_Corridor': 0.0}\n",
      "{'HVAC_Zone_Shelter_Corridor': 0.0}\n",
      "{'HVAC_Zone_Shelter_Corridor': 0.0}\n",
      "{'HVAC_Zone_Shelter_Corridor': 0.0}\n",
      "{'HVAC_Zone_Shelter_Corridor': 0.0}\n",
      "{'HVAC_Zone_Shelter_Corridor': 0.0}\n",
      "{'HVAC_Zone_Shelter_Corridor': 0.0}\n",
      "{'HVAC_Zone_Shelter_Corridor': 0.0}\n",
      "{'HVAC_Zone_Shelter_Corridor': 0.0}\n",
      "{'HVAC_Zone_Shelter_Corridor': 0.0}\n",
      "{'HVAC_Zone_Shelter_Corridor': 0.0}\n",
      "{'HVAC_Zone_Shelter_Corridor': 0.0}\n",
      "{'HVAC_Zone_Shelter_Corridor': 0.0}\n",
      "{'HVAC_Zone_Shelter_Corridor': 0.0}\n",
      "{'HVAC_Zone_Shelter_Corridor': 0.0}\n",
      "{'HVAC_Zone_Shelter_Corridor': 0.0}\n",
      "{'HVAC_Zone_Shelter_Corridor': 0.5}\n",
      "{'HVAC_Zone_Shelter_Corridor': 0.0}\n",
      "{'HVAC_Zone_Shelter_Corridor': 0.5}\n",
      "{'HVAC_Zone_Shelter_Corridor': 0.0}\n",
      "{'HVAC_Zone_Shelter_Corridor': 0.0}\n",
      "{'HVAC_Zone_Shelter_Corridor': 0.0}\n",
      "{'HVAC_Zone_Shelter_Corridor': 0.0}\n",
      "{'HVAC_Zone_Shelter_Corridor': 0.0}\n",
      "{'HVAC_Zone_Shelter_Corridor': 0.0}\n",
      "{'HVAC_Zone_Shelter_Corridor': 0.0}\n",
      "{'HVAC_Zone_Shelter_Corridor': 0.0}\n",
      "{'HVAC_Zone_Shelter_Corridor': 0.0}\n",
      "{'HVAC_Zone_Shelter_Corridor': 0.0}\n",
      "{'HVAC_Zone_Shelter_Corridor': 0.0}\n",
      "{'HVAC_Zone_Shelter_Corridor': 0.0}\n",
      "{'HVAC_Zone_Shelter_Corridor': 0.0}\n",
      "{'HVAC_Zone_Shelter_Corridor': 0.0}\n",
      "{'HVAC_Zone_Shelter_Corridor': 0.0}\n",
      "{'HVAC_Zone_Shelter_Corridor': 0.0}\n",
      "{'HVAC_Zone_Shelter_Corridor': 0.0}\n",
      "{'HVAC_Zone_Shelter_Corridor': 0.0}\n",
      "{'HVAC_Zone_Shelter_Corridor': 0.0}\n",
      "{'HVAC_Zone_Shelter_Corridor': 0.0}\n",
      "{'HVAC_Zone_Shelter_Corridor': 0.0}\n",
      "{'HVAC_Zone_Shelter_Corridor': 0.0}\n",
      "{'HVAC_Zone_Shelter_Corridor': 0.0}\n",
      "{'HVAC_Zone_Shelter_Corridor': 0.0}\n",
      "{'HVAC_Zone_Shelter_Corridor': 0.0}\n",
      "{'HVAC_Zone_Shelter_Corridor': 0.5}\n",
      "0-{'HVAC_Zone_Shelter_Corridor': 85}\n"
     ]
    }
   ],
   "source": [
    "root = op.shortest_path(root)\n",
    "print(root)\n",
    "# op.g.node[root]"
   ]
  },
  {
   "cell_type": "code",
   "execution_count": 125,
   "metadata": {},
   "outputs": [
    {
     "data": {
      "text/plain": [
       "1-{'HVAC_Zone_Shelter_Corridor': 84}"
      ]
     },
     "execution_count": 125,
     "metadata": {},
     "output_type": "execute_result"
    }
   ],
   "source": [
    "op.g.node[root][\"best_successor\"]"
   ]
  },
  {
   "cell_type": "code",
   "execution_count": null,
   "metadata": {},
   "outputs": [],
   "source": [
    "op.safety_check(root)"
   ]
  },
  {
   "cell_type": "code",
   "execution_count": 156,
   "metadata": {},
   "outputs": [
    {
     "data": {
      "text/plain": [
       "datetime.datetime(2019, 2, 3, 2, 5, 55, 611324, tzinfo=<UTC>)"
      ]
     },
     "execution_count": 156,
     "metadata": {},
     "output_type": "execute_result"
    }
   ],
   "source": [
    "op.timestep_to_time(2)"
   ]
  },
  {
   "cell_type": "code",
   "execution_count": 127,
   "metadata": {},
   "outputs": [
    {
     "data": {
      "text/plain": [
       "[0-{'HVAC_Zone_Shelter_Corridor': 85},\n",
       " 1-{'HVAC_Zone_Shelter_Corridor': 84},\n",
       " 2-{'HVAC_Zone_Shelter_Corridor': 83},\n",
       " 3-{'HVAC_Zone_Shelter_Corridor': 82},\n",
       " 4-{'HVAC_Zone_Shelter_Corridor': 81},\n",
       " 5-{'HVAC_Zone_Shelter_Corridor': 80},\n",
       " 6-{'HVAC_Zone_Shelter_Corridor': 79},\n",
       " 7-{'HVAC_Zone_Shelter_Corridor': 78},\n",
       " 8-{'HVAC_Zone_Shelter_Corridor': 78},\n",
       " 9-{'HVAC_Zone_Shelter_Corridor': 78},\n",
       " 10-{'HVAC_Zone_Shelter_Corridor': 78},\n",
       " 11-{'HVAC_Zone_Shelter_Corridor': 78},\n",
       " 12-{'HVAC_Zone_Shelter_Corridor': 78},\n",
       " 13-{'HVAC_Zone_Shelter_Corridor': 78},\n",
       " 14-{'HVAC_Zone_Shelter_Corridor': 78},\n",
       " 15-{'HVAC_Zone_Shelter_Corridor': 78},\n",
       " 16-{'HVAC_Zone_Shelter_Corridor': 78}]"
      ]
     },
     "execution_count": 127,
     "metadata": {},
     "output_type": "execute_result"
    }
   ],
   "source": [
    "op.reconstruct_path(root)"
   ]
  },
  {
   "cell_type": "markdown",
   "metadata": {},
   "source": [
    "import sys"
   ]
  },
  {
   "cell_type": "code",
   "execution_count": 5,
   "metadata": {},
   "outputs": [],
   "source": [
    "import sys\n",
    "sys.path.append(\"../microservices_wrapper\")\n",
    "import microservices_wrapper as mw"
   ]
  },
  {
   "cell_type": "code",
   "execution_count": 6,
   "metadata": {},
   "outputs": [
    {
     "name": "stdout",
     "output_type": "stream",
     "text": [
      "2019-02-07 03:23:11.038332+00:00\n",
      "1549509791.038332\n"
     ]
    },
    {
     "ename": "_Rendezvous",
     "evalue": "<_Rendezvous of RPC that terminated with:\n\tstatus = StatusCode.UNAVAILABLE\n\tdetails = \"Connect Failed\"\n\tdebug_error_string = \"{\"created\":\"@1549524191.040239000\",\"description\":\"Failed to create subchannel\",\"file\":\"src/core/ext/filters/client_channel/client_channel.cc\",\"file_line\":2721,\"referenced_errors\":[{\"created\":\"@1549524191.040237000\",\"description\":\"Pick Cancelled\",\"file\":\"src/core/ext/filters/client_channel/lb_policy/pick_first/pick_first.cc\",\"file_line\":241,\"referenced_errors\":[{\"created\":\"@1549524191.040219000\",\"description\":\"Connect Failed\",\"file\":\"src/core/ext/filters/client_channel/subchannel.cc\",\"file_line\":689,\"grpc_status\":14,\"referenced_errors\":[{\"created\":\"@1549524191.040210000\",\"description\":\"Failed to connect to remote host: OS Error\",\"errno\":61,\"file\":\"src/core/lib/iomgr/tcp_client_posix.cc\",\"file_line\":205,\"os_error\":\"Connection refused\",\"syscall\":\"connect\",\"target_address\":\"ipv4:127.0.0.1:50055\"}]}]}]}\"\n>",
     "traceback": [
      "\u001b[0;31m---------------------------------------------------------------------------\u001b[0m",
      "\u001b[0;31m_Rendezvous\u001b[0m                               Traceback (most recent call last)",
      "\u001b[0;32m<ipython-input-6-c42f22fb96a9>\u001b[0m in \u001b[0;36m<module>\u001b[0;34m\u001b[0m\n\u001b[1;32m      9\u001b[0m \u001b[0mwindow\u001b[0m \u001b[0;34m=\u001b[0m \u001b[0;34m\"15m\"\u001b[0m\u001b[0;34m\u001b[0m\u001b[0;34m\u001b[0m\u001b[0m\n\u001b[1;32m     10\u001b[0m \u001b[0;34m\u001b[0m\u001b[0m\n\u001b[0;32m---> 11\u001b[0;31m \u001b[0mmw\u001b[0m\u001b[0;34m.\u001b[0m\u001b[0mget_do_not_exceed\u001b[0m\u001b[0;34m(\u001b[0m\u001b[0mtemperature_band_stub\u001b[0m\u001b[0;34m,\u001b[0m \u001b[0mbldg\u001b[0m\u001b[0;34m,\u001b[0m \u001b[0mzone\u001b[0m\u001b[0;34m,\u001b[0m \u001b[0mstart\u001b[0m\u001b[0;34m,\u001b[0m \u001b[0mend\u001b[0m\u001b[0;34m,\u001b[0m \u001b[0mwindow\u001b[0m\u001b[0;34m)\u001b[0m\u001b[0;34m\u001b[0m\u001b[0;34m\u001b[0m\u001b[0m\n\u001b[0m",
      "\u001b[0;32m~/BETS/Together/xbos-services/microservices_wrapper/microservices_wrapper.py\u001b[0m in \u001b[0;36mget_do_not_exceed\u001b[0;34m(temperature_band_stub, bldg, zone, start, end, window)\u001b[0m\n\u001b[1;32m    104\u001b[0m     do_not_exceed_response = temperature_band_stub.GetDoNotExceed(\n\u001b[1;32m    105\u001b[0m         schedules_pb2.Request(building=bldg, zone=zone, start=int(start_unix), end=int(end_unix), window=window,\n\u001b[0;32m--> 106\u001b[0;31m                               unit=\"F\"))\n\u001b[0m\u001b[1;32m    107\u001b[0m \u001b[0;34m\u001b[0m\u001b[0m\n\u001b[1;32m    108\u001b[0m     \u001b[0;31m# process data\u001b[0m\u001b[0;34m\u001b[0m\u001b[0;34m\u001b[0m\u001b[0;34m\u001b[0m\u001b[0m\n",
      "\u001b[0;32m~/miniconda3/envs/venv-dr3/lib/python3.6/site-packages/grpc/_channel.py\u001b[0m in \u001b[0;36m__call__\u001b[0;34m(self, request, timeout, metadata, credentials)\u001b[0m\n\u001b[1;32m    531\u001b[0m     \u001b[0;32mdef\u001b[0m \u001b[0m__call__\u001b[0m\u001b[0;34m(\u001b[0m\u001b[0mself\u001b[0m\u001b[0;34m,\u001b[0m \u001b[0mrequest\u001b[0m\u001b[0;34m,\u001b[0m \u001b[0mtimeout\u001b[0m\u001b[0;34m=\u001b[0m\u001b[0;32mNone\u001b[0m\u001b[0;34m,\u001b[0m \u001b[0mmetadata\u001b[0m\u001b[0;34m=\u001b[0m\u001b[0;32mNone\u001b[0m\u001b[0;34m,\u001b[0m \u001b[0mcredentials\u001b[0m\u001b[0;34m=\u001b[0m\u001b[0;32mNone\u001b[0m\u001b[0;34m)\u001b[0m\u001b[0;34m:\u001b[0m\u001b[0;34m\u001b[0m\u001b[0;34m\u001b[0m\u001b[0m\n\u001b[1;32m    532\u001b[0m         \u001b[0mstate\u001b[0m\u001b[0;34m,\u001b[0m \u001b[0mcall\u001b[0m\u001b[0;34m,\u001b[0m \u001b[0;34m=\u001b[0m \u001b[0mself\u001b[0m\u001b[0;34m.\u001b[0m\u001b[0m_blocking\u001b[0m\u001b[0;34m(\u001b[0m\u001b[0mrequest\u001b[0m\u001b[0;34m,\u001b[0m \u001b[0mtimeout\u001b[0m\u001b[0;34m,\u001b[0m \u001b[0mmetadata\u001b[0m\u001b[0;34m,\u001b[0m \u001b[0mcredentials\u001b[0m\u001b[0;34m)\u001b[0m\u001b[0;34m\u001b[0m\u001b[0;34m\u001b[0m\u001b[0m\n\u001b[0;32m--> 533\u001b[0;31m         \u001b[0;32mreturn\u001b[0m \u001b[0m_end_unary_response_blocking\u001b[0m\u001b[0;34m(\u001b[0m\u001b[0mstate\u001b[0m\u001b[0;34m,\u001b[0m \u001b[0mcall\u001b[0m\u001b[0;34m,\u001b[0m \u001b[0;32mFalse\u001b[0m\u001b[0;34m,\u001b[0m \u001b[0;32mNone\u001b[0m\u001b[0;34m)\u001b[0m\u001b[0;34m\u001b[0m\u001b[0;34m\u001b[0m\u001b[0m\n\u001b[0m\u001b[1;32m    534\u001b[0m \u001b[0;34m\u001b[0m\u001b[0m\n\u001b[1;32m    535\u001b[0m     \u001b[0;32mdef\u001b[0m \u001b[0mwith_call\u001b[0m\u001b[0;34m(\u001b[0m\u001b[0mself\u001b[0m\u001b[0;34m,\u001b[0m \u001b[0mrequest\u001b[0m\u001b[0;34m,\u001b[0m \u001b[0mtimeout\u001b[0m\u001b[0;34m=\u001b[0m\u001b[0;32mNone\u001b[0m\u001b[0;34m,\u001b[0m \u001b[0mmetadata\u001b[0m\u001b[0;34m=\u001b[0m\u001b[0;32mNone\u001b[0m\u001b[0;34m,\u001b[0m \u001b[0mcredentials\u001b[0m\u001b[0;34m=\u001b[0m\u001b[0;32mNone\u001b[0m\u001b[0;34m)\u001b[0m\u001b[0;34m:\u001b[0m\u001b[0;34m\u001b[0m\u001b[0;34m\u001b[0m\u001b[0m\n",
      "\u001b[0;32m~/miniconda3/envs/venv-dr3/lib/python3.6/site-packages/grpc/_channel.py\u001b[0m in \u001b[0;36m_end_unary_response_blocking\u001b[0;34m(state, call, with_call, deadline)\u001b[0m\n\u001b[1;32m    465\u001b[0m             \u001b[0;32mreturn\u001b[0m \u001b[0mstate\u001b[0m\u001b[0;34m.\u001b[0m\u001b[0mresponse\u001b[0m\u001b[0;34m\u001b[0m\u001b[0;34m\u001b[0m\u001b[0m\n\u001b[1;32m    466\u001b[0m     \u001b[0;32melse\u001b[0m\u001b[0;34m:\u001b[0m\u001b[0;34m\u001b[0m\u001b[0;34m\u001b[0m\u001b[0m\n\u001b[0;32m--> 467\u001b[0;31m         \u001b[0;32mraise\u001b[0m \u001b[0m_Rendezvous\u001b[0m\u001b[0;34m(\u001b[0m\u001b[0mstate\u001b[0m\u001b[0;34m,\u001b[0m \u001b[0;32mNone\u001b[0m\u001b[0;34m,\u001b[0m \u001b[0;32mNone\u001b[0m\u001b[0;34m,\u001b[0m \u001b[0mdeadline\u001b[0m\u001b[0;34m)\u001b[0m\u001b[0;34m\u001b[0m\u001b[0;34m\u001b[0m\u001b[0m\n\u001b[0m\u001b[1;32m    468\u001b[0m \u001b[0;34m\u001b[0m\u001b[0m\n\u001b[1;32m    469\u001b[0m \u001b[0;34m\u001b[0m\u001b[0m\n",
      "\u001b[0;31m_Rendezvous\u001b[0m: <_Rendezvous of RPC that terminated with:\n\tstatus = StatusCode.UNAVAILABLE\n\tdetails = \"Connect Failed\"\n\tdebug_error_string = \"{\"created\":\"@1549524191.040239000\",\"description\":\"Failed to create subchannel\",\"file\":\"src/core/ext/filters/client_channel/client_channel.cc\",\"file_line\":2721,\"referenced_errors\":[{\"created\":\"@1549524191.040237000\",\"description\":\"Pick Cancelled\",\"file\":\"src/core/ext/filters/client_channel/lb_policy/pick_first/pick_first.cc\",\"file_line\":241,\"referenced_errors\":[{\"created\":\"@1549524191.040219000\",\"description\":\"Connect Failed\",\"file\":\"src/core/ext/filters/client_channel/subchannel.cc\",\"file_line\":689,\"grpc_status\":14,\"referenced_errors\":[{\"created\":\"@1549524191.040210000\",\"description\":\"Failed to connect to remote host: OS Error\",\"errno\":61,\"file\":\"src/core/lib/iomgr/tcp_client_posix.cc\",\"file_line\":205,\"os_error\":\"Connection refused\",\"syscall\":\"connect\",\"target_address\":\"ipv4:127.0.0.1:50055\"}]}]}]}\"\n>"
     ],
     "output_type": "error"
    }
   ],
   "source": [
    "temperature_band_stub = mw.get_temperature_band_stub()\n",
    "\n",
    "end = datetime.datetime.utcnow().replace(tzinfo=pytz.utc)\n",
    "start =  end - datetime.timedelta(hours=4)\n",
    "print(start)\n",
    "print(start.timestamp())\n",
    "bldg = \"avenal-animal-shelter\"\n",
    "zone = \"HVAC_Zone_Shelter_Corridor\"\n",
    "window = \"15m\"\n",
    "\n",
    "mw.get_do_not_exceed(temperature_band_stub, bldg, zone, start, end, window)"
   ]
  },
  {
   "cell_type": "code",
   "execution_count": null,
   "metadata": {},
   "outputs": [],
   "source": []
  },
  {
   "cell_type": "code",
   "execution_count": null,
   "metadata": {},
   "outputs": [],
   "source": []
  },
  {
   "cell_type": "code",
   "execution_count": null,
   "metadata": {},
   "outputs": [],
   "source": []
  },
  {
   "cell_type": "code",
   "execution_count": 9,
   "metadata": {},
   "outputs": [
    {
     "data": {
      "text/plain": [
       "['HVAC_Zone_Room_A',\n",
       " 'HVAC_Zone_Main_Hallway',\n",
       " 'HVAC_Zone_Pegasus_Hall',\n",
       " 'HVAC_Zone_Room_D',\n",
       " 'HVAC_Zone_Theater_1',\n",
       " 'HVAC_Zone_Lobby',\n",
       " 'HVAC_Zone_Back_Hallway',\n",
       " 'HVAC_Zone_Theater_2']"
      ]
     },
     "execution_count": 9,
     "metadata": {},
     "output_type": "execute_result"
    }
   ],
   "source": [
    "utils.get_zones(\"avenal-movie-theatre\")"
   ]
  },
  {
   "cell_type": "code",
   "execution_count": 14,
   "metadata": {},
   "outputs": [],
   "source": [
    "import sys\n",
    "sys.path.append(\"../microservices_wrapper/\")\n",
    "import microservices_wrapper as mw \n"
   ]
  },
  {
   "cell_type": "code",
   "execution_count": 16,
   "metadata": {},
   "outputs": [
    {
     "name": "stdout",
     "output_type": "stream",
     "text": [
      "2018-10-30 19:24:17.557010+00:00\n",
      "1540927457.55701\n"
     ]
    },
    {
     "data": {
      "text/plain": [
       "2018-10-30 19:24:17.557010+00:00    65.999705\n",
       "2018-10-30 19:29:17.557010+00:00    65.999705\n",
       "2018-10-30 19:34:17.557010+00:00    65.999705\n",
       "2018-10-30 19:39:17.557010+00:00    65.999705\n",
       "2018-10-30 19:44:17.557010+00:00    65.999705\n",
       "2018-10-30 19:49:17.557010+00:00    65.999705\n",
       "2018-10-30 19:54:17.557010+00:00    66.166370\n",
       "2018-10-30 19:59:17.557010+00:00    66.333035\n",
       "2018-10-30 20:04:17.557010+00:00    66.499700\n",
       "2018-10-30 20:09:17.557010+00:00    66.666500\n",
       "2018-10-30 20:14:17.557010+00:00    66.833300\n",
       "2018-10-30 20:19:17.557010+00:00    67.000100\n",
       "2018-10-30 20:24:17.557010+00:00    67.000100\n",
       "2018-10-30 20:29:17.557010+00:00    67.000100\n",
       "2018-10-30 20:34:17.557010+00:00    67.000100\n",
       "2018-10-30 20:39:17.557010+00:00    67.166771\n",
       "2018-10-30 20:44:17.557010+00:00    67.333442\n",
       "2018-10-30 20:49:17.557010+00:00    67.500113\n",
       "2018-10-30 20:54:17.557010+00:00    67.500113\n",
       "2018-10-30 20:59:17.557010+00:00    67.500113\n",
       "2018-10-30 21:04:17.557010+00:00    67.500113\n",
       "2018-10-30 21:09:17.557010+00:00    67.666742\n",
       "2018-10-30 21:14:17.557010+00:00    67.833371\n",
       "2018-10-30 21:19:17.557010+00:00    68.000000\n",
       "2018-10-30 21:24:17.557010+00:00    68.166671\n",
       "2018-10-30 21:29:17.557010+00:00    68.333342\n",
       "2018-10-30 21:34:17.557010+00:00    68.500013\n",
       "2018-10-30 21:39:17.557010+00:00    68.500013\n",
       "2018-10-30 21:44:17.557010+00:00    68.500013\n",
       "2018-10-30 21:49:17.557010+00:00    68.500013\n",
       "                                      ...    \n",
       "2019-02-07 16:54:17.557010+00:00    37.999982\n",
       "2019-02-07 16:59:17.557010+00:00    38.999996\n",
       "2019-02-07 17:04:17.557010+00:00    40.000010\n",
       "2019-02-07 17:09:17.557010+00:00    40.000010\n",
       "2019-02-07 17:14:17.557010+00:00    40.000010\n",
       "2019-02-07 17:19:17.557010+00:00    40.000010\n",
       "2019-02-07 17:24:17.557010+00:00    40.666682\n",
       "2019-02-07 17:29:17.557010+00:00    41.333354\n",
       "2019-02-07 17:34:17.557010+00:00    42.000026\n",
       "2019-02-07 17:39:17.557010+00:00    42.666692\n",
       "2019-02-07 17:44:17.557010+00:00    43.333358\n",
       "2019-02-07 17:49:17.557010+00:00    44.000024\n",
       "2019-02-07 17:54:17.557010+00:00    44.000024\n",
       "2019-02-07 17:59:17.557010+00:00    44.000024\n",
       "2019-02-07 18:04:17.557010+00:00    44.000024\n",
       "2019-02-07 18:09:17.557010+00:00    44.666744\n",
       "2019-02-07 18:14:17.557010+00:00    45.333464\n",
       "2019-02-07 18:19:17.557010+00:00    46.000184\n",
       "2019-02-07 18:24:17.557010+00:00    46.000184\n",
       "2019-02-07 18:29:17.557010+00:00    46.000184\n",
       "2019-02-07 18:34:17.557010+00:00    46.000184\n",
       "2019-02-07 18:39:17.557010+00:00    46.333520\n",
       "2019-02-07 18:44:17.557010+00:00    46.666856\n",
       "2019-02-07 18:49:17.557010+00:00    47.000192\n",
       "2019-02-07 18:54:17.557010+00:00    47.166863\n",
       "2019-02-07 18:59:17.557010+00:00    47.333534\n",
       "2019-02-07 19:04:17.557010+00:00    47.500205\n",
       "2019-02-07 19:09:17.557010+00:00    48.166670\n",
       "2019-02-07 19:14:17.557010+00:00    48.833135\n",
       "2019-02-07 19:19:17.557010+00:00    49.499600\n",
       "Freq: 300S, Length: 28800, dtype: float64"
      ]
     },
     "execution_count": 16,
     "metadata": {},
     "output_type": "execute_result"
    }
   ],
   "source": [
    "outdoor_stub = mw.get_outdoor_historic_stub()\n",
    "occ_stub = mw.get_occupancy_stub()\n",
    "temperature_band_stub = mw.get_temperature_band_stub()\n",
    "indoor_prediction_stub = mw.get_indoor_temperature_prediction_stub()\n",
    "\n",
    "end = datetime.datetime.utcnow().replace(tzinfo=pytz.utc)\n",
    "start =  end - datetime.timedelta(days=100)\n",
    "print(start)\n",
    "print(start.timestamp())\n",
    "bldg = \"avenal-animal-shelter\"\n",
    "zone = \"HVAC_Zone_Shelter_Corridor\"\n",
    "window = \"5m\"\n",
    "\n",
    "# mw.get_outdoor_temperature_historic(outdoor_stub, bldg, start, end, window)\n",
    "# mw.get_occupancy(occ_stub, bldg, zone, start, end, window)\n",
    "# mw.get_comfortband(temperature_band_stub, bldg, zone, start, end, window)\n",
    "mw.get_indoor_temperature_prediction(indoor_prediction_stub, bldg, zone, start, 2, 70, 80, {}, 1)"
   ]
  },
  {
   "cell_type": "code",
   "execution_count": null,
   "metadata": {},
   "outputs": [],
   "source": [
    "building=\"ciee\",\n",
    "                                                                              zone=\"HVAC_Zone_Northzone\",\n",
    "                                                                              current_time=start,\n",
    "                                                                              indoor_temperature=70,\n",
    "                                                                              outside_temperature=80,\n",
    "                                                                              action=0,\n",
    "                                                                              zone_temperatures={\n",
    "                                                                                  \"HVAC_Zone_Eastzone\": 75,\n",
    "                                                                                  \"HVAC_Zone_Southzone\": 60,\n",
    "                                                                                  \"HVAC_Zone_Centralzone\": 80\n",
    "                                                                              },\n",
    "                                                                                temperature_unit=\"F\",\n",
    "                                                                              occupancy=1))"
   ]
  },
  {
   "cell_type": "code",
   "execution_count": null,
   "metadata": {},
   "outputs": [],
   "source": []
  },
  {
   "cell_type": "code",
   "execution_count": null,
   "metadata": {},
   "outputs": [],
   "source": []
  },
  {
   "cell_type": "code",
   "execution_count": null,
   "metadata": {},
   "outputs": [],
   "source": []
  },
  {
   "cell_type": "code",
   "execution_count": 37,
   "metadata": {},
   "outputs": [
    {
     "data": {
      "text/plain": [
       "42"
      ]
     },
     "execution_count": 37,
     "metadata": {},
     "output_type": "execute_result"
    }
   ],
   "source": [
    "pd.Timedelta(42, unit='ns').nanoseconds"
   ]
  },
  {
   "cell_type": "code",
   "execution_count": 42,
   "metadata": {},
   "outputs": [
    {
     "ename": "ValueError",
     "evalue": "invalid literal for int() with base 10: '1.0'",
     "traceback": [
      "\u001b[0;31m---------------------------------------------------------------------------\u001b[0m",
      "\u001b[0;31mValueError\u001b[0m                                Traceback (most recent call last)",
      "\u001b[0;32m<ipython-input-42-305a000f9be2>\u001b[0m in \u001b[0;36m<module>\u001b[0;34m\u001b[0m\n\u001b[0;32m----> 1\u001b[0;31m \u001b[0mint\u001b[0m\u001b[0;34m(\u001b[0m\u001b[0;34m\"1.0\"\u001b[0m\u001b[0;34m)\u001b[0m\u001b[0;34m\u001b[0m\u001b[0;34m\u001b[0m\u001b[0m\n\u001b[0m",
      "\u001b[0;31mValueError\u001b[0m: invalid literal for int() with base 10: '1.0'"
     ],
     "output_type": "error"
    }
   ],
   "source": [
    "int(\"1.0\")"
   ]
  },
  {
   "cell_type": "code",
   "execution_count": 17,
   "metadata": {},
   "outputs": [],
   "source": [
    "def round_to_midnight(date, interval):\n",
    "    \"\"\"Takes the date and brings the time as close as possible to midnight such that\n",
    "    (date - new_time).total_seconds % interval == 0.\n",
    "    :param date: (datetime) date to use for rounding\n",
    "    :param interval int:seconds.\n",
    "    :return datetime new_time\"\"\"\n",
    "\n",
    "    dt = datetime.timedelta(seconds=interval)\n",
    "    curr_day = date.day\n",
    "    while (date - dt).day == curr_day:\n",
    "        date -= dt\n",
    "    return date"
   ]
  },
  {
   "cell_type": "code",
   "execution_count": 20,
   "metadata": {},
   "outputs": [
    {
     "name": "stdout",
     "output_type": "stream",
     "text": [
      "2019-02-08 00:22:57.543441\n"
     ]
    },
    {
     "data": {
      "text/plain": [
       "datetime.datetime(2019, 2, 8, 0, 22, 57, 543441)"
      ]
     },
     "execution_count": 20,
     "metadata": {},
     "output_type": "execute_result"
    }
   ],
   "source": [
    "curr_time = datetime.datetime.utcnow()\n",
    "print(curr_time)\n",
    "round_to_midnight(curr_time, 2 * 60 * 60)"
   ]
  },
  {
   "cell_type": "code",
   "execution_count": null,
   "metadata": {},
   "outputs": [],
   "source": []
  }
 ],
 "metadata": {
  "kernelspec": {
   "display_name": "Python 3",
   "language": "python",
   "name": "python3"
  },
  "language_info": {
   "codemirror_mode": {
    "name": "ipython",
    "version": 3
   },
   "file_extension": ".py",
   "mimetype": "text/x-python",
   "name": "python",
   "nbconvert_exporter": "python",
   "pygments_lexer": "ipython3",
   "version": "3.6.8"
  }
 },
 "nbformat": 4,
 "nbformat_minor": 2
}
