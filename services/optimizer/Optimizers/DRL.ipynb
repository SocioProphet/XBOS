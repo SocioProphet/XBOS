{
 "cells": [
  {
   "cell_type": "code",
   "execution_count": 1,
   "metadata": {},
   "outputs": [],
   "source": [
    "import datetime\n",
    "import sys\n",
    "\n",
    "import networkx as nx\n",
    "import numpy as np\n",
    "import os\n",
    "import pandas as pd\n",
    "import plotly.offline as py\n",
    "import pytz\n",
    "\n",
    "sys.path.insert(0, '../')\n",
    "# import utils\n",
    "# from utils import plotly_figure\n",
    "\n",
    "import itertools\n",
    "import xbos_services_getter as xsg\n",
    "\n",
    "import time\n",
    "\n",
    "import datetime\n",
    "import pytz\n",
    "import calendar\n",
    "import itertools\n",
    "import pandas as pd\n",
    "\n",
    "from DataManager.DataManager import DataManager\n",
    "from Thermostat import Tstat"
   ]
  },
  {
   "cell_type": "markdown",
   "metadata": {},
   "source": [
    "# DRL \n",
    "\n",
    "DRL is good for demand charge problem since we don't need to incorporate the demand charge cost into every reward. We will incorporate it only into the final states. \n",
    "\n",
    "State:\n",
    "- Last k indoor temperatures of all zones (For now just use current and last)\n",
    "- Last k outdoor temperatures (For now just use current)\n",
    "- Last k actions  (For now just use current)\n",
    "- Time of Month (For demand charge)\n",
    "- Max Consumption so far\n",
    "- Comfortband for t steps into the future\n",
    "- Do not exceed for t steps into the future\n",
    "- occupancy for t steps into the future\n",
    "- price t steps into future\n",
    "\n",
    "Actions: \n",
    "[0,1,2] x num_zones\n",
    "\n",
    "We limit our observation space to one month. disregarding sesonality. "
   ]
  },
  {
   "cell_type": "markdown",
   "metadata": {},
   "source": [
    "- Add random gaussian noise to all temperatures. Gaussian noise should be distributed according to our uncertainty (historic uncertainty for outdoor temperature for last years etc). \n",
    "- Comfortband/DoNotExceed should be set for one month? \n",
    "- Occupancy should have random noise added i guess. for now just assume schedule. "
   ]
  },
  {
   "cell_type": "markdown",
   "metadata": {},
   "source": [
    "Outdoor temperature we want to find distribution:\n",
    "$$P(T_{t+1} | T_{t})$$ so that we can sample from it. \n",
    "For now we could assume:\n",
    "$$P(T_{t+1} | T_{t}) = P(\\delta t_{t+1}) $$\n",
    "which is distributed according to gaussian distribution which has the same variance as our data. "
   ]
  },
  {
   "cell_type": "code",
   "execution_count": 2,
   "metadata": {},
   "outputs": [
    {
     "ename": "SyntaxError",
     "evalue": "unexpected EOF while parsing (<ipython-input-2-9535512fd595>, line 19)",
     "output_type": "error",
     "traceback": [
      "\u001b[0;36m  File \u001b[0;32m\"<ipython-input-2-9535512fd595>\"\u001b[0;36m, line \u001b[0;32m19\u001b[0m\n\u001b[0;31m    # takes thermostat step with the given action.\u001b[0m\n\u001b[0m                                                   ^\u001b[0m\n\u001b[0;31mSyntaxError\u001b[0m\u001b[0;31m:\u001b[0m unexpected EOF while parsing\n"
     ]
    }
   ],
   "source": [
    "class ThermalControlDRL(gym.Env, DataManager):\n",
    "\n",
    "    def __init__(self, start, end, window, config):\n",
    "        \n",
    "        super()\n",
    "        \n",
    "        # config has [\"t_in_past_steps, t_out_past_steps, action_past_steps\"]\n",
    "        self.end_pos = config[\"corridor_length\"]\n",
    "        self.cur_pos = 0\n",
    "        self.action_space = Discrete(2)\n",
    "        self.observation_space = Box(\n",
    "            0.0, self.end_pos, shape=(1, ), dtype=np.float32)\n",
    "\n",
    "    def reset(self):\n",
    "        self.cur_pos = 0\n",
    "        return [self.cur_pos]\n",
    "\n",
    "    def step(self, action):\n",
    "        # takes thermostat step with the given action. "
   ]
  },
  {
   "cell_type": "markdown",
   "metadata": {},
   "source": [
    "## How is this adding to MPC\n",
    "- Easier to make demand charges happen. Do not need to incorporate into objective function at every step. Will be rewarded at the end of month. \n",
    "- Will learn a much longer predictive horizon. \n",
    "- Can use more complex models for predicting indoor temperature. MPC would loose DP possibility if using mmore complex and higher order models. \n",
    "- Could learn underlying effects of occupancy/comfortband which MPC could not catch. "
   ]
  },
  {
   "cell_type": "code",
   "execution_count": null,
   "metadata": {},
   "outputs": [],
   "source": [
    "def time_dimension(start, end, window):\n",
    "    pass\n",
    "\n",
    "def time_to_one_hot(start, end, curr_time, window):\n",
    "    pass\n",
    "\n",
    "\n",
    "        \n",
    "            "
   ]
  },
  {
   "cell_type": "code",
   "execution_count": 3,
   "metadata": {},
   "outputs": [],
   "source": [
    "import gym, ray\n",
    "from ray.rllib.agents import ppo\n",
    "from gym.spaces import Discrete, Box\n",
    "\n",
    "\n",
    "class MyEnv(gym.Env, DataManager): \n",
    "    def __init__(self, env_config):\n",
    "        \n",
    "        super().__init__(env_config[\"building\"], env_config[\"zones\"], \n",
    "                         env_config[\"start\"], env_config[\"end\"], env_config[\"window\"])\n",
    "\n",
    "        # assert self.zones == all zones in building. this is because of thermal model stuff. \n",
    "        self.curr_timestep = 0\n",
    "\n",
    "        \n",
    "        self.action_space = Discrete(3)\n",
    "        \n",
    "        self.indoor_starting_temperatures = env_config[\"indoor_starting_temperatures\"] # to get starting temperatures [last, current]\n",
    "        self.outdoor_starting_temperature = env_config[\"outdoor_starting_temperature\"]\n",
    "        \n",
    "        self.tstats = {}\n",
    "        for iter_zone in self.zones:\n",
    "            self.tstats[iter_zone] = Tstat(self.building, iter_zone, \n",
    "                                           self.indoor_starting_temperatures[iter_zone][\"current\"], \n",
    "                                          last_temperature=self.indoor_starting_temperatures[iter_zone][\"last\"])\n",
    "        \n",
    "        \n",
    "        assert 60*60 % xsg.get_window_in_sec(self.window) == 0 # window divides an hour\n",
    "        assert (self.end - self.start).total_seconds() % xsg.get_window_in_sec(self.window) == 0 # window divides the timeframe\n",
    "        \n",
    "        self.num_timesteps = int((self.end - self.start).total_seconds() / xsg.get_window_in_sec(self.window))\n",
    "        \n",
    "        self.unit = env_config[\"unit\"]\n",
    "        assert self.unit == \"F\"\n",
    "                \n",
    "        # all zones current and last temperature = 2*num_zones\n",
    "        # building outside temperature -> make a class for how this behaves = 1\n",
    "        # timestep -> do one hot encoding of week, day, hour, window  \\approx 4 + 7 + 24 + 60*60 / window\n",
    "        low_bound = [32] * (2*len(self.zones) + 1) # we could use parametric temperature bounds... for now we will give negative inft reward\n",
    "        high_bound = [100] * (2*len(self.zones) + 1) # plus one for building\n",
    "        \n",
    "        low_bound += [0] * self.num_timesteps\n",
    "        high_bound += [1] * self.num_timesteps\n",
    "        \n",
    "        self.observation_space = Box(\n",
    "            low=np.array(low_bound), high=np.array(high_bound), dtype=np.float32)\n",
    "        \n",
    "        \n",
    "    def reset(self):\n",
    "        self.curr_timestep = 0\n",
    "        \n",
    "        for iter_zone in self.zones:\n",
    "            self.tstats[iter_zone].reset(self.indoor_starting_temperatures[iter_zone][\"current\"], \n",
    "                                          last_temperature=self.indoor_starting_temperatures[iter_zone][\"last\"])            \n",
    "        self.outdoor_temperature = self.outdoor_starting_temperature\n",
    "        \n",
    "        return self._create_obs(self.tstats, self.outdoor_temperature. self.curr_timestep)\n",
    "\n",
    "\n",
    "    def step(self, action):\n",
    "        \n",
    "        # find what new temperature would be. use thermal model with uncertainty. use reset if exceeding \n",
    "        # do_not_exceed. can't force it to take a different action anymore. \n",
    "        \n",
    "        \n",
    "#         return <obs>, <reward: float>, <done: bool>, <info: dict>\n",
    "        pass\n",
    "\n",
    "    def _create_obs(tstats, outdoor_temperature, curr_time_step):\n",
    "        obs = np.zeros(self.observation_space.low.shape)\n",
    "        idx = 0\n",
    "        for iter_zone in zones:\n",
    "            obs[idx] = tstats[iter_zone].last_temperature \n",
    "            idx += 1\n",
    "            obs[idx] = tstats[iter_zone].temperature\n",
    "            idx += 1\n",
    "        \n",
    "        obs[idx] = self.outdoor_temperature\n",
    "        idx += 1\n",
    "        obs[idx + curr_timestep] = 1\n",
    "        \n",
    "        return obs\n",
    "        \n",
    "# ray.init()\n",
    "# trainer = ppo.PPOTrainer(env=MyEnv, config={\n",
    "#     \"env_config\": {},  # config to pass to env class\n",
    "# })\n",
    "\n",
    "# while True:\n",
    "#     print(trainer.train())"
   ]
  },
  {
   "cell_type": "code",
   "execution_count": 7,
   "metadata": {},
   "outputs": [],
   "source": [
    "start = datetime.datetime(year=2019, month=1, day=1).replace(tzinfo=pytz.utc)\n",
    "end = start + datetime.timedelta(days=1)\n",
    "window = \"15m\"\n",
    "building = \"avenal-animal-shelter\"\n",
    "zones = [\"hvac_zone_shelter_corridor\"]\n",
    "indoor_starting_temperatures = {iter_zone: {\"last\":70, \"current\":71} for iter_zone in zones}\n",
    "outdoor_starting_temperature = 60\n",
    "unit = \"F\""
   ]
  },
  {
   "cell_type": "code",
   "execution_count": 8,
   "metadata": {},
   "outputs": [],
   "source": [
    "config = {\n",
    "    \"start\": start,\n",
    "    \"end\": end,\n",
    "    \"window\": window,\n",
    "    \"building\": building,\n",
    "    \"zones\": zones,\n",
    "    \"indoor_starting_temperatures\": indoor_starting_temperatures,\n",
    "    \"outdoor_starting_temperature\": outdoor_starting_temperature,\n",
    "    \"unit\": unit\n",
    "}"
   ]
  },
  {
   "cell_type": "code",
   "execution_count": 9,
   "metadata": {},
   "outputs": [
    {
     "ename": "_Rendezvous",
     "evalue": "<_Rendezvous of RPC that terminated with:\n\tstatus = StatusCode.UNAVAILABLE\n\tdetails = \"Connect Failed\"\n\tdebug_error_string = \"{\"created\":\"@1556762144.392878000\",\"description\":\"Failed to create subchannel\",\"file\":\"src/core/ext/filters/client_channel/client_channel.cc\",\"file_line\":2721,\"referenced_errors\":[{\"created\":\"@1556762144.392871000\",\"description\":\"Pick Cancelled\",\"file\":\"src/core/ext/filters/client_channel/lb_policy/pick_first/pick_first.cc\",\"file_line\":241,\"referenced_errors\":[{\"created\":\"@1556762144.392863000\",\"description\":\"Connect Failed\",\"file\":\"src/core/ext/filters/client_channel/subchannel.cc\",\"file_line\":689,\"grpc_status\":14,\"referenced_errors\":[{\"created\":\"@1556762144.392809000\",\"description\":\"Handshake failed\",\"file\":\"src/core/lib/security/transport/security_handshaker.cc\",\"file_line\":248,\"tsi_code\":10,\"tsi_error\":\"TSI_PROTOCOL_FAILURE\"}]}]}]}\"\n>",
     "output_type": "error",
     "traceback": [
      "\u001b[0;31m---------------------------------------------------------------------------\u001b[0m",
      "\u001b[0;31m_Rendezvous\u001b[0m                               Traceback (most recent call last)",
      "\u001b[0;32m<ipython-input-9-1f4598224584>\u001b[0m in \u001b[0;36m<module>\u001b[0;34m\u001b[0m\n\u001b[0;32m----> 1\u001b[0;31m \u001b[0me\u001b[0m \u001b[0;34m=\u001b[0m \u001b[0mMyEnv\u001b[0m\u001b[0;34m(\u001b[0m\u001b[0mconfig\u001b[0m\u001b[0;34m)\u001b[0m\u001b[0;34m\u001b[0m\u001b[0;34m\u001b[0m\u001b[0m\n\u001b[0m",
      "\u001b[0;32m<ipython-input-3-ebde75e4eba4>\u001b[0m in \u001b[0;36m__init__\u001b[0;34m(self, env_config)\u001b[0m\n\u001b[1;32m      8\u001b[0m \u001b[0;34m\u001b[0m\u001b[0m\n\u001b[1;32m      9\u001b[0m         super().__init__(env_config[\"building\"], env_config[\"zones\"], \n\u001b[0;32m---> 10\u001b[0;31m                          env_config[\"start\"], env_config[\"end\"], env_config[\"window\"])\n\u001b[0m\u001b[1;32m     11\u001b[0m \u001b[0;34m\u001b[0m\u001b[0m\n\u001b[1;32m     12\u001b[0m         \u001b[0;31m# assert self.zones == all zones in building. this is because of thermal model stuff.\u001b[0m\u001b[0;34m\u001b[0m\u001b[0;34m\u001b[0m\u001b[0;34m\u001b[0m\u001b[0m\n",
      "\u001b[0;32m~/BETS/XBOS/services/optimizer/DataManager/DataManager.py\u001b[0m in \u001b[0;36m__init__\u001b[0;34m(self, building, zones, start, end, window, non_controllable_data)\u001b[0m\n\u001b[1;32m     75\u001b[0m             iter_zone: xsg.get_comfortband(temperature_band_stub, self.building, iter_zone, self.start, self.end,\n\u001b[1;32m     76\u001b[0m                                            self.window)\n\u001b[0;32m---> 77\u001b[0;31m             for iter_zone in self.zones}\n\u001b[0m\u001b[1;32m     78\u001b[0m         \u001b[0;32melse\u001b[0m\u001b[0;34m:\u001b[0m\u001b[0;34m\u001b[0m\u001b[0;34m\u001b[0m\u001b[0m\n\u001b[1;32m     79\u001b[0m             \u001b[0mself\u001b[0m\u001b[0;34m.\u001b[0m\u001b[0mcomfortband\u001b[0m \u001b[0;34m=\u001b[0m \u001b[0mnon_controllable_data\u001b[0m\u001b[0;34m[\u001b[0m\u001b[0;34m\"comfortband\"\u001b[0m\u001b[0;34m]\u001b[0m\u001b[0;34m\u001b[0m\u001b[0;34m\u001b[0m\u001b[0m\n",
      "\u001b[0;32m~/BETS/XBOS/services/optimizer/DataManager/DataManager.py\u001b[0m in \u001b[0;36m<dictcomp>\u001b[0;34m(.0)\u001b[0m\n\u001b[1;32m     75\u001b[0m             iter_zone: xsg.get_comfortband(temperature_band_stub, self.building, iter_zone, self.start, self.end,\n\u001b[1;32m     76\u001b[0m                                            self.window)\n\u001b[0;32m---> 77\u001b[0;31m             for iter_zone in self.zones}\n\u001b[0m\u001b[1;32m     78\u001b[0m         \u001b[0;32melse\u001b[0m\u001b[0;34m:\u001b[0m\u001b[0;34m\u001b[0m\u001b[0;34m\u001b[0m\u001b[0m\n\u001b[1;32m     79\u001b[0m             \u001b[0mself\u001b[0m\u001b[0;34m.\u001b[0m\u001b[0mcomfortband\u001b[0m \u001b[0;34m=\u001b[0m \u001b[0mnon_controllable_data\u001b[0m\u001b[0;34m[\u001b[0m\u001b[0;34m\"comfortband\"\u001b[0m\u001b[0;34m]\u001b[0m\u001b[0;34m\u001b[0m\u001b[0;34m\u001b[0m\u001b[0m\n",
      "\u001b[0;32m~/BETS/xbos_services_getter/xbos_services_getter/xbos_services_getter.py\u001b[0m in \u001b[0;36mget_comfortband\u001b[0;34m(temperature_band_stub, building, zone, start, end, window)\u001b[0m\n\u001b[1;32m    152\u001b[0m     comfortband_response = temperature_band_stub.GetComfortband(\n\u001b[1;32m    153\u001b[0m         schedules_pb2.Request(building=building, zone=zone, start=int(start_unix), end=int(end_unix), window=window,\n\u001b[0;32m--> 154\u001b[0;31m                               unit=\"F\"))\n\u001b[0m\u001b[1;32m    155\u001b[0m \u001b[0;34m\u001b[0m\u001b[0m\n\u001b[1;32m    156\u001b[0m     \u001b[0;31m# process data\u001b[0m\u001b[0;34m\u001b[0m\u001b[0;34m\u001b[0m\u001b[0;34m\u001b[0m\u001b[0m\n",
      "\u001b[0;32m~/miniconda3/envs/venv-dr3/lib/python3.6/site-packages/grpc/_channel.py\u001b[0m in \u001b[0;36m__call__\u001b[0;34m(self, request, timeout, metadata, credentials)\u001b[0m\n\u001b[1;32m    531\u001b[0m     \u001b[0;32mdef\u001b[0m \u001b[0m__call__\u001b[0m\u001b[0;34m(\u001b[0m\u001b[0mself\u001b[0m\u001b[0;34m,\u001b[0m \u001b[0mrequest\u001b[0m\u001b[0;34m,\u001b[0m \u001b[0mtimeout\u001b[0m\u001b[0;34m=\u001b[0m\u001b[0;32mNone\u001b[0m\u001b[0;34m,\u001b[0m \u001b[0mmetadata\u001b[0m\u001b[0;34m=\u001b[0m\u001b[0;32mNone\u001b[0m\u001b[0;34m,\u001b[0m \u001b[0mcredentials\u001b[0m\u001b[0;34m=\u001b[0m\u001b[0;32mNone\u001b[0m\u001b[0;34m)\u001b[0m\u001b[0;34m:\u001b[0m\u001b[0;34m\u001b[0m\u001b[0;34m\u001b[0m\u001b[0m\n\u001b[1;32m    532\u001b[0m         \u001b[0mstate\u001b[0m\u001b[0;34m,\u001b[0m \u001b[0mcall\u001b[0m\u001b[0;34m,\u001b[0m \u001b[0;34m=\u001b[0m \u001b[0mself\u001b[0m\u001b[0;34m.\u001b[0m\u001b[0m_blocking\u001b[0m\u001b[0;34m(\u001b[0m\u001b[0mrequest\u001b[0m\u001b[0;34m,\u001b[0m \u001b[0mtimeout\u001b[0m\u001b[0;34m,\u001b[0m \u001b[0mmetadata\u001b[0m\u001b[0;34m,\u001b[0m \u001b[0mcredentials\u001b[0m\u001b[0;34m)\u001b[0m\u001b[0;34m\u001b[0m\u001b[0;34m\u001b[0m\u001b[0m\n\u001b[0;32m--> 533\u001b[0;31m         \u001b[0;32mreturn\u001b[0m \u001b[0m_end_unary_response_blocking\u001b[0m\u001b[0;34m(\u001b[0m\u001b[0mstate\u001b[0m\u001b[0;34m,\u001b[0m \u001b[0mcall\u001b[0m\u001b[0;34m,\u001b[0m \u001b[0;32mFalse\u001b[0m\u001b[0;34m,\u001b[0m \u001b[0;32mNone\u001b[0m\u001b[0;34m)\u001b[0m\u001b[0;34m\u001b[0m\u001b[0;34m\u001b[0m\u001b[0m\n\u001b[0m\u001b[1;32m    534\u001b[0m \u001b[0;34m\u001b[0m\u001b[0m\n\u001b[1;32m    535\u001b[0m     \u001b[0;32mdef\u001b[0m \u001b[0mwith_call\u001b[0m\u001b[0;34m(\u001b[0m\u001b[0mself\u001b[0m\u001b[0;34m,\u001b[0m \u001b[0mrequest\u001b[0m\u001b[0;34m,\u001b[0m \u001b[0mtimeout\u001b[0m\u001b[0;34m=\u001b[0m\u001b[0;32mNone\u001b[0m\u001b[0;34m,\u001b[0m \u001b[0mmetadata\u001b[0m\u001b[0;34m=\u001b[0m\u001b[0;32mNone\u001b[0m\u001b[0;34m,\u001b[0m \u001b[0mcredentials\u001b[0m\u001b[0;34m=\u001b[0m\u001b[0;32mNone\u001b[0m\u001b[0;34m)\u001b[0m\u001b[0;34m:\u001b[0m\u001b[0;34m\u001b[0m\u001b[0;34m\u001b[0m\u001b[0m\n",
      "\u001b[0;32m~/miniconda3/envs/venv-dr3/lib/python3.6/site-packages/grpc/_channel.py\u001b[0m in \u001b[0;36m_end_unary_response_blocking\u001b[0;34m(state, call, with_call, deadline)\u001b[0m\n\u001b[1;32m    465\u001b[0m             \u001b[0;32mreturn\u001b[0m \u001b[0mstate\u001b[0m\u001b[0;34m.\u001b[0m\u001b[0mresponse\u001b[0m\u001b[0;34m\u001b[0m\u001b[0;34m\u001b[0m\u001b[0m\n\u001b[1;32m    466\u001b[0m     \u001b[0;32melse\u001b[0m\u001b[0;34m:\u001b[0m\u001b[0;34m\u001b[0m\u001b[0;34m\u001b[0m\u001b[0m\n\u001b[0;32m--> 467\u001b[0;31m         \u001b[0;32mraise\u001b[0m \u001b[0m_Rendezvous\u001b[0m\u001b[0;34m(\u001b[0m\u001b[0mstate\u001b[0m\u001b[0;34m,\u001b[0m \u001b[0;32mNone\u001b[0m\u001b[0;34m,\u001b[0m \u001b[0;32mNone\u001b[0m\u001b[0;34m,\u001b[0m \u001b[0mdeadline\u001b[0m\u001b[0;34m)\u001b[0m\u001b[0;34m\u001b[0m\u001b[0;34m\u001b[0m\u001b[0m\n\u001b[0m\u001b[1;32m    468\u001b[0m \u001b[0;34m\u001b[0m\u001b[0m\n\u001b[1;32m    469\u001b[0m \u001b[0;34m\u001b[0m\u001b[0m\n",
      "\u001b[0;31m_Rendezvous\u001b[0m: <_Rendezvous of RPC that terminated with:\n\tstatus = StatusCode.UNAVAILABLE\n\tdetails = \"Connect Failed\"\n\tdebug_error_string = \"{\"created\":\"@1556762144.392878000\",\"description\":\"Failed to create subchannel\",\"file\":\"src/core/ext/filters/client_channel/client_channel.cc\",\"file_line\":2721,\"referenced_errors\":[{\"created\":\"@1556762144.392871000\",\"description\":\"Pick Cancelled\",\"file\":\"src/core/ext/filters/client_channel/lb_policy/pick_first/pick_first.cc\",\"file_line\":241,\"referenced_errors\":[{\"created\":\"@1556762144.392863000\",\"description\":\"Connect Failed\",\"file\":\"src/core/ext/filters/client_channel/subchannel.cc\",\"file_line\":689,\"grpc_status\":14,\"referenced_errors\":[{\"created\":\"@1556762144.392809000\",\"description\":\"Handshake failed\",\"file\":\"src/core/lib/security/transport/security_handshaker.cc\",\"file_line\":248,\"tsi_code\":10,\"tsi_error\":\"TSI_PROTOCOL_FAILURE\"}]}]}]}\"\n>"
     ]
    }
   ],
   "source": [
    "e = MyEnv(config)"
   ]
  },
  {
   "cell_type": "code",
   "execution_count": null,
   "metadata": {},
   "outputs": [],
   "source": [
    "e.reset()"
   ]
  },
  {
   "cell_type": "markdown",
   "metadata": {},
   "source": [
    "# Ray Example"
   ]
  },
  {
   "cell_type": "code",
   "execution_count": null,
   "metadata": {},
   "outputs": [],
   "source": [
    "import numpy as np\n",
    "import gym\n",
    "from ray.rllib.models import FullyConnectedNetwork, Model, ModelCatalog\n",
    "from gym.spaces import Discrete, Box\n",
    "\n",
    "import ray\n",
    "from ray import tune\n",
    "from ray.tune import grid_search"
   ]
  },
  {
   "cell_type": "code",
   "execution_count": null,
   "metadata": {},
   "outputs": [],
   "source": [
    "ray.init()"
   ]
  },
  {
   "cell_type": "code",
   "execution_count": null,
   "metadata": {},
   "outputs": [],
   "source": [
    "class SimpleCorridor(gym.Env):\n",
    "\n",
    "    def __init__(self, start, end, window, config):\n",
    "        \n",
    "        # config has [\"t_in_past_steps, t_out_past_steps, action_past_steps\"]\n",
    "        self.end_pos = config[\"corridor_length\"]\n",
    "        self.cur_pos = 0\n",
    "        self.action_space = Discrete(2)\n",
    "        self.observation_space = Box(\n",
    "            0.0, self.end_pos, shape=(1, ), dtype=np.float32)\n",
    "\n",
    "    def reset(self):\n",
    "        self.cur_pos = 0\n",
    "        return [self.cur_pos]\n",
    "\n",
    "    def step(self, action):\n",
    "        assert action in [0, 1], action\n",
    "        if action == 0 and self.cur_pos > 0:\n",
    "            self.cur_pos -= 1\n",
    "        elif action == 1:\n",
    "            self.cur_pos += 1\n",
    "        done = self.cur_pos >= self.end_pos\n",
    "        return [self.cur_pos], 1 if done else 0, done, {}\n",
    "    \n",
    "    \n",
    "class CustomModel(Model):\n",
    "    \"\"\"Example of a custom model.\n",
    "    This model just delegates to the built-in fcnet.\n",
    "    \"\"\"\n",
    "\n",
    "    def _build_layers_v2(self, input_dict, num_outputs, options):\n",
    "        self.obs_in = input_dict[\"obs\"]\n",
    "        self.fcnet = FullyConnectedNetwork(input_dict, self.obs_space,\n",
    "                                           self.action_space, num_outputs,\n",
    "                                           options)\n",
    "        return self.fcnet.outputs, self.fcnet.last_layer"
   ]
  },
  {
   "cell_type": "code",
   "execution_count": null,
   "metadata": {},
   "outputs": [],
   "source": [
    "# Can also register the env creator function explicitly with:\n",
    "# register_env(\"corridor\", lambda config: SimpleCorridor(config))\n",
    "ModelCatalog.register_custom_model(\"my_model\", CustomModel)\n",
    "tune.run(\n",
    "    \"PPO\",\n",
    "    stop={\n",
    "        \"timesteps_total\": 10000,\n",
    "    },\n",
    "    config={\n",
    "        \"env\": SimpleCorridor,  # or \"corridor\" if registered above\n",
    "        \"model\": {\n",
    "            \"custom_model\": \"my_model\",\n",
    "        },\n",
    "        \"lr\": grid_search([1e-2, 1e-4, 1e-6]),  # try different lrs\n",
    "        \"num_workers\": 1,  # parallelism\n",
    "        \"env_config\": {\n",
    "            \"corridor_length\": 5,\n",
    "        },\n",
    "    },\n",
    ")"
   ]
  },
  {
   "cell_type": "code",
   "execution_count": null,
   "metadata": {},
   "outputs": [],
   "source": []
  }
 ],
 "metadata": {
  "kernelspec": {
   "display_name": "Python (venv-dr3)\n",
   "language": "python",
   "name": "venv-dr3"
  },
  "language_info": {
   "codemirror_mode": {
    "name": "ipython",
    "version": 3
   },
   "file_extension": ".py",
   "mimetype": "text/x-python",
   "name": "python",
   "nbconvert_exporter": "python",
   "pygments_lexer": "ipython3",
   "version": "3.6.8"
  }
 },
 "nbformat": 4,
 "nbformat_minor": 2
}
