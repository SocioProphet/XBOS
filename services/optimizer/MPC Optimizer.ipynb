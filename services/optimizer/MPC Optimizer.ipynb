{
 "cells": [
  {
   "cell_type": "code",
   "execution_count": 1,
   "metadata": {},
   "outputs": [],
   "source": [
    "import time\n",
    "\n",
    "import datetime\n",
    "import pytz\n",
    "import calendar\n",
    "import itertools\n",
    "import pandas as pd"
   ]
  },
  {
   "cell_type": "code",
   "execution_count": 2,
   "metadata": {},
   "outputs": [],
   "source": [
    "import datetime\n",
    "import sys\n",
    "\n",
    "import networkx as nx\n",
    "import numpy as np\n",
    "import os\n",
    "import pandas as pd\n",
    "import plotly.offline as py\n",
    "import pytz\n",
    "\n",
    "sys.path.insert(0, '../')\n",
    "# import utils\n",
    "# from utils import plotly_figure\n",
    "\n",
    "import itertools\n",
    "import xbos_services_getter as xsg"
   ]
  },
  {
   "cell_type": "markdown",
   "metadata": {},
   "source": [
    "# Check that correct data is given"
   ]
  },
  {
   "cell_type": "code",
   "execution_count": 66,
   "metadata": {},
   "outputs": [],
   "source": [
    "def check_data(data, start, end, window):\n",
    "    \"\"\"Checks if data has right times and does not contain any Nan values. \n",
    "    \n",
    "    :param data: pd.df or pd.series\n",
    "    :param start: datetime (timezone aware)\n",
    "    :param end: datetime (timezone aware)\n",
    "    :param window: (string)\n",
    "    :return: str\"\"\"\n",
    "    window = xsg.get_window_in_sec(window)\n",
    "    if not isinstance(data, pd.DataFrame) and not isinstance(data, pd.Series):\n",
    "        return \"Is not a pd.DataFrame/pd.Series\"\n",
    "    if (start not in data.index) or ((end - datetime.timedelta(seconds=window)) not in data.index):\n",
    "        return \"Does not have valid start or/and end time.\"\n",
    "    if data.isna().values.any():\n",
    "        return \"Nan values in data.\"\n",
    "    time_diffs = data.index.to_series(keep_tz=True).diff()\n",
    "    if (time_diffs.shape[0] > 1) and ((time_diffs.min() != time_diffs.max()) or (time_diffs.min().seconds != window)):\n",
    "        return \"Missing rows or/and bad time frequency.\"\n",
    "    return None\n",
    "\n",
    "def check_data_zones(zones, data_dict, start, end, window):\n",
    "    for zone in zones:\n",
    "        if zone not in data_dict:\n",
    "            return \"Is missing zone \" + zone\n",
    "        err = check_data(data_dict[zone], start, end, window)\n",
    "        if err is not None:\n",
    "            return err\n",
    "    return None\n"
   ]
  },
  {
   "cell_type": "markdown",
   "metadata": {},
   "source": [
    "# Define OptimizerParent\n",
    "The optimizer parent can be used accross optimizers. It makes it easy to get the relevant data for training and testing purposes. \n",
    "\n",
    "Assumes that an Optimizer instance is created for every time the optimization is called."
   ]
  },
  {
   "cell_type": "code",
   "execution_count": 67,
   "metadata": {},
   "outputs": [],
   "source": [
    "class OptimizerParent:\n",
    "    def __init__(self, building, zones, start, end, window, non_controllable_data={}):\n",
    "        \n",
    "        self.start = start\n",
    "        self.unix_start = start.timestamp() * 1e9\n",
    "        self.end = end\n",
    "        self.unix_end = end.timestamp() * 1e9\n",
    "        self.window = window  # timedelta\n",
    "        \n",
    "        self.building = building\n",
    "        self.zones = zones \n",
    "        \n",
    "        if non_controllable_data is None:\n",
    "            non_controllable_data = {}\n",
    "        # TODO add error checking. check that the right zones are given in non_controllable_data and that the start/end/window are right. \n",
    "        \n",
    "        # Documentation: All data here is in timeseries starting exactly at start and every step corresponds to one \n",
    "        # interval. The end is not inclusive.\n",
    "\n",
    "        # temperature band\n",
    "        temperature_band_stub = xsg.get_temperature_band_stub()\n",
    "        \n",
    "        if \"comfortband\" not in non_controllable_data:\n",
    "            self.comfortband = {iter_zone: xsg.get_comfortband(temperature_band_stub, self.building, iter_zone, self.start, self.end, self.window)\n",
    "                                  for iter_zone in self.zones}\n",
    "        else:\n",
    "            self.comfortband = non_controllable_data[\"comfortband\"]\n",
    "        err = check_data_zones(self.zones, self.comfortband, start, end, window)\n",
    "        if err is not None:\n",
    "            raise Exception(\"Bad comfortband given. \" + err)\n",
    "            \n",
    "        if \"do_not_exceed\" not in non_controllable_data:\n",
    "            self.do_not_exceed = {iter_zone: xsg.get_do_not_exceed(temperature_band_stub, self.building, iter_zone, self.start, self.end, self.window)\n",
    "                                  for iter_zone in self.zones}\n",
    "        else:\n",
    "            self.do_not_exceed = non_controllable_data[\"do_not_exceed\"]\n",
    "        err = check_data_zones(self.zones, self.do_not_exceed, start, end, window)\n",
    "        if err is not None:\n",
    "            raise Exception(\"Bad DoNotExceed given. \" + err)\n",
    "        \n",
    "        # occupancy\n",
    "        if non_controllable_data is None or \"occupancy\" not in non_controllable_data:\n",
    "            occupancy_stub = xsg.get_occupancy_stub()\n",
    "            self.occupancy = {iter_zone: xsg.get_occupancy(occupancy_stub, self.building, iter_zone, self.start, self.end, self.window)\n",
    "                             for iter_zone in self.zones}\n",
    "        else:\n",
    "            self.occupancy = non_controllable_data[\"occupancy\"]\n",
    "        err = check_data_zones(self.zones, self.occupancy, start, end, window)\n",
    "        if err is not None:\n",
    "            raise Exception(\"Bad occupancy given. \" + err)\n",
    "        \n",
    "        # outdoor temperatures\n",
    "        if \"outdoor_temperature\" not in non_controllable_data:\n",
    "            outdoor_historic_stub = xsg.get_outdoor_historic_stub()\n",
    "            self.outdoor_temperature = xsg.get_outdoor_temperature_historic(outdoor_historic_stub, self.building,\n",
    "                                                                           self.start, self.end, self.window)\n",
    "        err = check_data(self.outdoor_temperature, start, end, window)\n",
    "        if err is not None:\n",
    "            raise Exception(\"Bad outdoor temperature given. \" + err)\n",
    "#         outdoor_prediction_channel = grpc.insecure_channel(OUTSIDE_PREDICTION)\n",
    "#         outdoor_prediction_stub = outdoor_temperature_prediction_pb2_grpc.OutdoorTemperatureStub(outdoor_prediction_channel)\n",
    "\n",
    "#         self.outdoor_temperatures = get_outside_temperature(\n",
    "#             outdoor_historic_stub, outdoor_prediction_stub, self.building, self.start, self.end, self.window)\n",
    "\n",
    "        # discomfort channel \n",
    "        self.discomfort_stub = xsg.get_discomfort_stub()\n",
    "        \n",
    "        # HVAC Consumption TODO ERROR CHECK?\n",
    "        hvac_consumption_stub = xsg.get_hvac_consumption_stub()\n",
    "        self.hvac_consumption = {iter_zone: xsg.get_hvac_consumption(hvac_consumption_stub, building, iter_zone) \n",
    "                                 for iter_zone in self.zones}\n",
    "        \n",
    "        # TODO Prices\n",
    "        \n"
   ]
  },
  {
   "cell_type": "markdown",
   "metadata": {},
   "source": [
    "# Shortest Path (MPC) Implementation\n",
    "\n",
    "Here the MPC is implemented. It inherits the data methods from OptimizerParent."
   ]
  },
  {
   "cell_type": "code",
   "execution_count": 114,
   "metadata": {},
   "outputs": [],
   "source": [
    "\n",
    "# TODO Demand charges right now assume constant demand charge throughout interval. should be easy to extend\n",
    "# TODO but need to keep in mind that we need to then store the cost of demand charge and not the consumption\n",
    "# TODO in the graph, since we actually only want to minimize cost and not consumption.\n",
    "\n",
    "# TODO if there is no feasible solution in which we can stay within a safety region –– revert to standard control and force it to go within saftey region. \n",
    "\n",
    "class Node:\n",
    "    \"\"\"\n",
    "    # this is a Node of the graph for the shortest path\n",
    "    \"\"\"\n",
    "\n",
    "    def __init__(self, temperatures, timestep):\n",
    "        self.temperatures = temperatures\n",
    "        self.timestep = timestep\n",
    "\n",
    "    def __hash__(self):\n",
    "        return hash((' '.join(str(e) for e in self.temperatures), self.timestep))\n",
    "\n",
    "    def __eq__(self, other):\n",
    "        return isinstance(other, self.__class__) \\\n",
    "               and self.temperatures == other.temperatures \\\n",
    "               and self.timestep == other.timestep\n",
    "\n",
    "    def __repr__(self):\n",
    "        return \"{0}-{1}\".format(self.timestep, self.temperatures)\n",
    "\n",
    "\n",
    "class MPC(OptimizerParent):\n",
    "    \"\"\"MPC Optimizer. \n",
    "    No Demand Charges and Two Stage actions implemented.\"\"\"\n",
    "    \n",
    "    def __init__(self, building, zones, start, end, window, lambda_val,\n",
    "                 root=Node([75], 0), non_controllable_data=None, debug=False):\n",
    "        \"\"\"\n",
    "        initialize instance variables\n",
    "        \n",
    "        :param building: (str) building name\n",
    "        :param zones: [str] zone names\n",
    "        :param start: (datetime timezone aware) \n",
    "        :param end: (datetime timezone aware) \n",
    "        :param window: (str) the interval in which to split the data.\n",
    "        :param lambda_val: (float) lambda value for opjective function\n",
    "        :param root: (Node) the node at which to start\n",
    "\n",
    "        \"\"\"\n",
    "        super().__init__(building, zones, start, end, window, non_controllable_data)\n",
    "\n",
    "        self.root = root\n",
    "        self.lambda_val = lambda_val\n",
    "        self.debug = debug\n",
    "\n",
    "        self.g = nx.DiGraph()  # [TODO:Changed to MultiDiGraph... FIX print]\n",
    "        \n",
    "    def safety_check(self, node):\n",
    "        for iter_zone in self.zones:\n",
    "            curr_temperature = node.temperatures[iter_zone]\n",
    "            curr_safety = self.do_not_exceed[iter_zone].iloc[node.timestep]\n",
    "            if not (curr_safety[\"t_low\"] <= curr_temperature <= curr_safety[\"t_high\"]):\n",
    "                return False\n",
    "        return True\n",
    "    \n",
    "    def timestep_to_datetime(self, timestep):\n",
    "        return start + timestep*datetime.timedelta(seconds=xsg.get_window_in_sec(self.window))\n",
    "\n",
    "    # the shortest path algorithm\n",
    "    def shortest_path(self, root):\n",
    "        \"\"\"\n",
    "        Creates the graph using DFS and calculates the shortest path\n",
    "    \n",
    "        :param root: node being examined right now and needs to be added to graph. \n",
    "        \n",
    "        :return: root Node if root added else return None. \n",
    "        \n",
    "        \"\"\"\n",
    "        \n",
    "        if root is None:\n",
    "            return None\n",
    "        \n",
    "        if root in self.g:\n",
    "            return root\n",
    "                \n",
    "        # stop if node is past predictive horizon\n",
    "        if self.timestep_to_datetime(root.timestep) >= self.end:\n",
    "            self.g.add_node(root, objective_cost=0, best_action=None, best_successor=None) # no cost as leaf node\n",
    "            return root\n",
    "        \n",
    "        # check if valid node\n",
    "        if not self.safety_check(root):\n",
    "            return None\n",
    "        \n",
    "        self.g.add_node(root, objective_cost=np.inf, best_action=None, best_successor=None)\n",
    "\n",
    "        # creating children, adding corresponding edge and updating root's objective cost\n",
    "        for action in itertools.product([xsg.NO_ACTION, xsg.HEATING_ACTION, xsg.COOLING_ACTION], \n",
    "                                       repeat=len(self.zones)):\n",
    "                \n",
    "            # TODO Compute temperatures properly\n",
    "            temperatures = {}\n",
    "            zone_action = {}\n",
    "            for i in range(len(self.zones)):\n",
    "                zone_action[self.zones[i]] = action[i]\n",
    "                temperatures[self.zones[i]] = root.temperatures[self.zones[i]] + \\\n",
    "                                                    1 * (action[i]==1) - 1*(action[i]==2)\n",
    "                    \n",
    "            # Create child node and call the shortest_path recursively on it\n",
    "            child_node = Node(\n",
    "                temperatures=temperatures,\n",
    "                timestep=root.timestep + 1\n",
    "                )\n",
    "\n",
    "            child_node = self.shortest_path(child_node)\n",
    "            if child_node is None:\n",
    "                continue\n",
    "\n",
    "            # get discomfort across edge\n",
    "            discomfort = {}\n",
    "            for iter_zone in self.zones:\n",
    "                curr_comfortband = self.comfortband[iter_zone].iloc[root.timestep]\n",
    "                curr_occupancy = self.occupancy[iter_zone].iloc[root.timestep]\n",
    "                average_edge_temperature = (root.temperatures[iter_zone] + child_node.temperatures[iter_zone])/2.\n",
    "\n",
    "                discomfort[iter_zone] = xsg.get_discomfort(\n",
    "                    self.discomfort_stub, self.building, average_edge_temperature,\n",
    "                    curr_comfortband[\"t_low\"], curr_comfortband[\"t_high\"], \n",
    "                    curr_occupancy)\n",
    "\n",
    "            # Get consumption across edge\n",
    "            price = 1  # self.prices.iloc[root.timestep] TODO also add right unit conversion, and duration\n",
    "            consumption_cost = {self.zones[i]: price * self.hvac_consumption[self.zones[i]][action[i]] \n",
    "                               for i in range(len(self.zones))}\n",
    "\n",
    "            # add edge \n",
    "            self.g.add_edge(root, child_node, action=zone_action, discomfort=discomfort, consumption_cost=consumption_cost)\n",
    "\n",
    "            # update root node to contain the best child.\n",
    "            total_edge_cost = ((1 - self.lambda_val) * (sum(consumption_cost.values()))) + (\n",
    "                self.lambda_val * (sum(discomfort.values())))\n",
    "            \n",
    "            objective_cost = self.g.node[child_node][\"objective_cost\"] + total_edge_cost\n",
    "\n",
    "            if objective_cost < self.g.node[root][\"objective_cost\"]:\n",
    "                self.g.node[root][\"objective_cost\"] = objective_cost\n",
    "                self.g.node[root][\"best_action\"] = zone_action\n",
    "                self.g.node[root][\"best_successor\"] = child_node\n",
    "                \n",
    "        return root\n",
    " \n",
    "    def reconstruct_path(self, root):\n",
    "        \"\"\"\n",
    "        Util function that reconstructs the best action path\n",
    "        Parameters\n",
    "        ----------\n",
    "        graph : networkx graph\n",
    "\n",
    "        Returns\n",
    "        -------\n",
    "        List\n",
    "        \"\"\"\n",
    "        graph = self.g \n",
    "        \n",
    "        if root not in self.g:\n",
    "            raise Exception(\"Root does not exist in MPC graph.\")\n",
    "\n",
    "        \n",
    "        path = [root]\n",
    "\n",
    "        while graph.node[root]['best_successor'] is not None:\n",
    "            root = graph.node[root]['best_successor']\n",
    "            path.append(root)\n",
    "\n",
    "        return path\n",
    "    \n",
    "#     def g_plot(self, zone):\n",
    "#         try:\n",
    "#             os.remove('mpc_graph_' + zone + '.html')\n",
    "#         except OSError:\n",
    "#             pass\n",
    "\n",
    "#         fig = plotly_figure(self.advise_unit.g, path=self.path)\n",
    "#         py.plot(fig, filename='mpc_graph_' + zone + '.html', auto_open=False)\n"
   ]
  },
  {
   "cell_type": "markdown",
   "metadata": {},
   "source": [
    "# Preliminary Testing of MPC"
   ]
  },
  {
   "cell_type": "code",
   "execution_count": 115,
   "metadata": {},
   "outputs": [],
   "source": [
    "names_stub = xsg.get_building_zone_names_stub()\n",
    "all_names = xsg.get_all_buildings_zones(names_stub)"
   ]
  },
  {
   "cell_type": "code",
   "execution_count": 116,
   "metadata": {},
   "outputs": [
    {
     "data": {
      "text/plain": [
       "['hvac_zone_shelter_corridor']"
      ]
     },
     "execution_count": 116,
     "metadata": {},
     "output_type": "execute_result"
    }
   ],
   "source": [
    "all_names[\"avenal-animal-shelter\"]"
   ]
  },
  {
   "cell_type": "code",
   "execution_count": 117,
   "metadata": {},
   "outputs": [
    {
     "name": "stdout",
     "output_type": "stream",
     "text": [
      "2019-04-11 23:45:57.707927+00:00\n",
      "2019-04-11 23:45:57+00:00\n"
     ]
    }
   ],
   "source": [
    "end = datetime.datetime.utcnow().replace(tzinfo=pytz.utc)\n",
    "start =  end - datetime.timedelta(hours=4)\n",
    "print(start)\n",
    "start = start.replace(microsecond=0)\n",
    "print(start)"
   ]
  },
  {
   "cell_type": "code",
   "execution_count": null,
   "metadata": {},
   "outputs": [],
   "source": []
  },
  {
   "cell_type": "code",
   "execution_count": 118,
   "metadata": {},
   "outputs": [
    {
     "name": "stdout",
     "output_type": "stream",
     "text": [
      "2019-04-11 23:45:58+00:00\n",
      "1555026358.0\n"
     ]
    }
   ],
   "source": [
    "\n",
    "end = datetime.datetime.utcnow().replace(tzinfo=pytz.utc)\n",
    "end = end.replace(microsecond=0)\n",
    "start =  end - datetime.timedelta(hours=4)\n",
    "\n",
    "print(start)\n",
    "print(start.timestamp())\n",
    "bldg = \"avenal-animal-shelter\"\n",
    "zone = \"hvac_zone_shelter_corridor\"\n",
    "window = \"15m\"\n",
    "\n",
    "op = MPC(bldg, [zone], start, end, window, 0.995)"
   ]
  },
  {
   "cell_type": "code",
   "execution_count": 119,
   "metadata": {},
   "outputs": [],
   "source": [
    "# Run shortest path\n",
    "root = Node({zone: 75}, 0)\n",
    "op.occupancy[zone][:] = 1"
   ]
  },
  {
   "cell_type": "code",
   "execution_count": 120,
   "metadata": {},
   "outputs": [
    {
     "name": "stdout",
     "output_type": "stream",
     "text": [
      "{'hvac_zone_shelter_corridor':                           t_high t_low\n",
      "2019-04-11 23:45:58+00:00     85    68\n",
      "2019-04-12 00:00:58+00:00     85    68\n",
      "2019-04-12 00:15:58+00:00     85    68\n",
      "2019-04-12 00:30:58+00:00     85    68\n",
      "2019-04-12 00:45:58+00:00     85    68\n",
      "2019-04-12 01:00:58+00:00     85    68\n",
      "2019-04-12 01:15:58+00:00     85    68\n",
      "2019-04-12 01:30:58+00:00     85    68\n",
      "2019-04-12 01:45:58+00:00     85    68\n",
      "2019-04-12 02:00:58+00:00     85    68\n",
      "2019-04-12 02:15:58+00:00     85    68\n",
      "2019-04-12 02:30:58+00:00     85    68\n",
      "2019-04-12 02:45:58+00:00     85    68\n",
      "2019-04-12 03:00:58+00:00     85    68\n",
      "2019-04-12 03:15:58+00:00     85    68\n",
      "2019-04-12 03:30:58+00:00     85    68}\n"
     ]
    }
   ],
   "source": [
    "print(op.do_not_exceed)"
   ]
  },
  {
   "cell_type": "code",
   "execution_count": 121,
   "metadata": {},
   "outputs": [
    {
     "name": "stdout",
     "output_type": "stream",
     "text": [
      "0-{'hvac_zone_shelter_corridor': 75}\n"
     ]
    }
   ],
   "source": [
    "root = op.shortest_path(root)\n",
    "print(root)"
   ]
  },
  {
   "cell_type": "code",
   "execution_count": 122,
   "metadata": {},
   "outputs": [
    {
     "name": "stdout",
     "output_type": "stream",
     "text": [
      "{'hvac_zone_shelter_corridor': 0}\n"
     ]
    }
   ],
   "source": [
    "print(op.g.node[root][\"best_action\"])"
   ]
  },
  {
   "cell_type": "code",
   "execution_count": 96,
   "metadata": {},
   "outputs": [
    {
     "data": {
      "text/plain": [
       "True"
      ]
     },
     "execution_count": 96,
     "metadata": {},
     "output_type": "execute_result"
    }
   ],
   "source": [
    "op.safety_check(root)"
   ]
  },
  {
   "cell_type": "code",
   "execution_count": 97,
   "metadata": {},
   "outputs": [
    {
     "data": {
      "text/plain": [
       "[0-{'hvac_zone_shelter_corridor': 75},\n",
       " 1-{'hvac_zone_shelter_corridor': 75},\n",
       " 2-{'hvac_zone_shelter_corridor': 75},\n",
       " 3-{'hvac_zone_shelter_corridor': 75},\n",
       " 4-{'hvac_zone_shelter_corridor': 75},\n",
       " 5-{'hvac_zone_shelter_corridor': 75},\n",
       " 6-{'hvac_zone_shelter_corridor': 75},\n",
       " 7-{'hvac_zone_shelter_corridor': 75},\n",
       " 8-{'hvac_zone_shelter_corridor': 75},\n",
       " 9-{'hvac_zone_shelter_corridor': 75},\n",
       " 10-{'hvac_zone_shelter_corridor': 75},\n",
       " 11-{'hvac_zone_shelter_corridor': 75},\n",
       " 12-{'hvac_zone_shelter_corridor': 75},\n",
       " 13-{'hvac_zone_shelter_corridor': 75},\n",
       " 14-{'hvac_zone_shelter_corridor': 75},\n",
       " 15-{'hvac_zone_shelter_corridor': 75},\n",
       " 16-{'hvac_zone_shelter_corridor': 75}]"
      ]
     },
     "execution_count": 97,
     "metadata": {},
     "output_type": "execute_result"
    }
   ],
   "source": [
    "op.reconstruct_path(root)"
   ]
  },
  {
   "cell_type": "code",
   "execution_count": 126,
   "metadata": {},
   "outputs": [],
   "source": [
    "class SimulationMPC():\n",
    "    \n",
    "    def __init__(self, building, zones, lambda_val, start, end, forecasting_horizon, window, tstats, non_contrallable_data=None):\n",
    "        self.building = building\n",
    "        self.zones = zones\n",
    "        self.lambda_val = lambda_val\n",
    "        \n",
    "        self.start = start # datetime timezone aware\n",
    "        self.end = end # datetime timezone aware\n",
    "        self.forecasting_horizon = forecasting_horizon# (str)\n",
    "        self.window = window# (str, between optimizations)\n",
    "        self.tstats = tstats# dictionary of simulator object with key zone. has functions: current_temperature, next_temperature(action)\n",
    "        \n",
    "        self.non_controllable_data = non_contrallable_data # dictionary should have keys [outdoor_temperature, occupancy, prices, comfortband, do_not_exceed] and be from start to end + forecasting horizon.\n",
    "        \n",
    "        self.current_time = start \n",
    "        \n",
    "        self.actions = []\n",
    "        \n",
    "        \n",
    "    def get_time_step(curr_time):\n",
    "        pass\n",
    "        \n",
    "    def step(self):\n",
    "        \n",
    "        # call\n",
    "        start_mpc = self.current_time\n",
    "        end_mpc = self.current_time + datetime.timedelta(seconds=xsg.get_window_in_sec(self.forecasting_horizon))\n",
    "        op = MPC(self.building, self.zones, start_mpc, end_mpc, window, self.lambda_val, debug=False)\n",
    "        \n",
    "        root = Node({iter_zone: tstats[iter_zone].temperature for iter_zone in self.zones}, 0)\n",
    "        \n",
    "        root = op.shortest_path(root)\n",
    "        best_action = op.g.node[root][\"best_action\"]\n",
    "        print(best_action)\n",
    "        \n",
    "        \n",
    "        # given the action, update simulation of temperature. \n",
    "        # increment time\n",
    "        \n",
    "        \n",
    "        return root\n",
    "\n",
    "    def run(self):\n",
    "        while self.current_time < self.end: \n",
    "            self.step()\n",
    "        \n"
   ]
  },
  {
   "cell_type": "code",
   "execution_count": 127,
   "metadata": {},
   "outputs": [
    {
     "name": "stdout",
     "output_type": "stream",
     "text": [
      "2019-04-11 03:46:41+00:00\n",
      "1554954401.0\n",
      "{'hvac_zone_shelter_corridor': 0}\n"
     ]
    },
    {
     "data": {
      "text/plain": [
       "0-{'hvac_zone_shelter_corridor': 75}"
      ]
     },
     "execution_count": 127,
     "metadata": {},
     "output_type": "execute_result"
    }
   ],
   "source": [
    "\n",
    "end = datetime.datetime.utcnow().replace(tzinfo=pytz.utc)\n",
    "end = end.replace(microsecond=0)\n",
    "start =  end - datetime.timedelta(hours=24)\n",
    "\n",
    "print(start)\n",
    "print(start.timestamp())\n",
    "building = \"avenal-animal-shelter\"\n",
    "zones = [\"hvac_zone_shelter_corridor\"]\n",
    "window = \"15m\"\n",
    "forecasting_horizon = \"4h\"\n",
    "lambda_val = 0.995\n",
    "tstats = {iter_zone: Tstat(75) for iter_zone in zones}\n",
    "simulation = SimulationMPC(building, zones, lambda_val, start, end, forecasting_horizon, window, tstats)\n",
    "simulation.step()"
   ]
  },
  {
   "cell_type": "markdown",
   "metadata": {},
   "source": []
  },
  {
   "cell_type": "code",
   "execution_count": 85,
   "metadata": {},
   "outputs": [],
   "source": [
    "class Tstat:\n",
    "    def __init__(self, temperature):\n",
    "        self.temperature = temperature\n",
    "        \n",
    "    def next_temperature(self, action):\n",
    "        self.temperature += 1 + 1 * (action==1) - 1*(action==2) + np.random.normal(0, 0.6)\n",
    "        return self.temperature\n",
    "    "
   ]
  },
  {
   "cell_type": "code",
   "execution_count": 3,
   "metadata": {},
   "outputs": [
    {
     "ename": "SyntaxError",
     "evalue": "invalid character in identifier (<ipython-input-3-10484913f3ed>, line 20)",
     "output_type": "error",
     "traceback": [
      "\u001b[0;36m  File \u001b[0;32m\"<ipython-input-3-10484913f3ed>\"\u001b[0;36m, line \u001b[0;32m20\u001b[0m\n\u001b[0;31m    \u001b[0m\n\u001b[0m    ^\u001b[0m\n\u001b[0;31mSyntaxError\u001b[0m\u001b[0;31m:\u001b[0m invalid character in identifier\n"
     ]
    }
   ],
   "source": [
    "\n",
    "\n",
    "\n",
    "    \n",
    "# Convert index to tz_naive so that it can be joined with meter data and oat data\n",
    "# data2 = data2.tz_localize(None)\n",
    "\n",
    "# data2.head()"
   ]
  },
  {
   "cell_type": "code",
   "execution_count": 14,
   "metadata": {},
   "outputs": [],
   "source": [
    "s = '2018-01-01T00:00:00Z'\n",
    "e = '2018-01-15T00:00:00Z'\n",
    "site = ['ciee']\n",
    "window = '15m'\n",
    "point_type = 'Building_Electric_Meter'\n",
    "agg = 'MEAN'\n",
    "window = '15m'\n",
    "\n",
    "s1 = datetime.datetime(2018, 1, 1, 0, 0, 0, 0, pytz.UTC)\n",
    "e1 = datetime.datetime(2018, 1, 1, 0, 0, 0, 0, pytz.UTC)\n",
    "\n",
    "meter_data_historical_stub = xsg.get_meter_data_historical_stub()\n"
   ]
  },
  {
   "cell_type": "code",
   "execution_count": 11,
   "metadata": {},
   "outputs": [
    {
     "ename": "SyntaxError",
     "evalue": "invalid character in identifier (<ipython-input-11-01762378e869>, line 2)",
     "output_type": "error",
     "traceback": [
      "\u001b[0;36m  File \u001b[0;32m\"<ipython-input-11-01762378e869>\"\u001b[0;36m, line \u001b[0;32m2\u001b[0m\n\u001b[0;31m    bldg=site,\u001b[0m\n\u001b[0m       ^\u001b[0m\n\u001b[0;31mSyntaxError\u001b[0m\u001b[0;31m:\u001b[0m invalid character in identifier\n"
     ]
    }
   ],
   "source": [
    "data2 = xsg.get_meter_data_historical(meter_data_stub=meter_data_historical_stub, \n",
    "                                                      bldg=site, \n",
    "                                                      start=s1, \n",
    "                                                      end=e1, \n",
    "                                                      point_type=point_type, \n",
    "                                                      aggregate=agg, \n",
    "                                                      window=window)"
   ]
  },
  {
   "cell_type": "code",
   "execution_count": 15,
   "metadata": {},
   "outputs": [
    {
     "ename": "_Rendezvous",
     "evalue": "<_Rendezvous of RPC that terminated with:\n\tstatus = StatusCode.UNKNOWN\n\tdetails = \"Exception calling application: 'NoneType' object has no attribute 'columns'\"\n\tdebug_error_string = \"{\"created\":\"@1555111166.153281000\",\"description\":\"Error received from peer\",\"file\":\"src/core/lib/surface/call.cc\",\"file_line\":1017,\"grpc_message\":\"Exception calling application: 'NoneType' object has no attribute 'columns'\",\"grpc_status\":2}\"\n>",
     "output_type": "error",
     "traceback": [
      "\u001b[0;31m---------------------------------------------------------------------------\u001b[0m",
      "\u001b[0;31m_Rendezvous\u001b[0m                               Traceback (most recent call last)",
      "\u001b[0;32m<ipython-input-15-b4990f53b729>\u001b[0m in \u001b[0;36m<module>\u001b[0;34m\u001b[0m\n\u001b[0;32m----> 1\u001b[0;31m \u001b[0mxsg\u001b[0m\u001b[0;34m.\u001b[0m\u001b[0mget_meter_data_historical\u001b[0m\u001b[0;34m(\u001b[0m\u001b[0mmeter_data_historical_stub\u001b[0m\u001b[0;34m,\u001b[0m \u001b[0msite\u001b[0m\u001b[0;34m,\u001b[0m \u001b[0ms1\u001b[0m\u001b[0;34m,\u001b[0m \u001b[0me1\u001b[0m\u001b[0;34m,\u001b[0m \u001b[0mpoint_type\u001b[0m\u001b[0;34m,\u001b[0m \u001b[0magg\u001b[0m\u001b[0;34m,\u001b[0m \u001b[0mwindow\u001b[0m\u001b[0;34m)\u001b[0m\u001b[0;34m\u001b[0m\u001b[0;34m\u001b[0m\u001b[0m\n\u001b[0m",
      "\u001b[0;32m~/BETS/xbos_services_getter/xbos_services_getter/xbos_services_getter.py\u001b[0m in \u001b[0;36mget_meter_data_historical\u001b[0;34m(meter_data_stub, bldg, start, end, point_type, aggregate, window)\u001b[0m\n\u001b[1;32m    604\u001b[0m     )\n\u001b[1;32m    605\u001b[0m \u001b[0;34m\u001b[0m\u001b[0m\n\u001b[0;32m--> 606\u001b[0;31m     \u001b[0mresponse\u001b[0m \u001b[0;34m=\u001b[0m \u001b[0mmeter_data_stub\u001b[0m\u001b[0;34m.\u001b[0m\u001b[0mGetMeterDataHistorical\u001b[0m\u001b[0;34m(\u001b[0m\u001b[0mrequest\u001b[0m\u001b[0;34m)\u001b[0m\u001b[0;34m\u001b[0m\u001b[0;34m\u001b[0m\u001b[0m\n\u001b[0m\u001b[1;32m    607\u001b[0m \u001b[0;34m\u001b[0m\u001b[0m\n\u001b[1;32m    608\u001b[0m     \u001b[0mdf\u001b[0m \u001b[0;34m=\u001b[0m \u001b[0mpd\u001b[0m\u001b[0;34m.\u001b[0m\u001b[0mDataFrame\u001b[0m\u001b[0;34m(\u001b[0m\u001b[0;34m)\u001b[0m\u001b[0;34m\u001b[0m\u001b[0;34m\u001b[0m\u001b[0m\n",
      "\u001b[0;32m~/miniconda3/envs/venv-dr3/lib/python3.6/site-packages/grpc/_channel.py\u001b[0m in \u001b[0;36m__call__\u001b[0;34m(self, request, timeout, metadata, credentials)\u001b[0m\n\u001b[1;32m    531\u001b[0m     \u001b[0;32mdef\u001b[0m \u001b[0m__call__\u001b[0m\u001b[0;34m(\u001b[0m\u001b[0mself\u001b[0m\u001b[0;34m,\u001b[0m \u001b[0mrequest\u001b[0m\u001b[0;34m,\u001b[0m \u001b[0mtimeout\u001b[0m\u001b[0;34m=\u001b[0m\u001b[0;32mNone\u001b[0m\u001b[0;34m,\u001b[0m \u001b[0mmetadata\u001b[0m\u001b[0;34m=\u001b[0m\u001b[0;32mNone\u001b[0m\u001b[0;34m,\u001b[0m \u001b[0mcredentials\u001b[0m\u001b[0;34m=\u001b[0m\u001b[0;32mNone\u001b[0m\u001b[0;34m)\u001b[0m\u001b[0;34m:\u001b[0m\u001b[0;34m\u001b[0m\u001b[0;34m\u001b[0m\u001b[0m\n\u001b[1;32m    532\u001b[0m         \u001b[0mstate\u001b[0m\u001b[0;34m,\u001b[0m \u001b[0mcall\u001b[0m\u001b[0;34m,\u001b[0m \u001b[0;34m=\u001b[0m \u001b[0mself\u001b[0m\u001b[0;34m.\u001b[0m\u001b[0m_blocking\u001b[0m\u001b[0;34m(\u001b[0m\u001b[0mrequest\u001b[0m\u001b[0;34m,\u001b[0m \u001b[0mtimeout\u001b[0m\u001b[0;34m,\u001b[0m \u001b[0mmetadata\u001b[0m\u001b[0;34m,\u001b[0m \u001b[0mcredentials\u001b[0m\u001b[0;34m)\u001b[0m\u001b[0;34m\u001b[0m\u001b[0;34m\u001b[0m\u001b[0m\n\u001b[0;32m--> 533\u001b[0;31m         \u001b[0;32mreturn\u001b[0m \u001b[0m_end_unary_response_blocking\u001b[0m\u001b[0;34m(\u001b[0m\u001b[0mstate\u001b[0m\u001b[0;34m,\u001b[0m \u001b[0mcall\u001b[0m\u001b[0;34m,\u001b[0m \u001b[0;32mFalse\u001b[0m\u001b[0;34m,\u001b[0m \u001b[0;32mNone\u001b[0m\u001b[0;34m)\u001b[0m\u001b[0;34m\u001b[0m\u001b[0;34m\u001b[0m\u001b[0m\n\u001b[0m\u001b[1;32m    534\u001b[0m \u001b[0;34m\u001b[0m\u001b[0m\n\u001b[1;32m    535\u001b[0m     \u001b[0;32mdef\u001b[0m \u001b[0mwith_call\u001b[0m\u001b[0;34m(\u001b[0m\u001b[0mself\u001b[0m\u001b[0;34m,\u001b[0m \u001b[0mrequest\u001b[0m\u001b[0;34m,\u001b[0m \u001b[0mtimeout\u001b[0m\u001b[0;34m=\u001b[0m\u001b[0;32mNone\u001b[0m\u001b[0;34m,\u001b[0m \u001b[0mmetadata\u001b[0m\u001b[0;34m=\u001b[0m\u001b[0;32mNone\u001b[0m\u001b[0;34m,\u001b[0m \u001b[0mcredentials\u001b[0m\u001b[0;34m=\u001b[0m\u001b[0;32mNone\u001b[0m\u001b[0;34m)\u001b[0m\u001b[0;34m:\u001b[0m\u001b[0;34m\u001b[0m\u001b[0;34m\u001b[0m\u001b[0m\n",
      "\u001b[0;32m~/miniconda3/envs/venv-dr3/lib/python3.6/site-packages/grpc/_channel.py\u001b[0m in \u001b[0;36m_end_unary_response_blocking\u001b[0;34m(state, call, with_call, deadline)\u001b[0m\n\u001b[1;32m    465\u001b[0m             \u001b[0;32mreturn\u001b[0m \u001b[0mstate\u001b[0m\u001b[0;34m.\u001b[0m\u001b[0mresponse\u001b[0m\u001b[0;34m\u001b[0m\u001b[0;34m\u001b[0m\u001b[0m\n\u001b[1;32m    466\u001b[0m     \u001b[0;32melse\u001b[0m\u001b[0;34m:\u001b[0m\u001b[0;34m\u001b[0m\u001b[0;34m\u001b[0m\u001b[0m\n\u001b[0;32m--> 467\u001b[0;31m         \u001b[0;32mraise\u001b[0m \u001b[0m_Rendezvous\u001b[0m\u001b[0;34m(\u001b[0m\u001b[0mstate\u001b[0m\u001b[0;34m,\u001b[0m \u001b[0;32mNone\u001b[0m\u001b[0;34m,\u001b[0m \u001b[0;32mNone\u001b[0m\u001b[0;34m,\u001b[0m \u001b[0mdeadline\u001b[0m\u001b[0;34m)\u001b[0m\u001b[0;34m\u001b[0m\u001b[0;34m\u001b[0m\u001b[0m\n\u001b[0m\u001b[1;32m    468\u001b[0m \u001b[0;34m\u001b[0m\u001b[0m\n\u001b[1;32m    469\u001b[0m \u001b[0;34m\u001b[0m\u001b[0m\n",
      "\u001b[0;31m_Rendezvous\u001b[0m: <_Rendezvous of RPC that terminated with:\n\tstatus = StatusCode.UNKNOWN\n\tdetails = \"Exception calling application: 'NoneType' object has no attribute 'columns'\"\n\tdebug_error_string = \"{\"created\":\"@1555111166.153281000\",\"description\":\"Error received from peer\",\"file\":\"src/core/lib/surface/call.cc\",\"file_line\":1017,\"grpc_message\":\"Exception calling application: 'NoneType' object has no attribute 'columns'\",\"grpc_status\":2}\"\n>"
     ]
    }
   ],
   "source": [
    "xsg.get_meter_data_historical(meter_data_historical_stub, site, s1, e1, point_type, agg, window)"
   ]
  },
  {
   "cell_type": "code",
   "execution_count": null,
   "metadata": {},
   "outputs": [],
   "source": []
  }
 ],
 "metadata": {
  "kernelspec": {
   "display_name": "Python (venv-dr3)\n",
   "language": "python",
   "name": "venv-dr3"
  },
  "language_info": {
   "codemirror_mode": {
    "name": "ipython",
    "version": 3
   },
   "file_extension": ".py",
   "mimetype": "text/x-python",
   "name": "python",
   "nbconvert_exporter": "python",
   "pygments_lexer": "ipython3",
   "version": "3.6.8"
  }
 },
 "nbformat": 4,
 "nbformat_minor": 2
}
