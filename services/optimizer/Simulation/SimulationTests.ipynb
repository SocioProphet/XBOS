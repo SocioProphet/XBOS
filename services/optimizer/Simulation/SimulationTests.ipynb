{
 "cells": [
  {
   "cell_type": "code",
   "execution_count": 1,
   "metadata": {},
   "outputs": [],
   "source": [
    "%load_ext autoreload\n",
    "%autoreload 2"
   ]
  },
  {
   "cell_type": "code",
   "execution_count": 2,
   "metadata": {},
   "outputs": [],
   "source": [
    "import time\n",
    "\n",
    "import datetime\n",
    "import pytz\n",
    "import calendar\n",
    "import itertools\n",
    "import pandas as pd\n",
    "\n",
    "import datetime\n",
    "import sys\n",
    "\n",
    "import numpy as np\n",
    "import os\n",
    "import pandas as pd\n",
    "import pytz\n",
    "\n",
    "sys.path.insert(0, '../')\n",
    "sys.path.insert(0, '../Optimizers')\n",
    "\n",
    "# import utils\n",
    "# from utils import plotly_figure\n",
    "\n",
    "import itertools\n",
    "import xbos_services_getter as xsg\n",
    "\n",
    "from Optimizers.MPC.MPC import MPC\n",
    "from Optimizers.MPC.MPC import Node\n",
    "from DataManager.DataManager import DataManager\n",
    "\n",
    "\n",
    "# from Optimizers.MPC.MPC import MPC\n",
    "# from Optimizers.MPC.MPC import Node\n",
    "# from DataManager.DataManager import DataManager\n",
    "from Thermostat import Tstat"
   ]
  },
  {
   "cell_type": "code",
   "execution_count": 3,
   "metadata": {},
   "outputs": [],
   "source": [
    "from Simulation.Simulation import SimulationMPC\n",
    "from datetime import *\n",
    "import xbos_services_getter as xsg"
   ]
  },
  {
   "cell_type": "code",
   "execution_count": 4,
   "metadata": {},
   "outputs": [],
   "source": [
    "TZ=pytz.timezone('US/Pacific')\n",
    "#start = datetime(year=2016,day=1,month=1,hour=0,tzinfo=TZ)\n",
    "start = datetime.now(TZ)-timedelta(days=2)\n",
    "end = datetime.now(TZ)-timedelta(days=1)\n",
    "# 1 zone at a time\n",
    "# (start, end): beginning and end of the simulated interval\n",
    "# horizon 4h is good\n",
    "building = 'avenal-movie-theatre'\n",
    "horizon = '4h'\n",
    "window = \"15m\"\n",
    "lambda_val = 0.9\n",
    "zone = 'hvac_zone_lobby'\n",
    "building_zone_names_stub = xsg.get_building_zone_names_stub()\n",
    "all_zones = xsg.get_zones(building_zone_names_stub, building)\n",
    "starting_temperatures = {zone: 66. for zone in all_zones}\n"
   ]
  },
  {
   "cell_type": "code",
   "execution_count": null,
   "metadata": {},
   "outputs": [],
   "source": [
    "\n",
    "def simulation(building, start, end, horizon, lambda_val, zone=None):\n",
    "    all_zones = get_zones(building)\n",
    "    use_zones = [zone] if zone is not None else all_zones\n",
    "    #zonename = all_zones[0]\n",
    "    print(building, start, end, horizon, lambda_val)\n",
    "    results = {}\n",
    "    for zonename in use_zones:\n",
    "        starting_temperatures = {zone: 66. for zone in all_zones}\n",
    "        # 15 minutes here is the simulated step\n",
    "        res = xsg.get_mpc_simulation(optimizer_stub, building, [zonename], start, end, '15m', horizon, lambda_val, starting_temperatures)\n",
    "        dates = pd.date_range(start, end, freq='15T')\n",
    "        actions, temperatures = res\n",
    "        # we pad the actions with an 'off'\n",
    "        actions = list(actions[0][zonename].actions) + [0]\n",
    "        d = {\n",
    "                'time': dates,\n",
    "                'actions': actions,\n",
    "                'temperatures': temperatures[0][zonename].temperatures,\n",
    "            }\n",
    "        print({k: len(v) for k,v in d.items()})\n",
    "        df = pd.DataFrame.from_dict(d)\n",
    "        df = df.set_index(pd.to_datetime(df.pop('time')))\n",
    "        df = df.resample('15T').max()\n",
    "        results[zonename] = df\n",
    "    return results"
   ]
  },
  {
   "cell_type": "code",
   "execution_count": 5,
   "metadata": {},
   "outputs": [
    {
     "name": "stdout",
     "output_type": "stream",
     "text": [
      "hvac_zone_lobby\n",
      "WARNING: Tstat for building: 'avenal-movie-theatre' and zone: 'hvac_zone_lobby' did not receive error data from indoor_temperature_prediction microservice for action: '0' and is now using STANDARD error.\n",
      "WARNING: Tstat for building: 'avenal-movie-theatre' and zone: 'hvac_zone_lobby' did not receive error data from indoor_temperature_prediction microservice for action: '1' and is now using STANDARD error.\n",
      "WARNING: Tstat for building: 'avenal-movie-theatre' and zone: 'hvac_zone_lobby' did not receive error data from indoor_temperature_prediction microservice for action: '2' and is now using STANDARD error.\n",
      "hvac_zone_main_hallway\n",
      "WARNING: Tstat for building: 'avenal-movie-theatre' and zone: 'hvac_zone_main_hallway' did not receive error data from indoor_temperature_prediction microservice for action: '0' and is now using STANDARD error.\n",
      "WARNING: Tstat for building: 'avenal-movie-theatre' and zone: 'hvac_zone_main_hallway' did not receive error data from indoor_temperature_prediction microservice for action: '1' and is now using STANDARD error.\n",
      "WARNING: Tstat for building: 'avenal-movie-theatre' and zone: 'hvac_zone_main_hallway' did not receive error data from indoor_temperature_prediction microservice for action: '2' and is now using STANDARD error.\n",
      "hvac_zone_room_a\n",
      "WARNING: Tstat for building: 'avenal-movie-theatre' and zone: 'hvac_zone_room_a' did not receive error data from indoor_temperature_prediction microservice for action: '0' and is now using STANDARD error.\n",
      "WARNING: Tstat for building: 'avenal-movie-theatre' and zone: 'hvac_zone_room_a' did not receive error data from indoor_temperature_prediction microservice for action: '1' and is now using STANDARD error.\n",
      "WARNING: Tstat for building: 'avenal-movie-theatre' and zone: 'hvac_zone_room_a' did not receive error data from indoor_temperature_prediction microservice for action: '2' and is now using STANDARD error.\n",
      "hvac_zone_theater_2\n",
      "WARNING: Tstat for building: 'avenal-movie-theatre' and zone: 'hvac_zone_theater_2' did not receive error data from indoor_temperature_prediction microservice for action: '0' and is now using STANDARD error.\n",
      "WARNING: Tstat for building: 'avenal-movie-theatre' and zone: 'hvac_zone_theater_2' did not receive error data from indoor_temperature_prediction microservice for action: '1' and is now using STANDARD error.\n",
      "WARNING: Tstat for building: 'avenal-movie-theatre' and zone: 'hvac_zone_theater_2' did not receive error data from indoor_temperature_prediction microservice for action: '2' and is now using STANDARD error.\n",
      "hvac_zone_back_hallway\n",
      "WARNING: Tstat for building: 'avenal-movie-theatre' and zone: 'hvac_zone_back_hallway' did not receive error data from indoor_temperature_prediction microservice for action: '0' and is now using STANDARD error.\n",
      "WARNING: Tstat for building: 'avenal-movie-theatre' and zone: 'hvac_zone_back_hallway' did not receive error data from indoor_temperature_prediction microservice for action: '1' and is now using STANDARD error.\n",
      "WARNING: Tstat for building: 'avenal-movie-theatre' and zone: 'hvac_zone_back_hallway' did not receive error data from indoor_temperature_prediction microservice for action: '2' and is now using STANDARD error.\n",
      "hvac_zone_room_d\n",
      "WARNING: Tstat for building: 'avenal-movie-theatre' and zone: 'hvac_zone_room_d' did not receive error data from indoor_temperature_prediction microservice for action: '0' and is now using STANDARD error.\n",
      "WARNING: Tstat for building: 'avenal-movie-theatre' and zone: 'hvac_zone_room_d' did not receive error data from indoor_temperature_prediction microservice for action: '1' and is now using STANDARD error.\n",
      "WARNING: Tstat for building: 'avenal-movie-theatre' and zone: 'hvac_zone_room_d' did not receive error data from indoor_temperature_prediction microservice for action: '2' and is now using STANDARD error.\n",
      "hvac_zone_pegasus_hall\n",
      "WARNING: Tstat for building: 'avenal-movie-theatre' and zone: 'hvac_zone_pegasus_hall' did not receive error data from indoor_temperature_prediction microservice for action: '0' and is now using STANDARD error.\n",
      "WARNING: Tstat for building: 'avenal-movie-theatre' and zone: 'hvac_zone_pegasus_hall' did not receive error data from indoor_temperature_prediction microservice for action: '1' and is now using STANDARD error.\n",
      "WARNING: Tstat for building: 'avenal-movie-theatre' and zone: 'hvac_zone_pegasus_hall' did not receive error data from indoor_temperature_prediction microservice for action: '2' and is now using STANDARD error.\n",
      "hvac_zone_theater_1\n",
      "WARNING: Tstat for building: 'avenal-movie-theatre' and zone: 'hvac_zone_theater_1' did not receive error data from indoor_temperature_prediction microservice for action: '0' and is now using STANDARD error.\n",
      "WARNING: Tstat for building: 'avenal-movie-theatre' and zone: 'hvac_zone_theater_1' did not receive error data from indoor_temperature_prediction microservice for action: '1' and is now using STANDARD error.\n",
      "WARNING: Tstat for building: 'avenal-movie-theatre' and zone: 'hvac_zone_theater_1' did not receive error data from indoor_temperature_prediction microservice for action: '2' and is now using STANDARD error.\n"
     ]
    }
   ],
   "source": [
    "tstats = {}\n",
    "for iter_zone in all_zones:\n",
    "    print(iter_zone)\n",
    "    tstats[iter_zone] = Tstat(building, iter_zone, starting_temperatures[iter_zone],  suppress_not_enough_data_error=True)\n",
    "\n"
   ]
  },
  {
   "cell_type": "code",
   "execution_count": 12,
   "metadata": {},
   "outputs": [
    {
     "name": "stdout",
     "output_type": "stream",
     "text": [
      "{'hvac_zone_lobby':                            t_high  t_low unit\n",
      "datetime                                     \n",
      "2019-06-05 14:09:45-07:00    76.0   68.0    F\n",
      "2019-06-05 14:24:45-07:00    76.0   68.0    F\n",
      "2019-06-05 14:39:45-07:00    76.0   68.0    F\n",
      "2019-06-05 14:54:45-07:00    76.0   68.0    F\n",
      "2019-06-05 15:09:45-07:00    76.0   68.0    F\n",
      "2019-06-05 15:24:45-07:00    76.0   68.0    F\n",
      "2019-06-05 15:39:45-07:00    76.0   68.0    F\n",
      "2019-06-05 15:54:45-07:00    76.0   68.0    F\n",
      "2019-06-05 16:09:45-07:00    76.0   68.0    F\n",
      "2019-06-05 16:24:45-07:00    76.0   68.0    F\n",
      "2019-06-05 16:39:45-07:00    76.0   68.0    F\n",
      "2019-06-05 16:54:45-07:00    77.3   68.0    F\n",
      "2019-06-05 17:09:45-07:00    78.0   68.0    F\n",
      "2019-06-05 17:24:45-07:00    78.0   68.0    F\n",
      "2019-06-05 17:39:45-07:00    78.0   68.0    F\n",
      "2019-06-05 17:54:45-07:00    78.0   68.0    F\n",
      "2019-06-05 18:09:45-07:00    78.0   68.0    F\n",
      "2019-06-05 18:24:45-07:00    78.0   68.0    F\n",
      "2019-06-05 18:39:45-07:00    78.0   68.0    F\n",
      "2019-06-05 18:54:45-07:00    78.0   68.0    F\n",
      "2019-06-05 19:09:45-07:00    78.0   68.0    F\n",
      "2019-06-05 19:24:45-07:00    78.0   68.0    F\n",
      "2019-06-05 19:39:45-07:00    78.0   68.0    F\n",
      "2019-06-05 19:54:45-07:00    78.0   68.0    F\n",
      "2019-06-05 20:09:45-07:00    78.0   68.0    F\n",
      "2019-06-05 20:24:45-07:00    78.0   68.0    F\n",
      "2019-06-05 20:39:45-07:00    78.0   68.0    F\n",
      "2019-06-05 20:54:45-07:00    78.0   68.0    F\n",
      "2019-06-05 21:09:45-07:00    78.0   68.0    F\n",
      "2019-06-05 21:24:45-07:00    78.0   68.0    F\n",
      "...                           ...    ...  ...\n",
      "2019-06-06 10:39:45-07:00    78.0   68.0    F\n",
      "2019-06-06 10:54:45-07:00    78.0   68.0    F\n",
      "2019-06-06 11:09:45-07:00    78.0   68.0    F\n",
      "2019-06-06 11:24:45-07:00    78.0   68.0    F\n",
      "2019-06-06 11:39:45-07:00    78.0   68.0    F\n",
      "2019-06-06 11:54:45-07:00    76.7   68.0    F\n",
      "2019-06-06 12:09:45-07:00    76.0   68.0    F\n",
      "2019-06-06 12:24:45-07:00    76.0   68.0    F\n",
      "2019-06-06 12:39:45-07:00    76.0   68.0    F\n",
      "2019-06-06 12:54:45-07:00    76.0   68.0    F\n",
      "2019-06-06 13:09:45-07:00    76.0   68.0    F\n",
      "2019-06-06 13:24:45-07:00    76.0   68.0    F\n",
      "2019-06-06 13:39:45-07:00    76.0   68.0    F\n",
      "2019-06-06 13:54:45-07:00    76.0   68.0    F\n",
      "2019-06-06 14:09:45-07:00    76.0   68.0    F\n",
      "2019-06-06 14:24:45-07:00    76.0   68.0    F\n",
      "2019-06-06 14:39:45-07:00    76.0   68.0    F\n",
      "2019-06-06 14:54:45-07:00    76.0   68.0    F\n",
      "2019-06-06 15:09:45-07:00    76.0   68.0    F\n",
      "2019-06-06 15:24:45-07:00    76.0   68.0    F\n",
      "2019-06-06 15:39:45-07:00    76.0   68.0    F\n",
      "2019-06-06 15:54:45-07:00    76.0   68.0    F\n",
      "2019-06-06 16:09:45-07:00    76.0   68.0    F\n",
      "2019-06-06 16:24:45-07:00    76.0   68.0    F\n",
      "2019-06-06 16:39:45-07:00    76.0   68.0    F\n",
      "2019-06-06 16:54:45-07:00    76.0   68.0    F\n",
      "2019-06-06 17:09:45-07:00    76.0   68.0    F\n",
      "2019-06-06 17:24:45-07:00    76.0   68.0    F\n",
      "2019-06-06 17:39:45-07:00    76.0   68.0    F\n",
      "2019-06-06 17:54:45-07:00    76.0   68.0    F\n",
      "\n",
      "[112 rows x 3 columns]}\n",
      "start 2019-06-05 14:09:45.064884-07:00\n",
      "end 2019-06-06 18:09:45.064955-07:00\n"
     ]
    },
    {
     "ename": "Exception",
     "evalue": "Bad comfortband given. Does not have valid start or/and end time.",
     "output_type": "error",
     "traceback": [
      "\u001b[0;31m---------------------------------------------------------------------------\u001b[0m",
      "\u001b[0;31mException\u001b[0m                                 Traceback (most recent call last)",
      "\u001b[0;32m<ipython-input-12-7869993e4071>\u001b[0m in \u001b[0;36m<module>\u001b[0;34m\u001b[0m\n\u001b[1;32m      1\u001b[0m \u001b[0;34m\u001b[0m\u001b[0m\n\u001b[1;32m      2\u001b[0m Simulation_instance = SimulationMPC(building, [zone], lambda_val,\n\u001b[0;32m----> 3\u001b[0;31m                                         start, end, horizon, window, tstats)\n\u001b[0m",
      "\u001b[0;32m~/BETS/XBOS/services/optimizer/Simulation/Simulation.py\u001b[0m in \u001b[0;36m__init__\u001b[0;34m(self, building, zones, lambda_val, start, end, forecasting_horizon, window, tstats, non_contrallable_data)\u001b[0m\n\u001b[1;32m     45\u001b[0m         \u001b[0mend\u001b[0m \u001b[0;34m+=\u001b[0m \u001b[0mself\u001b[0m\u001b[0;34m.\u001b[0m\u001b[0mdelta_forecasting_horizon\u001b[0m\u001b[0;34m\u001b[0m\u001b[0;34m\u001b[0m\u001b[0m\n\u001b[1;32m     46\u001b[0m \u001b[0;34m\u001b[0m\u001b[0m\n\u001b[0;32m---> 47\u001b[0;31m         \u001b[0mself\u001b[0m\u001b[0;34m.\u001b[0m\u001b[0mDataManager\u001b[0m \u001b[0;34m=\u001b[0m \u001b[0mDataManager\u001b[0m\u001b[0;34m(\u001b[0m\u001b[0mbuilding\u001b[0m\u001b[0;34m,\u001b[0m \u001b[0mzones\u001b[0m\u001b[0;34m,\u001b[0m \u001b[0mstart\u001b[0m\u001b[0;34m,\u001b[0m \u001b[0mend\u001b[0m\u001b[0;34m,\u001b[0m \u001b[0mwindow\u001b[0m\u001b[0;34m,\u001b[0m \u001b[0mnon_contrallable_data\u001b[0m\u001b[0;34m)\u001b[0m\u001b[0;34m\u001b[0m\u001b[0;34m\u001b[0m\u001b[0m\n\u001b[0m\u001b[1;32m     48\u001b[0m \u001b[0;34m\u001b[0m\u001b[0m\n\u001b[1;32m     49\u001b[0m \u001b[0;34m\u001b[0m\u001b[0m\n",
      "\u001b[0;32m~/BETS/XBOS/services/optimizer/DataManager/DataManager.py\u001b[0m in \u001b[0;36m__init__\u001b[0;34m(self, building, zones, start, end, window, non_controllable_data)\u001b[0m\n\u001b[1;32m     83\u001b[0m         \u001b[0merr\u001b[0m \u001b[0;34m=\u001b[0m \u001b[0mcheck_data_zones\u001b[0m\u001b[0;34m(\u001b[0m\u001b[0mself\u001b[0m\u001b[0;34m.\u001b[0m\u001b[0mzones\u001b[0m\u001b[0;34m,\u001b[0m \u001b[0mself\u001b[0m\u001b[0;34m.\u001b[0m\u001b[0mcomfortband\u001b[0m\u001b[0;34m,\u001b[0m \u001b[0mstart\u001b[0m\u001b[0;34m,\u001b[0m \u001b[0mend\u001b[0m\u001b[0;34m,\u001b[0m \u001b[0mwindow\u001b[0m\u001b[0;34m)\u001b[0m\u001b[0;34m\u001b[0m\u001b[0;34m\u001b[0m\u001b[0m\n\u001b[1;32m     84\u001b[0m         \u001b[0;32mif\u001b[0m \u001b[0merr\u001b[0m \u001b[0;32mis\u001b[0m \u001b[0;32mnot\u001b[0m \u001b[0;32mNone\u001b[0m\u001b[0;34m:\u001b[0m\u001b[0;34m\u001b[0m\u001b[0;34m\u001b[0m\u001b[0m\n\u001b[0;32m---> 85\u001b[0;31m             \u001b[0;32mraise\u001b[0m \u001b[0mException\u001b[0m\u001b[0;34m(\u001b[0m\u001b[0;34m\"Bad comfortband given. \"\u001b[0m \u001b[0;34m+\u001b[0m \u001b[0merr\u001b[0m\u001b[0;34m)\u001b[0m\u001b[0;34m\u001b[0m\u001b[0;34m\u001b[0m\u001b[0m\n\u001b[0m\u001b[1;32m     86\u001b[0m \u001b[0;34m\u001b[0m\u001b[0m\n\u001b[1;32m     87\u001b[0m         \u001b[0;32mif\u001b[0m \u001b[0;34m\"do_not_exceed\"\u001b[0m \u001b[0;32mnot\u001b[0m \u001b[0;32min\u001b[0m \u001b[0mnon_controllable_data\u001b[0m\u001b[0;34m:\u001b[0m\u001b[0;34m\u001b[0m\u001b[0;34m\u001b[0m\u001b[0m\n",
      "\u001b[0;31mException\u001b[0m: Bad comfortband given. Does not have valid start or/and end time."
     ]
    }
   ],
   "source": [
    "\n",
    "Simulation_instance = SimulationMPC(building, [zone], lambda_val,\n",
    "                                        start, end, horizon, window, tstats)"
   ]
  },
  {
   "cell_type": "code",
   "execution_count": 10,
   "metadata": {},
   "outputs": [
    {
     "name": "stdout",
     "output_type": "stream",
     "text": [
      "2019-06-05 14:09:45-07:00\n"
     ]
    }
   ],
   "source": [
    "print(start.replace(microsecond=0))"
   ]
  },
  {
   "cell_type": "code",
   "execution_count": 11,
   "metadata": {},
   "outputs": [
    {
     "name": "stdout",
     "output_type": "stream",
     "text": [
      "2019-06-06 14:09:45-07:00\n"
     ]
    }
   ],
   "source": [
    "print(end.replace(microsecond=0))"
   ]
  },
  {
   "cell_type": "code",
   "execution_count": null,
   "metadata": {},
   "outputs": [],
   "source": []
  }
 ],
 "metadata": {
  "kernelspec": {
   "display_name": "Python (venv-dr3)\n",
   "language": "python",
   "name": "venv-dr3"
  },
  "language_info": {
   "codemirror_mode": {
    "name": "ipython",
    "version": 3
   },
   "file_extension": ".py",
   "mimetype": "text/x-python",
   "name": "python",
   "nbconvert_exporter": "python",
   "pygments_lexer": "ipython3",
   "version": "3.6.8"
  }
 },
 "nbformat": 4,
 "nbformat_minor": 2
}
