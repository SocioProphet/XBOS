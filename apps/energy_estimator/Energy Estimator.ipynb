{
 "cells": [
  {
   "cell_type": "code",
   "execution_count": 1,
   "metadata": {
    "collapsed": true
   },
   "outputs": [],
   "source": [
    "from xbos import get_client\n",
    "from xbos.services.pundat import DataClient, timestamp, make_dataframe\n",
    "from xbos.services.hod import HodClientHTTP\n",
    "%matplotlib inline\n",
    "import pandas as pd"
   ]
  },
  {
   "cell_type": "code",
   "execution_count": 2,
   "metadata": {},
   "outputs": [
    {
     "name": "stdout",
     "output_type": "stream",
     "text": [
      "Saw [ucberkeley] archiver 6 seconds 661.728 ms ago\n"
     ]
    }
   ],
   "source": [
    "client = get_client()\n",
    "dataclient = DataClient(client)\n",
    "hodclient = HodClientHTTP(\"http://ciee.cal-sdb.org\")"
   ]
  },
  {
   "cell_type": "code",
   "execution_count": 3,
   "metadata": {
    "collapsed": true
   },
   "outputs": [],
   "source": [
    "# timesteps\n",
    "start = 'now'\n",
    "end = 'now -7d'"
   ]
  },
  {
   "cell_type": "code",
   "execution_count": 4,
   "metadata": {},
   "outputs": [
    {
     "name": "stdout",
     "output_type": "stream",
     "text": [
      "4d6e251a-48e1-3bc0-907d-7d5440c34bb9\n"
     ]
    }
   ],
   "source": [
    "# get building meter\n",
    "# get bosswave URIs \n",
    "query = \"\"\"SELECT ?dev ?uri ?uuid WHERE {\n",
    "  ?dev rdf:type/rdfs:subClassOf* brick:Electric_Meter .\n",
    "  ?dev bf:uri ?uri .\n",
    "  ?dev bf:uuid ?uuid .\n",
    "};\n",
    "\"\"\"\n",
    "meter_uuids = [x['?uuid'] for x in hodclient.do_query(query)]\n",
    "print meter_uuids[0]\n",
    "meter_timeseries = make_dataframe(dataclient.data_uuids(meter_uuids, start, end))\n",
    "meter_df = meter_timeseries.values()[0]"
   ]
  },
  {
   "cell_type": "code",
   "execution_count": 5,
   "metadata": {},
   "outputs": [
    {
     "name": "stdout",
     "output_type": "stream",
     "text": [
      "[u'dfb2b403-fd08-3e9b-bf3f-18c699ce40d6', u'7e543d07-16d1-32bb-94af-95a01f4675f9', u'187ed9b8-ee9b-3042-875e-088a08da37ae']\n"
     ]
    }
   ],
   "source": [
    "# get bosswave URIs and uuids for thermostat statuses\n",
    "query = \"\"\"SELECT ?dev ?uri ?p ?uuid WHERE {\n",
    "  ?dev rdf:type/rdfs:subClassOf* brick:Thermostat .\n",
    "  ?dev bf:uri ?uri .\n",
    "  ?dev bf:hasPoint ?p .\n",
    "  ?p bf:uuid ?uuid .\n",
    "  ?p rdf:type brick:Thermostat_Status .\n",
    "};\n",
    "\"\"\"\n",
    "state_uuids = [x['?uuid'] for x in hodclient.do_query(query)]\n",
    "print state_uuids\n",
    "# these UUIDs are the timeseries for what the thermostat is doing\n",
    "state_timeseries = make_dataframe(dataclient.data_uuids(state_uuids, start, end))"
   ]
  },
  {
   "cell_type": "code",
   "execution_count": 6,
   "metadata": {},
   "outputs": [],
   "source": [
    "def estimate_power_usage(d):\n",
    "    diffs = d['value'].diff()\n",
    "    turnon = d[diffs > 0]\n",
    "    turnoff = d[diffs < 0]\n",
    "    window = pd.Timedelta('10s')\n",
    "    guesses = []\n",
    "    for ts in turnon.index:\n",
    "        # find biggest energy difference in a [-window, +window] slice around the state transition\n",
    "        guess = meter_df.loc[ts-window:ts+window].diff().max().value\n",
    "        if pd.isnull(guess) or guess == 0: continue\n",
    "        guesses.append(guess)\n",
    "    for ts in turnoff.index:\n",
    "        # find biggest energy difference in a [-window, +window] slice around the state transition\n",
    "        # negate it because this is the off->on signal, and use min()\n",
    "        guess = -meter_df.loc[ts-window:ts+window].diff().min().value\n",
    "        if pd.isnull(guess) or guess == 0: continue\n",
    "        guesses.append(guess)\n",
    "    guess = pd.np.median(guesses)\n",
    "    if pd.isnull(guess): return 0.0\n",
    "    return guess\n",
    "\n",
    "# get info on thermostats\n",
    "def get_hvac_zone(uuid):\n",
    "    query = \"\"\"SELECT ?zone ?uri ?uuid WHERE {{\n",
    "     ?zone rdf:type brick:HVAC_Zone .\n",
    "     ?tstat bf:hasPoint/bf:uuid \"{0}\" .\n",
    "     ?tstat bf:uri ?uri .\n",
    "     ?tstat bf:controls/bf:feeds ?zone .\n",
    "}};\"\"\".format(uuid)\n",
    "    res = hodclient.do_query(query)[0]\n",
    "    return res['?zone'],res['?uri']\n",
    "    "
   ]
  },
  {
   "cell_type": "code",
   "execution_count": 7,
   "metadata": {},
   "outputs": [
    {
     "name": "stdout",
     "output_type": "stream",
     "text": [
      "Thermostat serving zone EastZone has estimated avg power consumption 0.0 W\n",
      "Thermostat serving zone SouthZone has estimated avg power consumption 5200.0 W\n",
      "Thermostat serving zone CentralZone has estimated avg power consumption 4940.0 W\n"
     ]
    },
    {
     "name": "stderr",
     "output_type": "stream",
     "text": [
      "/usr/local/lib/python2.7/dist-packages/numpy/core/_methods.py:59: RuntimeWarning: Mean of empty slice.\n",
      "  warnings.warn(\"Mean of empty slice.\", RuntimeWarning)\n"
     ]
    }
   ],
   "source": [
    "for uuid, df in state_timeseries.items():\n",
    "    usage = estimate_power_usage(df)\n",
    "    zone, uri = get_hvac_zone(uuid)\n",
    "    print 'Thermostat serving zone {0} has estimated avg power consumption {1} W'.format(zone, usage)"
   ]
  },
  {
   "cell_type": "code",
   "execution_count": null,
   "metadata": {},
   "outputs": [],
   "source": []
  },
  {
   "cell_type": "code",
   "execution_count": null,
   "metadata": {},
   "outputs": [],
   "source": []
  },
  {
   "cell_type": "code",
   "execution_count": null,
   "metadata": {},
   "outputs": [],
   "source": []
  },
  {
   "cell_type": "code",
   "execution_count": null,
   "metadata": {},
   "outputs": [],
   "source": []
  },
  {
   "cell_type": "code",
   "execution_count": null,
   "metadata": {
    "collapsed": true
   },
   "outputs": [],
   "source": []
  }
 ],
 "metadata": {
  "kernelspec": {
   "display_name": "Python 2",
   "language": "python",
   "name": "python2"
  },
  "language_info": {
   "codemirror_mode": {
    "name": "ipython",
    "version": 2
   },
   "file_extension": ".py",
   "mimetype": "text/x-python",
   "name": "python",
   "nbconvert_exporter": "python",
   "pygments_lexer": "ipython2",
   "version": "2.7.12"
  }
 },
 "nbformat": 4,
 "nbformat_minor": 2
}
