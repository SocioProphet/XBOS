{
 "cells": [
  {
   "cell_type": "code",
   "execution_count": 32,
   "metadata": {},
   "outputs": [],
   "source": [
    "from xbos import get_client\n",
    "from xbos.services.pundat import DataClient, make_dataframe\n",
    "from xbos.services.hod import HodClient\n",
    "import datetime\n",
    "import pandas as pd\n",
    "import pytz\n",
    "from datetime import timedelta\n",
    "from OccupancyThanos import *\n",
    "import numpy as np\n",
    "import pandas as pd\n",
    "from datetime import timedelta\n",
    "import datetime\n",
    "from scipy import spatial\n",
    "import math\n",
    "%matplotlib inline"
   ]
  },
  {
   "cell_type": "code",
   "execution_count": 147,
   "metadata": {
    "collapsed": true
   },
   "outputs": [],
   "source": [
    "def find_similar_days(training_data, now, observation_length, k, method=hamming_distance):\n",
    "    min_time = training_data.index[0] + timedelta(minutes=observation_length)\n",
    "    # Find moments in our dataset that have the same hour/minute and is_weekend() == weekend.\n",
    "    print min_time\n",
    "    selector = ((training_data.index.minute == now.minute) &\n",
    "                (training_data.index.hour == now.hour) &\n",
    "                (training_data.index > min_time))\n",
    "\n",
    "    \"\"\"\n",
    "    if now.weekday() < 5:\n",
    "        selector = (\n",
    "            (training_data.index.minute == now.minute) &\n",
    "            (training_data.index.hour == now.hour) &\n",
    "            (training_data.index > min_time) &\n",
    "            (training_data.index.weekday < 5)\n",
    "        )\n",
    "    else:\n",
    "        selector = (\n",
    "            (training_data.index.minute == now.minute) &\n",
    "            (training_data.index.hour == now.hour) &\n",
    "            (training_data.index > min_time) &\n",
    "            (training_data.index.weekday >= 5)\n",
    "        )\n",
    "    \"\"\"\n",
    "\n",
    "    similar_moments = training_data[selector][:-1]\n",
    "    print len(similar_moments)\n",
    "    obs_td = timedelta(minutes=observation_length)\n",
    "\n",
    "    similar_moments['Similarity'] = [\n",
    "        method(\n",
    "            training_data[(training_data.index >= now - obs_td) &\n",
    "                            (training_data.index <= now)].get_values(),\n",
    "            training_data[(training_data.index >= i - obs_td) &\n",
    "                            (training_data.index <= i)].get_values()\n",
    "        ) for i in similar_moments.index\n",
    "        ]\n",
    "\n",
    "    indexes = (similar_moments.sort_values('Similarity', ascending=True)\n",
    "                .head(k).index)\n",
    "    return indexes\n",
    "def predict(data, now, similar_moments, prediction_time, resample_time):\n",
    "\n",
    "    prediction = np.zeros((math.ceil(prediction_time/resample_time) + 1, len(data.columns)))\n",
    "    for i in similar_moments:\n",
    "        prediction += (1. / len(similar_moments)) * data[(data.index >= i) &\\\n",
    "                                                        (data.index <= i + timedelta(minutes=prediction_time))]\n",
    "    prediction[0] = data[data.index == now]\n",
    "    time_index = pd.date_range(now, now+timedelta(minutes=prediction_time),freq='15T')\n",
    "    return pd.DataFrame(data=prediction, index=time_index)\n"
   ]
  },
  {
   "cell_type": "code",
   "execution_count": 2,
   "metadata": {},
   "outputs": [
    {
     "name": "stdout",
     "output_type": "stream",
     "text": [
      "Saw [ucberkeley] archiver 6 seconds 140.386 ms ago\n",
      "Saw [ciee/hod] HodDB 7 seconds 681.409 ms ago\n"
     ]
    }
   ],
   "source": [
    "c = get_client()\n",
    "archiver = DataClient(c)\n",
    "hod = HodClient(\"ciee/hod\",c)"
   ]
  },
  {
   "cell_type": "code",
   "execution_count": 150,
   "metadata": {
    "collapsed": true
   },
   "outputs": [],
   "source": [
    "occ_query = \"\"\"SELECT ?occ ?uuid ?room WHERE {\n",
    "?occ rdf:type/rdfs:subClassOf* brick:Occupancy_Sensor .\n",
    "?occ bf:uuid ?uuid .\n",
    "?occ bf:isLocatedIn ?room .\n",
    "?room rdf:type brick:Room .\n",
    "};\n",
    "\"\"\"\n",
    "occ_query = \"\"\"SELECT ?x ?room ?uuid WHERE {\n",
    "    ?x rdf:type/rdfs:subClassOf* brick:Occupancy_Sensor .\n",
    "  \t?x bf:isLocatedIn ?room .\n",
    "    ?room bf:isPartOf bldg:SouthZone .\n",
    "  \t?x bf:uuid ?uuid .\n",
    "};\n",
    "\"\"\"\n",
    "results = hod.do_query(occ_query)\n",
    "uuids = [x['?uuid'] for x in results['Rows']]\n",
    "rooms = [x['?room'] for x in results['Rows']]\n",
    "mapping = dict(zip(uuids, rooms))"
   ]
  },
  {
   "cell_type": "code",
   "execution_count": 174,
   "metadata": {
    "collapsed": true
   },
   "outputs": [],
   "source": [
    "start = '\"2017-08-21 00:00:00 PST\"'\n",
    "end = '\"2017-07-20 00:00:00 PST\"'\n",
    "#start = 'now'\n",
    "#end = 'now -30d'"
   ]
  },
  {
   "cell_type": "code",
   "execution_count": 175,
   "metadata": {},
   "outputs": [],
   "source": [
    "dfs = make_dataframe(archiver.window_uuids(uuids, end, start, '15min', timeout=120))"
   ]
  },
  {
   "cell_type": "code",
   "execution_count": 176,
   "metadata": {},
   "outputs": [],
   "source": [
    "for uid, df in dfs.items():\n",
    "    if 'mean' in df.columns:\n",
    "        df = df[['mean']]\n",
    "    df.columns = ['occ']\n",
    "    dfs[uid] = df.resample('15min').mean()\n",
    "    \n",
    "df = dfs.values()[0]\n",
    "if len(dfs) > 1:\n",
    "    for newdf in dfs.values()[1:]:\n",
    "        df['occ'] += newdf['occ']\n",
    "df['occ'] = 1*(df['occ']>0)"
   ]
  },
  {
   "cell_type": "code",
   "execution_count": null,
   "metadata": {},
   "outputs": [],
   "source": []
  },
  {
   "cell_type": "code",
   "execution_count": 177,
   "metadata": {},
   "outputs": [
    {
     "name": "stdout",
     "output_type": "stream",
     "text": [
      "2017-07-20 04:00:00\n",
      "30\n"
     ]
    },
    {
     "name": "stderr",
     "output_type": "stream",
     "text": [
      "/usr/local/lib/python2.7/dist-packages/ipykernel/__main__.py:44: VisibleDeprecationWarning: using a non-integer number instead of an integer will result in an error in the future\n"
     ]
    },
    {
     "data": {
      "text/plain": [
       "<matplotlib.axes._subplots.AxesSubplot at 0x7fdb647293d0>"
      ]
     },
     "execution_count": 177,
     "metadata": {},
     "output_type": "execute_result"
    },
    {
     "data": {
      "image/png": "[encoded data removed]",
      "text/plain": [
       "<matplotlib.figure.Figure at 0x7fdb83c4fd10>"
      ]
     },
     "metadata": {},
     "output_type": "display_data"
    }
   ],
   "source": [
    "observation_length_addition = 4*60\n",
    "k = 5\n",
    "prediction_time = 24*60\n",
    "resample_time = 15\n",
    "now = datetime.datetime.now()\n",
    "day = 20\n",
    "hour = 0\n",
    "minute = 0#resample_time * (now.minute / resample_time)\n",
    "second = 0\n",
    "now = datetime.datetime(year=now.year, month=now.month, day=day, hour=hour, minute=minute, second=second)\n",
    "observation_length = mins_in_day(now) + observation_length_addition\n",
    "similar_moments = find_similar_days(df, now, observation_length, k)\n",
    "predictions = predict(df, now, similar_moments, prediction_time, resample_time)\n",
    "d = np.squeeze(predictions)\n",
    "d.plot()"
   ]
  },
  {
   "cell_type": "code",
   "execution_count": 181,
   "metadata": {},
   "outputs": [
    {
     "data": {
      "text/plain": [
       "<matplotlib.axes._subplots.AxesSubplot at 0x7fdb5ffd8550>"
      ]
     },
     "execution_count": 181,
     "metadata": {},
     "output_type": "execute_result"
    },
    {
     "data": {
      "image/png": "[encoded data removed]",
      "text/plain": [
       "<matplotlib.figure.Figure at 0x7fdb5ffbd210>"
      ]
     },
     "metadata": {},
     "output_type": "display_data"
    }
   ],
   "source": [
    "df[now:now+timedelta(minutes=prediction_time)].resample('1H').mean().plot()"
   ]
  },
  {
   "cell_type": "markdown",
   "metadata": {},
   "source": [
    "Things to do with prediction\n",
    "- plot the envelope/curve\n",
    "- plot per-room, per-zone\n",
    "- general API for \"occupancy data in range [t0, t1]\", transparently populated with historic/predictive data\n",
    "- support predictions of the past (for model evaluations)\n",
    "\n",
    "What goes in the API?\n",
    "\n",
    "Request:\n",
    "- request window of occupancy data\n",
    "- resolution of request (e.g. 15minutes, )\n",
    "- some grouping mechanism, e.g. room, HVAC zone, building\n",
    "\n",
    "Response:\n",
    "- identify which ranges are historical, which are predicted\n",
    "- RMS error of prediction\n",
    "- actual timeseries of prediction"
   ]
  },
  {
   "cell_type": "code",
   "execution_count": 144,
   "metadata": {},
   "outputs": [
    {
     "name": "stdout",
     "output_type": "stream",
     "text": [
      "2017-08-24 15:15:00\n",
      "DatetimeIndex(['2017-08-24 15:15:00', '2017-08-24 15:30:00',\n",
      "               '2017-08-24 15:45:00', '2017-08-24 16:00:00',\n",
      "               '2017-08-24 16:15:00', '2017-08-24 16:30:00',\n",
      "               '2017-08-24 16:45:00', '2017-08-24 17:00:00',\n",
      "               '2017-08-24 17:15:00', '2017-08-24 17:30:00',\n",
      "               '2017-08-24 17:45:00', '2017-08-24 18:00:00',\n",
      "               '2017-08-24 18:15:00', '2017-08-24 18:30:00',\n",
      "               '2017-08-24 18:45:00', '2017-08-24 19:00:00',\n",
      "               '2017-08-24 19:15:00', '2017-08-24 19:30:00',\n",
      "               '2017-08-24 19:45:00', '2017-08-24 20:00:00',\n",
      "               '2017-08-24 20:15:00', '2017-08-24 20:30:00',\n",
      "               '2017-08-24 20:45:00', '2017-08-24 21:00:00',\n",
      "               '2017-08-24 21:15:00', '2017-08-24 21:30:00',\n",
      "               '2017-08-24 21:45:00', '2017-08-24 22:00:00',\n",
      "               '2017-08-24 22:15:00', '2017-08-24 22:30:00',\n",
      "               '2017-08-24 22:45:00', '2017-08-24 23:00:00',\n",
      "               '2017-08-24 23:15:00', '2017-08-24 23:30:00',\n",
      "               '2017-08-24 23:45:00', '2017-08-25 00:00:00',\n",
      "               '2017-08-25 00:15:00', '2017-08-25 00:30:00',\n",
      "               '2017-08-25 00:45:00', '2017-08-25 01:00:00',\n",
      "               '2017-08-25 01:15:00', '2017-08-25 01:30:00',\n",
      "               '2017-08-25 01:45:00', '2017-08-25 02:00:00',\n",
      "               '2017-08-25 02:15:00', '2017-08-25 02:30:00',\n",
      "               '2017-08-25 02:45:00', '2017-08-25 03:00:00',\n",
      "               '2017-08-25 03:15:00', '2017-08-25 03:30:00',\n",
      "               '2017-08-25 03:45:00', '2017-08-25 04:00:00',\n",
      "               '2017-08-25 04:15:00', '2017-08-25 04:30:00',\n",
      "               '2017-08-25 04:45:00', '2017-08-25 05:00:00',\n",
      "               '2017-08-25 05:15:00', '2017-08-25 05:30:00',\n",
      "               '2017-08-25 05:45:00', '2017-08-25 06:00:00',\n",
      "               '2017-08-25 06:15:00', '2017-08-25 06:30:00',\n",
      "               '2017-08-25 06:45:00', '2017-08-25 07:00:00',\n",
      "               '2017-08-25 07:15:00', '2017-08-25 07:30:00',\n",
      "               '2017-08-25 07:45:00', '2017-08-25 08:00:00',\n",
      "               '2017-08-25 08:15:00', '2017-08-25 08:30:00',\n",
      "               '2017-08-25 08:45:00', '2017-08-25 09:00:00',\n",
      "               '2017-08-25 09:15:00', '2017-08-25 09:30:00',\n",
      "               '2017-08-25 09:45:00', '2017-08-25 10:00:00',\n",
      "               '2017-08-25 10:15:00', '2017-08-25 10:30:00',\n",
      "               '2017-08-25 10:45:00', '2017-08-25 11:00:00',\n",
      "               '2017-08-25 11:15:00', '2017-08-25 11:30:00',\n",
      "               '2017-08-25 11:45:00', '2017-08-25 12:00:00',\n",
      "               '2017-08-25 12:15:00', '2017-08-25 12:30:00',\n",
      "               '2017-08-25 12:45:00', '2017-08-25 13:00:00',\n",
      "               '2017-08-25 13:15:00', '2017-08-25 13:30:00',\n",
      "               '2017-08-25 13:45:00', '2017-08-25 14:00:00',\n",
      "               '2017-08-25 14:15:00', '2017-08-25 14:30:00',\n",
      "               '2017-08-25 14:45:00', '2017-08-25 15:00:00',\n",
      "               '2017-08-25 15:15:00'],\n",
      "              dtype='datetime64[ns]', freq='15T')\n"
     ]
    }
   ],
   "source": [
    "print now\n",
    "print pd.date_range(now, now+timedelta(minutes=prediction_time),freq='15T')"
   ]
  },
  {
   "cell_type": "code",
   "execution_count": null,
   "metadata": {
    "collapsed": true
   },
   "outputs": [],
   "source": []
  },
  {
   "cell_type": "code",
   "execution_count": null,
   "metadata": {
    "collapsed": true
   },
   "outputs": [],
   "source": []
  },
  {
   "cell_type": "code",
   "execution_count": 95,
   "metadata": {
    "collapsed": true,
    "scrolled": true
   },
   "outputs": [],
   "source": [
    "def clean_days(dfs):\n",
    "    days = {}\n",
    "    for uid, df in dfs.items():\n",
    "        df = df[['mean']]\n",
    "        df = df.tz_localize('UTC').tz_convert('US/Pacific')\n",
    "        day_start = df.index[0].to_datetime()\n",
    "        day_start = pytz.timezone('US/Pacific').localize(datetime.datetime(year=day_start.year, month=day_start.month, day=day_start.day))\n",
    "        last_day = df.index[-1].to_datetime()\n",
    "        days[uid] = []\n",
    "        while day_start < last_day:\n",
    "            day_end = day_start+datetime.timedelta(days=1)\n",
    "            #print 'got day', pd.to_datetime(day_end)\n",
    "            day = df[day_start:day_end]\n",
    "            day.index = day.index.map(lambda x: datetime.datetime(year=2017, month=1, day=1, hour=x.hour, minute=x.minute, second=x.second))\n",
    "            days[uid].append(day)\n",
    "            day_start = day_end\n",
    "    return days"
   ]
  },
  {
   "cell_type": "code",
   "execution_count": null,
   "metadata": {
    "collapsed": true
   },
   "outputs": [],
   "source": [
    "days = clean_days(dfs)"
   ]
  },
  {
   "cell_type": "code",
   "execution_count": null,
   "metadata": {},
   "outputs": [],
   "source": [
    "alldays = pd.concat(days,axis=1).fillna(0)\n",
    "alldays.mean(axis=1).plot()"
   ]
  },
  {
   "cell_type": "code",
   "execution_count": null,
   "metadata": {
    "collapsed": true
   },
   "outputs": [],
   "source": [
    "for uid, subdays in days.items():\n",
    "    df = pd.concat(subdays, axis=1).fillna(0)\n",
    "    early = df[df['mean'] > 0].index.min()\n",
    "    late = df[df['mean'] > 0].index.max()\n",
    "    print mapping[uid],'has occupancy',early,late"
   ]
  },
  {
   "cell_type": "code",
   "execution_count": null,
   "metadata": {
    "collapsed": true
   },
   "outputs": [],
   "source": [
    "import numpy as np\n",
    "import sklearn.mixture\n",
    "\n",
    "gmm = sklearn.mixture.GMM()\n",
    "d = np.array(alldays.mean(axis=1).values.tolist())\n",
    "r = gmm.fit(d[:, np.newaxis])\n",
    "print(\"mean : %f, var : %f\" % (r.means_[0, 0], r.covars_[0, 0]))"
   ]
  },
  {
   "cell_type": "code",
   "execution_count": null,
   "metadata": {
    "collapsed": true
   },
   "outputs": [],
   "source": [
    "gmm = sklearn.mixture.GMM()\n",
    "mean_day = alldays.mean(axis=1)\n",
    "d = np.array(mean_day[mean_day > 0].index.map(lambda x: x.hour))\n",
    "r = gmm.fit(d[:, np.newaxis])\n",
    "print(\"mean : %f, var : %f\" % (r.means_[0, 0], r.covars_[0, 0]))"
   ]
  },
  {
   "cell_type": "code",
   "execution_count": null,
   "metadata": {
    "collapsed": true
   },
   "outputs": [],
   "source": []
  },
  {
   "cell_type": "code",
   "execution_count": null,
   "metadata": {
    "collapsed": true
   },
   "outputs": [],
   "source": []
  },
  {
   "cell_type": "code",
   "execution_count": null,
   "metadata": {
    "collapsed": true
   },
   "outputs": [],
   "source": []
  }
 ],
 "metadata": {
  "kernelspec": {
   "display_name": "Python 2",
   "language": "python",
   "name": "python2"
  },
  "language_info": {
   "codemirror_mode": {
    "name": "ipython",
    "version": 2
   },
   "file_extension": ".py",
   "mimetype": "text/x-python",
   "name": "python",
   "nbconvert_exporter": "python",
   "pygments_lexer": "ipython2",
   "version": "2.7.12"
  }
 },
 "nbformat": 4,
 "nbformat_minor": 1
}
