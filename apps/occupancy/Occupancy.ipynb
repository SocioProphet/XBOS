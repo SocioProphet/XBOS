{
 "cells": [
  {
   "cell_type": "code",
   "execution_count": 13,
   "metadata": {
    "collapsed": true,
    "scrolled": true
   },
   "outputs": [],
   "source": [
    "from xbos import get_client\n",
    "from xbos.services.pundat import DataClient, make_dataframe\n",
    "from xbos.services.hod import HodClient\n",
    "import datetime\n",
    "import pandas as pd\n",
    "import pytz\n",
    "from datetime import timedelta\n",
    "#from OccupancyThanos import *\n",
    "import numpy as np\n",
    "import pandas as pd\n",
    "from datetime import timedelta\n",
    "import datetime\n",
    "from scipy import spatial\n",
    "import math\n",
    "%matplotlib inline"
   ]
  },
  {
   "cell_type": "code",
   "execution_count": 14,
   "metadata": {
    "collapsed": true
   },
   "outputs": [],
   "source": [
    "def hamming_distance(a, b):\n",
    "    return np.count_nonzero(a != b)\n",
    "\n",
    "\n",
    "def eucl_distance(a, b):\n",
    "    return pd.np.linalg.norm(a - b)\n",
    "\n",
    "\n",
    "def mins_in_day(timestamp):\n",
    "    return timestamp.hour * 60 + timestamp.minute\n",
    "\n",
    "def find_similar_days(training_data, now, observation_length, k, method=hamming_distance):\n",
    "    min_time = training_data.index[0] + timedelta(minutes=observation_length)\n",
    "    # Find moments in our dataset that have the same hour/minute and is_weekend() == weekend.\n",
    "    print min_time\n",
    "    selector = ((training_data.index.minute == now.minute) &\n",
    "                (training_data.index.hour == now.hour) &\n",
    "                (training_data.index > min_time))\n",
    "\n",
    "    \"\"\"\n",
    "    if now.weekday() < 5:\n",
    "        selector = (\n",
    "            (training_data.index.minute == now.minute) &\n",
    "            (training_data.index.hour == now.hour) &\n",
    "            (training_data.index > min_time) &\n",
    "            (training_data.index.weekday < 5)\n",
    "        )\n",
    "    else:\n",
    "        selector = (\n",
    "            (training_data.index.minute == now.minute) &\n",
    "            (training_data.index.hour == now.hour) &\n",
    "            (training_data.index > min_time) &\n",
    "            (training_data.index.weekday >= 5)\n",
    "        )\n",
    "    \"\"\"\n",
    "\n",
    "    similar_moments = training_data[selector][:-1]\n",
    "    print len(similar_moments)\n",
    "    obs_td = timedelta(minutes=observation_length)\n",
    "\n",
    "    similar_moments['Similarity'] = [\n",
    "        method(\n",
    "            training_data[(training_data.index >= now - obs_td) &\n",
    "                            (training_data.index <= now)].get_values(),\n",
    "            training_data[(training_data.index >= i - obs_td) &\n",
    "                            (training_data.index <= i)].get_values()\n",
    "        ) for i in similar_moments.index\n",
    "        ]\n",
    "\n",
    "    indexes = (similar_moments.sort_values('Similarity', ascending=True)\n",
    "                .head(k).index)\n",
    "    return indexes\n",
    "def predict(data, now, similar_moments, prediction_time, resample_time):\n",
    "\n",
    "    prediction = np.zeros((int(math.ceil(prediction_time/resample_time)) + 1, len(data.columns)))\n",
    "    for i in similar_moments:\n",
    "        prediction += (float(1.) / float(len(similar_moments))) * data[(data.index >= i) & (data.index <= i + timedelta(minutes=prediction_time))]\n",
    "    print data[data.index == now]['occ']\n",
    "    prediction[0] = data[data.index == now]['occ']\n",
    "    time_index = pd.date_range(now, now+timedelta(minutes=prediction_time),freq='15T')\n",
    "    return pd.DataFrame(data=prediction, index=time_index)\n"
   ]
  },
  {
   "cell_type": "code",
   "execution_count": 15,
   "metadata": {},
   "outputs": [
    {
     "name": "stdout",
     "output_type": "stream",
     "text": [
      "Saw [ucberkeley] archiver 4 seconds 844.382 ms ago\n",
      "Saw [ciee/hod] HodDB 9 seconds 272.774 ms ago\n"
     ]
    }
   ],
   "source": [
    "c = get_client()\n",
    "archiver = DataClient(c)\n",
    "hod = HodClient(\"ciee/hod\",c)"
   ]
  },
  {
   "cell_type": "code",
   "execution_count": 16,
   "metadata": {},
   "outputs": [
    {
     "name": "stdout",
     "output_type": "stream",
     "text": [
      "[{'?room': 'R211', '?uuid': 'cab606d0-6d14-3aff-a0c2-e862ae297f22', '?x': 'hamilton_005e_pir'}, {'?room': 'R208', '?uuid': 'bdbbbf7c-21c3-3b61-8469-8516a8c666dd', '?x': 'hamilton_002b_pir'}, {'?uuid': '497145c4-2087-3e89-9c8f-f54b87dfb016', '?room': 'R206', '?x': 'hamilton_0027_pir'}, {'?room': 'R208', '?uuid': '97ba99af-869b-3c43-94e3-93040c9bdd33', '?x': 'enlighted_Sensor02d455_occupancy'}, {'?room': 'R208', '?uuid': 'c27adbad-b1b5-342c-91eb-a6709d365871', '?x': 'enlighted_Sensor02d454_occupancy'}, {'?room': 'R208', '?uuid': 'aefa14ef-a13a-355b-9b87-51511db7f541', '?x': 'enlighted_Sensor02d444_occupancy'}, {'?room': 'R208', '?uuid': 'afed35be-ef70-341a-8bf4-565d815bfd90', '?x': 'enlighted_Sensor02d438_occupancy'}, {'?room': 'R210', '?uuid': '989ed503-9aa2-310e-abd3-464f6169e175', '?x': 'hamilton_002a_pir'}, {'?room': 'R208', '?uuid': '2f5c888d-c0c6-33b4-9c30-d609f1e16fea', '?x': 'enlighted_Sensor02d433_occupancy'}, {'?room': 'R208', '?uuid': '2b3f9905-3bb7-302a-9545-7bfe2eb63547', '?x': 'enlighted_Sensor02d432_occupancy'}, {'?room': 'R212', '?uuid': '23d2afce-4c86-37c5-b1c2-f258758c3263', '?x': 'hamilton_005a_pir'}, {'?room': 'R208', '?uuid': '47e37419-5091-3877-a476-bb6f942e93af', '?x': 'hamilton_005d_pir'}, {'?uuid': '611ac5e9-33a5-3273-9fa6-548d3ad59481', '?room': 'R208', '?x': 'enlighted_Sensor02d429_occupancy'}, {'?uuid': '242cde13-7d25-306a-bfc8-918ad7bb26d6', '?room': 'R209', '?x': 'hamilton_002e_pir'}, {'?room': 'R208', '?uuid': '0c51371e-6029-3302-984d-b71d850e899a', '?x': 'enlighted_Sensor013263_occupancy'}, {'?room': 'R208', '?uuid': '00f45f05-08f9-3def-a977-357493fad61e', '?x': 'enlighted_Sensor02d458_occupancy'}, {'?uuid': 'd919a14e-3ebd-3e5b-9727-0df54f287032', '?room': 'R207', '?x': 'hamilton_005c_pir'}]\n"
     ]
    }
   ],
   "source": [
    "occ_query = \"\"\"SELECT ?occ ?uuid ?room WHERE {\n",
    "?occ rdf:type/rdfs:subClassOf* brick:Occupancy_Sensor .\n",
    "?occ bf:uuid ?uuid .\n",
    "?occ bf:isLocatedIn ?room .\n",
    "?room rdf:type brick:Room .\n",
    "};\n",
    "\"\"\"\n",
    "occ_query = \"\"\"SELECT ?x ?room ?uuid WHERE {\n",
    "    ?x rdf:type/rdfs:subClassOf* brick:Occupancy_Sensor .\n",
    "  \t?x bf:isLocatedIn ?room .\n",
    "    ?room bf:isPartOf bldg:SouthZone .\n",
    "  \t?x bf:uuid ?uuid .\n",
    "};\n",
    "\"\"\"\n",
    "results = hod.do_query(occ_query)\n",
    "uuids = [x['?uuid'] for x in results['Rows']]\n",
    "rooms = [x['?room'] for x in results['Rows']]\n",
    "mapping = dict(zip(uuids, rooms))\n",
    "print results['Rows']"
   ]
  },
  {
   "cell_type": "code",
   "execution_count": 17,
   "metadata": {
    "collapsed": true
   },
   "outputs": [],
   "source": [
    "start = '\"2017-08-19 07:00:00 PST\"'\n",
    "end = '\"2017-09-20 07:00:00 PST\"'\n",
    "#start = 'now'\n",
    "#end = 'now -30d'"
   ]
  },
  {
   "cell_type": "code",
   "execution_count": 18,
   "metadata": {
    "collapsed": true
   },
   "outputs": [],
   "source": [
    "dfs = make_dataframe(archiver.window_uuids(uuids, end, start, '15min', timeout=120))\n",
    "for uid, df in dfs.items():\n",
    "    if 'mean' in df.columns:\n",
    "        df = df[['mean']]\n",
    "    df.columns = ['occ']\n",
    "    dfs[uid] = df.resample('15min').mean()\n",
    "    \n",
    "df = dfs.values()[0]\n",
    "if len(dfs) > 1:\n",
    "    for newdf in dfs.values()[1:]:\n",
    "        df['occ'] += newdf['occ']\n",
    "df['occ'] = 1*(df['occ']>0)\n",
    "\n",
    "df.index = df.index.tz_localize('US/Pacific')"
   ]
  },
  {
   "cell_type": "code",
   "execution_count": 19,
   "metadata": {},
   "outputs": [
    {
     "name": "stdout",
     "output_type": "stream",
     "text": [
      "2017-08-19 11:00:00-07:00\n",
      "31\n",
      "time\n",
      "2017-09-01 00:00:00-07:00    1\n",
      "Freq: 15T, Name: occ, dtype: int64\n"
     ]
    },
    {
     "data": {
      "text/plain": [
       "<matplotlib.axes._subplots.AxesSubplot at 0x10d20de50>"
      ]
     },
     "execution_count": 19,
     "metadata": {},
     "output_type": "execute_result"
    },
    {
     "data": {
      "image/png": "[encoded data removed]",
      "text/plain": [
       "<matplotlib.figure.Figure at 0x10d034750>"
      ]
     },
     "metadata": {},
     "output_type": "display_data"
    }
   ],
   "source": [
    "observation_length_addition = 4*60\n",
    "k = 5\n",
    "prediction_time = 24*60\n",
    "resample_time = 15\n",
    "now = datetime.datetime.now()\n",
    "day = 1\n",
    "hour = 0\n",
    "minute = 0#resample_time * (now.minute / resample_time)\n",
    "second = 0\n",
    "now = datetime.datetime(year=now.year, month=now.month, day=day, hour=hour, minute=minute, second=second)\n",
    "observation_length = mins_in_day(now) + observation_length_addition\n",
    "similar_moments = find_similar_days(df, now, observation_length, k)\n",
    "predictions = predict(df, now, similar_moments, prediction_time, resample_time)\n",
    "d = np.squeeze(predictions)\n",
    "d.plot()"
   ]
  },
  {
   "cell_type": "code",
   "execution_count": 20,
   "metadata": {},
   "outputs": [
    {
     "data": {
      "text/plain": [
       "<matplotlib.axes._subplots.AxesSubplot at 0x10dc78ed0>"
      ]
     },
     "execution_count": 20,
     "metadata": {},
     "output_type": "execute_result"
    },
    {
     "data": {
      "image/png": "[encoded data removed]",
      "text/plain": [
       "<matplotlib.figure.Figure at 0x10d2130d0>"
      ]
     },
     "metadata": {},
     "output_type": "display_data"
    }
   ],
   "source": [
    "df[now:now+timedelta(minutes=prediction_time)].resample('1H').mean().plot(marker='o')"
   ]
  },
  {
   "cell_type": "markdown",
   "metadata": {},
   "source": [
    "Things to do with prediction\n",
    "- plot the envelope/curve\n",
    "- plot per-room, per-zone\n",
    "- general API for \"occupancy data in range [t0, t1]\", transparently populated with historic/predictive data\n",
    "- support predictions of the past (for model evaluations)\n",
    "\n",
    "What goes in the API?\n",
    "\n",
    "Request:\n",
    "- request window of occupancy data\n",
    "- resolution of request (e.g. 15minutes, )\n",
    "- some grouping mechanism, e.g. room, HVAC zone, building\n",
    "\n",
    "Response:\n",
    "- identify which ranges are historical, which are predicted\n",
    "- RMS error of prediction\n",
    "- actual timeseries of prediction"
   ]
  },
  {
   "cell_type": "code",
   "execution_count": 10,
   "metadata": {},
   "outputs": [
    {
     "name": "stdout",
     "output_type": "stream",
     "text": [
      "2017-09-01 00:00:00\n",
      "DatetimeIndex(['2017-09-01 00:00:00', '2017-09-01 00:15:00',\n",
      "               '2017-09-01 00:30:00', '2017-09-01 00:45:00',\n",
      "               '2017-09-01 01:00:00', '2017-09-01 01:15:00',\n",
      "               '2017-09-01 01:30:00', '2017-09-01 01:45:00',\n",
      "               '2017-09-01 02:00:00', '2017-09-01 02:15:00',\n",
      "               '2017-09-01 02:30:00', '2017-09-01 02:45:00',\n",
      "               '2017-09-01 03:00:00', '2017-09-01 03:15:00',\n",
      "               '2017-09-01 03:30:00', '2017-09-01 03:45:00',\n",
      "               '2017-09-01 04:00:00', '2017-09-01 04:15:00',\n",
      "               '2017-09-01 04:30:00', '2017-09-01 04:45:00',\n",
      "               '2017-09-01 05:00:00', '2017-09-01 05:15:00',\n",
      "               '2017-09-01 05:30:00', '2017-09-01 05:45:00',\n",
      "               '2017-09-01 06:00:00', '2017-09-01 06:15:00',\n",
      "               '2017-09-01 06:30:00', '2017-09-01 06:45:00',\n",
      "               '2017-09-01 07:00:00', '2017-09-01 07:15:00',\n",
      "               '2017-09-01 07:30:00', '2017-09-01 07:45:00',\n",
      "               '2017-09-01 08:00:00', '2017-09-01 08:15:00',\n",
      "               '2017-09-01 08:30:00', '2017-09-01 08:45:00',\n",
      "               '2017-09-01 09:00:00', '2017-09-01 09:15:00',\n",
      "               '2017-09-01 09:30:00', '2017-09-01 09:45:00',\n",
      "               '2017-09-01 10:00:00', '2017-09-01 10:15:00',\n",
      "               '2017-09-01 10:30:00', '2017-09-01 10:45:00',\n",
      "               '2017-09-01 11:00:00', '2017-09-01 11:15:00',\n",
      "               '2017-09-01 11:30:00', '2017-09-01 11:45:00',\n",
      "               '2017-09-01 12:00:00', '2017-09-01 12:15:00',\n",
      "               '2017-09-01 12:30:00', '2017-09-01 12:45:00',\n",
      "               '2017-09-01 13:00:00', '2017-09-01 13:15:00',\n",
      "               '2017-09-01 13:30:00', '2017-09-01 13:45:00',\n",
      "               '2017-09-01 14:00:00', '2017-09-01 14:15:00',\n",
      "               '2017-09-01 14:30:00', '2017-09-01 14:45:00',\n",
      "               '2017-09-01 15:00:00', '2017-09-01 15:15:00',\n",
      "               '2017-09-01 15:30:00', '2017-09-01 15:45:00',\n",
      "               '2017-09-01 16:00:00', '2017-09-01 16:15:00',\n",
      "               '2017-09-01 16:30:00', '2017-09-01 16:45:00',\n",
      "               '2017-09-01 17:00:00', '2017-09-01 17:15:00',\n",
      "               '2017-09-01 17:30:00', '2017-09-01 17:45:00',\n",
      "               '2017-09-01 18:00:00', '2017-09-01 18:15:00',\n",
      "               '2017-09-01 18:30:00', '2017-09-01 18:45:00',\n",
      "               '2017-09-01 19:00:00', '2017-09-01 19:15:00',\n",
      "               '2017-09-01 19:30:00', '2017-09-01 19:45:00',\n",
      "               '2017-09-01 20:00:00', '2017-09-01 20:15:00',\n",
      "               '2017-09-01 20:30:00', '2017-09-01 20:45:00',\n",
      "               '2017-09-01 21:00:00', '2017-09-01 21:15:00',\n",
      "               '2017-09-01 21:30:00', '2017-09-01 21:45:00',\n",
      "               '2017-09-01 22:00:00', '2017-09-01 22:15:00',\n",
      "               '2017-09-01 22:30:00', '2017-09-01 22:45:00',\n",
      "               '2017-09-01 23:00:00', '2017-09-01 23:15:00',\n",
      "               '2017-09-01 23:30:00', '2017-09-01 23:45:00',\n",
      "               '2017-09-02 00:00:00'],\n",
      "              dtype='datetime64[ns]', freq='15T')\n"
     ]
    }
   ],
   "source": [
    "print now\n",
    "print pd.date_range(now, now+timedelta(minutes=prediction_time),freq='15T')"
   ]
  },
  {
   "cell_type": "code",
   "execution_count": null,
   "metadata": {
    "collapsed": true
   },
   "outputs": [],
   "source": []
  },
  {
   "cell_type": "code",
   "execution_count": null,
   "metadata": {
    "collapsed": true
   },
   "outputs": [],
   "source": []
  },
  {
   "cell_type": "code",
   "execution_count": 11,
   "metadata": {
    "collapsed": true,
    "scrolled": true
   },
   "outputs": [],
   "source": [
    "def clean_days(dfs):\n",
    "    days = {}\n",
    "    for uid, df in dfs.items():\n",
    "        df = df[['mean']]\n",
    "        df = df.tz_localize('UTC').tz_convert('US/Pacific')\n",
    "        day_start = df.index[0].to_datetime()\n",
    "        day_start = pytz.timezone('US/Pacific').localize(datetime.datetime(year=day_start.year, month=day_start.month, day=day_start.day))\n",
    "        last_day = df.index[-1].to_datetime()\n",
    "        days[uid] = []\n",
    "        while day_start < last_day:\n",
    "            day_end = day_start+datetime.timedelta(days=1)\n",
    "            #print 'got day', pd.to_datetime(day_end)\n",
    "            day = df[day_start:day_end]\n",
    "            day.index = day.index.map(lambda x: datetime.datetime(year=2017, month=1, day=1, hour=x.hour, minute=x.minute, second=x.second))\n",
    "            days[uid].append(day)\n",
    "            day_start = day_end\n",
    "    return days"
   ]
  },
  {
   "cell_type": "code",
   "execution_count": 12,
   "metadata": {},
   "outputs": [
    {
     "ename": "KeyError",
     "evalue": "\"['mean'] not in index\"",
     "output_type": "error",
     "traceback": [
      "\u001b[0;31m---------------------------------------------------------------------------\u001b[0m",
      "\u001b[0;31mKeyError\u001b[0m                                  Traceback (most recent call last)",
      "\u001b[0;32m<ipython-input-12-797c92ec23b6>\u001b[0m in \u001b[0;36m<module>\u001b[0;34m()\u001b[0m\n\u001b[0;32m----> 1\u001b[0;31m \u001b[0mdays\u001b[0m \u001b[0;34m=\u001b[0m \u001b[0mclean_days\u001b[0m\u001b[0;34m(\u001b[0m\u001b[0mdfs\u001b[0m\u001b[0;34m)\u001b[0m\u001b[0;34m\u001b[0m\u001b[0m\n\u001b[0m",
      "\u001b[0;32m<ipython-input-11-574a52a1eaa6>\u001b[0m in \u001b[0;36mclean_days\u001b[0;34m(dfs)\u001b[0m\n\u001b[1;32m      2\u001b[0m     \u001b[0mdays\u001b[0m \u001b[0;34m=\u001b[0m \u001b[0;34m{\u001b[0m\u001b[0;34m}\u001b[0m\u001b[0;34m\u001b[0m\u001b[0m\n\u001b[1;32m      3\u001b[0m     \u001b[0;32mfor\u001b[0m \u001b[0muid\u001b[0m\u001b[0;34m,\u001b[0m \u001b[0mdf\u001b[0m \u001b[0;32min\u001b[0m \u001b[0mdfs\u001b[0m\u001b[0;34m.\u001b[0m\u001b[0mitems\u001b[0m\u001b[0;34m(\u001b[0m\u001b[0;34m)\u001b[0m\u001b[0;34m:\u001b[0m\u001b[0;34m\u001b[0m\u001b[0m\n\u001b[0;32m----> 4\u001b[0;31m         \u001b[0mdf\u001b[0m \u001b[0;34m=\u001b[0m \u001b[0mdf\u001b[0m\u001b[0;34m[\u001b[0m\u001b[0;34m[\u001b[0m\u001b[0;34m'mean'\u001b[0m\u001b[0;34m]\u001b[0m\u001b[0;34m]\u001b[0m\u001b[0;34m\u001b[0m\u001b[0m\n\u001b[0m\u001b[1;32m      5\u001b[0m         \u001b[0mdf\u001b[0m \u001b[0;34m=\u001b[0m \u001b[0mdf\u001b[0m\u001b[0;34m.\u001b[0m\u001b[0mtz_localize\u001b[0m\u001b[0;34m(\u001b[0m\u001b[0;34m'UTC'\u001b[0m\u001b[0;34m)\u001b[0m\u001b[0;34m.\u001b[0m\u001b[0mtz_convert\u001b[0m\u001b[0;34m(\u001b[0m\u001b[0;34m'US/Pacific'\u001b[0m\u001b[0;34m)\u001b[0m\u001b[0;34m\u001b[0m\u001b[0m\n\u001b[1;32m      6\u001b[0m         \u001b[0mday_start\u001b[0m \u001b[0;34m=\u001b[0m \u001b[0mdf\u001b[0m\u001b[0;34m.\u001b[0m\u001b[0mindex\u001b[0m\u001b[0;34m[\u001b[0m\u001b[0;36m0\u001b[0m\u001b[0;34m]\u001b[0m\u001b[0;34m.\u001b[0m\u001b[0mto_datetime\u001b[0m\u001b[0;34m(\u001b[0m\u001b[0;34m)\u001b[0m\u001b[0;34m\u001b[0m\u001b[0m\n",
      "\u001b[0;32m/usr/local/lib/python2.7/site-packages/pandas/core/frame.pyc\u001b[0m in \u001b[0;36m__getitem__\u001b[0;34m(self, key)\u001b[0m\n\u001b[1;32m   1956\u001b[0m         \u001b[0;32mif\u001b[0m \u001b[0misinstance\u001b[0m\u001b[0;34m(\u001b[0m\u001b[0mkey\u001b[0m\u001b[0;34m,\u001b[0m \u001b[0;34m(\u001b[0m\u001b[0mSeries\u001b[0m\u001b[0;34m,\u001b[0m \u001b[0mnp\u001b[0m\u001b[0;34m.\u001b[0m\u001b[0mndarray\u001b[0m\u001b[0;34m,\u001b[0m \u001b[0mIndex\u001b[0m\u001b[0;34m,\u001b[0m \u001b[0mlist\u001b[0m\u001b[0;34m)\u001b[0m\u001b[0;34m)\u001b[0m\u001b[0;34m:\u001b[0m\u001b[0;34m\u001b[0m\u001b[0m\n\u001b[1;32m   1957\u001b[0m             \u001b[0;31m# either boolean or fancy integer index\u001b[0m\u001b[0;34m\u001b[0m\u001b[0;34m\u001b[0m\u001b[0m\n\u001b[0;32m-> 1958\u001b[0;31m             \u001b[0;32mreturn\u001b[0m \u001b[0mself\u001b[0m\u001b[0;34m.\u001b[0m\u001b[0m_getitem_array\u001b[0m\u001b[0;34m(\u001b[0m\u001b[0mkey\u001b[0m\u001b[0;34m)\u001b[0m\u001b[0;34m\u001b[0m\u001b[0m\n\u001b[0m\u001b[1;32m   1959\u001b[0m         \u001b[0;32melif\u001b[0m \u001b[0misinstance\u001b[0m\u001b[0;34m(\u001b[0m\u001b[0mkey\u001b[0m\u001b[0;34m,\u001b[0m \u001b[0mDataFrame\u001b[0m\u001b[0;34m)\u001b[0m\u001b[0;34m:\u001b[0m\u001b[0;34m\u001b[0m\u001b[0m\n\u001b[1;32m   1960\u001b[0m             \u001b[0;32mreturn\u001b[0m \u001b[0mself\u001b[0m\u001b[0;34m.\u001b[0m\u001b[0m_getitem_frame\u001b[0m\u001b[0;34m(\u001b[0m\u001b[0mkey\u001b[0m\u001b[0;34m)\u001b[0m\u001b[0;34m\u001b[0m\u001b[0m\n",
      "\u001b[0;32m/usr/local/lib/python2.7/site-packages/pandas/core/frame.pyc\u001b[0m in \u001b[0;36m_getitem_array\u001b[0;34m(self, key)\u001b[0m\n\u001b[1;32m   2000\u001b[0m             \u001b[0;32mreturn\u001b[0m \u001b[0mself\u001b[0m\u001b[0;34m.\u001b[0m\u001b[0mtake\u001b[0m\u001b[0;34m(\u001b[0m\u001b[0mindexer\u001b[0m\u001b[0;34m,\u001b[0m \u001b[0maxis\u001b[0m\u001b[0;34m=\u001b[0m\u001b[0;36m0\u001b[0m\u001b[0;34m,\u001b[0m \u001b[0mconvert\u001b[0m\u001b[0;34m=\u001b[0m\u001b[0mFalse\u001b[0m\u001b[0;34m)\u001b[0m\u001b[0;34m\u001b[0m\u001b[0m\n\u001b[1;32m   2001\u001b[0m         \u001b[0;32melse\u001b[0m\u001b[0;34m:\u001b[0m\u001b[0;34m\u001b[0m\u001b[0m\n\u001b[0;32m-> 2002\u001b[0;31m             \u001b[0mindexer\u001b[0m \u001b[0;34m=\u001b[0m \u001b[0mself\u001b[0m\u001b[0;34m.\u001b[0m\u001b[0mloc\u001b[0m\u001b[0;34m.\u001b[0m\u001b[0m_convert_to_indexer\u001b[0m\u001b[0;34m(\u001b[0m\u001b[0mkey\u001b[0m\u001b[0;34m,\u001b[0m \u001b[0maxis\u001b[0m\u001b[0;34m=\u001b[0m\u001b[0;36m1\u001b[0m\u001b[0;34m)\u001b[0m\u001b[0;34m\u001b[0m\u001b[0m\n\u001b[0m\u001b[1;32m   2003\u001b[0m             \u001b[0;32mreturn\u001b[0m \u001b[0mself\u001b[0m\u001b[0;34m.\u001b[0m\u001b[0mtake\u001b[0m\u001b[0;34m(\u001b[0m\u001b[0mindexer\u001b[0m\u001b[0;34m,\u001b[0m \u001b[0maxis\u001b[0m\u001b[0;34m=\u001b[0m\u001b[0;36m1\u001b[0m\u001b[0;34m,\u001b[0m \u001b[0mconvert\u001b[0m\u001b[0;34m=\u001b[0m\u001b[0mTrue\u001b[0m\u001b[0;34m)\u001b[0m\u001b[0;34m\u001b[0m\u001b[0m\n\u001b[1;32m   2004\u001b[0m \u001b[0;34m\u001b[0m\u001b[0m\n",
      "\u001b[0;32m/usr/local/lib/python2.7/site-packages/pandas/core/indexing.pyc\u001b[0m in \u001b[0;36m_convert_to_indexer\u001b[0;34m(self, obj, axis, is_setter)\u001b[0m\n\u001b[1;32m   1229\u001b[0m                 \u001b[0mmask\u001b[0m \u001b[0;34m=\u001b[0m \u001b[0mcheck\u001b[0m \u001b[0;34m==\u001b[0m \u001b[0;34m-\u001b[0m\u001b[0;36m1\u001b[0m\u001b[0;34m\u001b[0m\u001b[0m\n\u001b[1;32m   1230\u001b[0m                 \u001b[0;32mif\u001b[0m \u001b[0mmask\u001b[0m\u001b[0;34m.\u001b[0m\u001b[0many\u001b[0m\u001b[0;34m(\u001b[0m\u001b[0;34m)\u001b[0m\u001b[0;34m:\u001b[0m\u001b[0;34m\u001b[0m\u001b[0m\n\u001b[0;32m-> 1231\u001b[0;31m                     \u001b[0;32mraise\u001b[0m \u001b[0mKeyError\u001b[0m\u001b[0;34m(\u001b[0m\u001b[0;34m'%s not in index'\u001b[0m \u001b[0;34m%\u001b[0m \u001b[0mobjarr\u001b[0m\u001b[0;34m[\u001b[0m\u001b[0mmask\u001b[0m\u001b[0;34m]\u001b[0m\u001b[0;34m)\u001b[0m\u001b[0;34m\u001b[0m\u001b[0m\n\u001b[0m\u001b[1;32m   1232\u001b[0m \u001b[0;34m\u001b[0m\u001b[0m\n\u001b[1;32m   1233\u001b[0m                 \u001b[0;32mreturn\u001b[0m \u001b[0m_values_from_object\u001b[0m\u001b[0;34m(\u001b[0m\u001b[0mindexer\u001b[0m\u001b[0;34m)\u001b[0m\u001b[0;34m\u001b[0m\u001b[0m\n",
      "\u001b[0;31mKeyError\u001b[0m: \"['mean'] not in index\""
     ]
    }
   ],
   "source": [
    "days = clean_days(dfs)"
   ]
  },
  {
   "cell_type": "code",
   "execution_count": null,
   "metadata": {
    "collapsed": true
   },
   "outputs": [],
   "source": [
    "alldays = pd.concat(days,axis=1).fillna(0)\n",
    "alldays.mean(axis=1).plot()"
   ]
  },
  {
   "cell_type": "code",
   "execution_count": null,
   "metadata": {
    "collapsed": true
   },
   "outputs": [],
   "source": [
    "for uid, subdays in days.items():\n",
    "    df = pd.concat(subdays, axis=1).fillna(0)\n",
    "    early = df[df['mean'] > 0].index.min()\n",
    "    late = df[df['mean'] > 0].index.max()\n",
    "    print mapping[uid],'has occupancy',early,late"
   ]
  },
  {
   "cell_type": "code",
   "execution_count": null,
   "metadata": {
    "collapsed": true
   },
   "outputs": [],
   "source": []
  },
  {
   "cell_type": "code",
   "execution_count": null,
   "metadata": {
    "collapsed": true
   },
   "outputs": [],
   "source": []
  },
  {
   "cell_type": "code",
   "execution_count": null,
   "metadata": {
    "collapsed": true
   },
   "outputs": [],
   "source": []
  },
  {
   "cell_type": "code",
   "execution_count": null,
   "metadata": {
    "collapsed": true
   },
   "outputs": [],
   "source": []
  },
  {
   "cell_type": "code",
   "execution_count": null,
   "metadata": {
    "collapsed": true
   },
   "outputs": [],
   "source": []
  }
 ],
 "metadata": {
  "kernelspec": {
   "display_name": "Python 2",
   "language": "python",
   "name": "python2"
  },
  "language_info": {
   "codemirror_mode": {
    "name": "ipython",
    "version": 2
   },
   "file_extension": ".py",
   "mimetype": "text/x-python",
   "name": "python",
   "nbconvert_exporter": "python",
   "pygments_lexer": "ipython2",
   "version": "2.7.13"
  }
 },
 "nbformat": 4,
 "nbformat_minor": 1
}
